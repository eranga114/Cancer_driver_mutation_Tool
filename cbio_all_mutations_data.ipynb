{
 "cells": [
  {
   "cell_type": "code",
   "execution_count": 1,
   "id": "c6610046",
   "metadata": {},
   "outputs": [],
   "source": [
    "import pandas as pd\n",
    "import csv\n",
    "import time\n",
    "from tqdm import tqdm"
   ]
  },
  {
   "cell_type": "markdown",
   "id": "5625e1d4",
   "metadata": {},
   "source": [
    "# Read all the mutations\n",
    "# filter data\n",
    "# count total mutations in a gene-export \n",
    "# Identify ACK1 mutations and export them"
   ]
  },
  {
   "cell_type": "code",
   "execution_count": 2,
   "id": "5dc5a53c",
   "metadata": {
    "scrolled": false
   },
   "outputs": [],
   "source": [
    "\"\"\"\n",
    "Read all the cBIO mutation data\n",
    "low_memory=False\n",
    "\"\"\"\n",
    "cBio_mutations_df= pd.read_csv ('cBIO_mutations.csv', names = ['gene_name', 'gene_id', 'mutationType', 'aminoAcidChange', 'mutproteinPosStart', 'mutproteinPosEnd', 'uniqueSampleKey', 'uniquePatientKey', 'molecularProfileId', 'sampleId', 'patientId', 'studyId', 'center', 'mutationStatus', 'validationStatus', 'tumorAltCount', 'tumorRefCount', 'normalAltCount', 'normalRefCount', 'startPosition', 'endPosition', 'referenceAllele', 'functionalImpactScore', 'fisValue', 'linkXvar', 'linkPdb', 'linkMsa', 'ncbiBuild', 'variantType', 'keyword', 'chrm', 'variantAllele', 'refseqMrnaId'], low_memory=False)\n"
   ]
  },
  {
   "cell_type": "code",
   "execution_count": 3,
   "id": "f7691b93",
   "metadata": {
    "scrolled": true
   },
   "outputs": [
    {
     "data": {
      "text/html": [
       "<div>\n",
       "<style scoped>\n",
       "    .dataframe tbody tr th:only-of-type {\n",
       "        vertical-align: middle;\n",
       "    }\n",
       "\n",
       "    .dataframe tbody tr th {\n",
       "        vertical-align: top;\n",
       "    }\n",
       "\n",
       "    .dataframe thead th {\n",
       "        text-align: right;\n",
       "    }\n",
       "</style>\n",
       "<table border=\"1\" class=\"dataframe\">\n",
       "  <thead>\n",
       "    <tr style=\"text-align: right;\">\n",
       "      <th></th>\n",
       "      <th>gene_name</th>\n",
       "      <th>gene_id</th>\n",
       "      <th>mutationType</th>\n",
       "      <th>aminoAcidChange</th>\n",
       "      <th>mutproteinPosStart</th>\n",
       "      <th>mutproteinPosEnd</th>\n",
       "      <th>uniqueSampleKey</th>\n",
       "      <th>uniquePatientKey</th>\n",
       "      <th>molecularProfileId</th>\n",
       "      <th>sampleId</th>\n",
       "      <th>...</th>\n",
       "      <th>fisValue</th>\n",
       "      <th>linkXvar</th>\n",
       "      <th>linkPdb</th>\n",
       "      <th>linkMsa</th>\n",
       "      <th>ncbiBuild</th>\n",
       "      <th>variantType</th>\n",
       "      <th>keyword</th>\n",
       "      <th>chrm</th>\n",
       "      <th>variantAllele</th>\n",
       "      <th>refseqMrnaId</th>\n",
       "    </tr>\n",
       "  </thead>\n",
       "  <tbody>\n",
       "    <tr>\n",
       "      <th>0</th>\n",
       "      <td>HRAS</td>\n",
       "      <td>3265</td>\n",
       "      <td>Missense_Mutation</td>\n",
       "      <td>G13R</td>\n",
       "      <td>13</td>\n",
       "      <td>13</td>\n",
       "      <td>TFVBRC0yR1VHSy1UdW1vcjpuc2NsY190Y2dhX2Jyb2FkX...</td>\n",
       "      <td>TFVBRC0yR1VHSzpuc2NsY190Y2dhX2Jyb2FkXzIwMTY</td>\n",
       "      <td>nsclc_tcga_broad_2016_mutations</td>\n",
       "      <td>LUAD-2GUGK-Tumor</td>\n",
       "      <td>...</td>\n",
       "      <td>1.401300e-45</td>\n",
       "      <td></td>\n",
       "      <td></td>\n",
       "      <td></td>\n",
       "      <td>GRCh37</td>\n",
       "      <td>SNP</td>\n",
       "      <td>HRAS G13 missense</td>\n",
       "      <td>11</td>\n",
       "      <td>G</td>\n",
       "      <td>NA</td>\n",
       "    </tr>\n",
       "    <tr>\n",
       "      <th>1</th>\n",
       "      <td>PCDH9</td>\n",
       "      <td>5101</td>\n",
       "      <td>Missense_Mutation</td>\n",
       "      <td>E534K</td>\n",
       "      <td>534</td>\n",
       "      <td>534</td>\n",
       "      <td>TFVBRC0yR1VHSy1UdW1vcjpuc2NsY190Y2dhX2Jyb2FkX...</td>\n",
       "      <td>TFVBRC0yR1VHSzpuc2NsY190Y2dhX2Jyb2FkXzIwMTY</td>\n",
       "      <td>nsclc_tcga_broad_2016_mutations</td>\n",
       "      <td>LUAD-2GUGK-Tumor</td>\n",
       "      <td>...</td>\n",
       "      <td>1.401300e-45</td>\n",
       "      <td></td>\n",
       "      <td></td>\n",
       "      <td></td>\n",
       "      <td>GRCh37</td>\n",
       "      <td>SNP</td>\n",
       "      <td>PCDH9 E534 missense</td>\n",
       "      <td>13</td>\n",
       "      <td>T</td>\n",
       "      <td>NA</td>\n",
       "    </tr>\n",
       "    <tr>\n",
       "      <th>2</th>\n",
       "      <td>B3GALT1</td>\n",
       "      <td>8708</td>\n",
       "      <td>Missense_Mutation</td>\n",
       "      <td>S237L</td>\n",
       "      <td>237</td>\n",
       "      <td>237</td>\n",
       "      <td>TFVBRC0yR1VHSy1UdW1vcjpuc2NsY190Y2dhX2Jyb2FkX...</td>\n",
       "      <td>TFVBRC0yR1VHSzpuc2NsY190Y2dhX2Jyb2FkXzIwMTY</td>\n",
       "      <td>nsclc_tcga_broad_2016_mutations</td>\n",
       "      <td>LUAD-2GUGK-Tumor</td>\n",
       "      <td>...</td>\n",
       "      <td>1.401300e-45</td>\n",
       "      <td></td>\n",
       "      <td></td>\n",
       "      <td></td>\n",
       "      <td>GRCh37</td>\n",
       "      <td>SNP</td>\n",
       "      <td>B3GALT1 S237 missense</td>\n",
       "      <td>2</td>\n",
       "      <td>T</td>\n",
       "      <td>NA</td>\n",
       "    </tr>\n",
       "    <tr>\n",
       "      <th>3</th>\n",
       "      <td>TTYH2</td>\n",
       "      <td>94015</td>\n",
       "      <td>Missense_Mutation</td>\n",
       "      <td>R439C</td>\n",
       "      <td>439</td>\n",
       "      <td>439</td>\n",
       "      <td>TFVBRC0yR1VHSy1UdW1vcjpuc2NsY190Y2dhX2Jyb2FkX...</td>\n",
       "      <td>TFVBRC0yR1VHSzpuc2NsY190Y2dhX2Jyb2FkXzIwMTY</td>\n",
       "      <td>nsclc_tcga_broad_2016_mutations</td>\n",
       "      <td>LUAD-2GUGK-Tumor</td>\n",
       "      <td>...</td>\n",
       "      <td>1.401300e-45</td>\n",
       "      <td></td>\n",
       "      <td></td>\n",
       "      <td></td>\n",
       "      <td>GRCh37</td>\n",
       "      <td>SNP</td>\n",
       "      <td>TTYH2 R439 missense</td>\n",
       "      <td>17</td>\n",
       "      <td>T</td>\n",
       "      <td>NM_032646.5</td>\n",
       "    </tr>\n",
       "    <tr>\n",
       "      <th>4</th>\n",
       "      <td>ITK</td>\n",
       "      <td>3702</td>\n",
       "      <td>Missense_Mutation</td>\n",
       "      <td>L106I</td>\n",
       "      <td>106</td>\n",
       "      <td>106</td>\n",
       "      <td>TFVBRC0yR1VHSy1UdW1vcjpuc2NsY190Y2dhX2Jyb2FkX...</td>\n",
       "      <td>TFVBRC0yR1VHSzpuc2NsY190Y2dhX2Jyb2FkXzIwMTY</td>\n",
       "      <td>nsclc_tcga_broad_2016_mutations</td>\n",
       "      <td>LUAD-2GUGK-Tumor</td>\n",
       "      <td>...</td>\n",
       "      <td>1.401300e-45</td>\n",
       "      <td></td>\n",
       "      <td></td>\n",
       "      <td></td>\n",
       "      <td>GRCh37</td>\n",
       "      <td>SNP</td>\n",
       "      <td>ITK L106 missense</td>\n",
       "      <td>5</td>\n",
       "      <td>A</td>\n",
       "      <td>NM_005546.3</td>\n",
       "    </tr>\n",
       "  </tbody>\n",
       "</table>\n",
       "<p>5 rows × 33 columns</p>\n",
       "</div>"
      ],
      "text/plain": [
       "  gene_name  gene_id        mutationType aminoAcidChange  mutproteinPosStart  \\\n",
       "0      HRAS     3265   Missense_Mutation            G13R                  13   \n",
       "1     PCDH9     5101   Missense_Mutation           E534K                 534   \n",
       "2   B3GALT1     8708   Missense_Mutation           S237L                 237   \n",
       "3     TTYH2    94015   Missense_Mutation           R439C                 439   \n",
       "4       ITK     3702   Missense_Mutation           L106I                 106   \n",
       "\n",
       "   mutproteinPosEnd                                    uniqueSampleKey  \\\n",
       "0                13   TFVBRC0yR1VHSy1UdW1vcjpuc2NsY190Y2dhX2Jyb2FkX...   \n",
       "1               534   TFVBRC0yR1VHSy1UdW1vcjpuc2NsY190Y2dhX2Jyb2FkX...   \n",
       "2               237   TFVBRC0yR1VHSy1UdW1vcjpuc2NsY190Y2dhX2Jyb2FkX...   \n",
       "3               439   TFVBRC0yR1VHSy1UdW1vcjpuc2NsY190Y2dhX2Jyb2FkX...   \n",
       "4               106   TFVBRC0yR1VHSy1UdW1vcjpuc2NsY190Y2dhX2Jyb2FkX...   \n",
       "\n",
       "                               uniquePatientKey  \\\n",
       "0   TFVBRC0yR1VHSzpuc2NsY190Y2dhX2Jyb2FkXzIwMTY   \n",
       "1   TFVBRC0yR1VHSzpuc2NsY190Y2dhX2Jyb2FkXzIwMTY   \n",
       "2   TFVBRC0yR1VHSzpuc2NsY190Y2dhX2Jyb2FkXzIwMTY   \n",
       "3   TFVBRC0yR1VHSzpuc2NsY190Y2dhX2Jyb2FkXzIwMTY   \n",
       "4   TFVBRC0yR1VHSzpuc2NsY190Y2dhX2Jyb2FkXzIwMTY   \n",
       "\n",
       "                 molecularProfileId           sampleId  ...      fisValue  \\\n",
       "0   nsclc_tcga_broad_2016_mutations   LUAD-2GUGK-Tumor  ...  1.401300e-45   \n",
       "1   nsclc_tcga_broad_2016_mutations   LUAD-2GUGK-Tumor  ...  1.401300e-45   \n",
       "2   nsclc_tcga_broad_2016_mutations   LUAD-2GUGK-Tumor  ...  1.401300e-45   \n",
       "3   nsclc_tcga_broad_2016_mutations   LUAD-2GUGK-Tumor  ...  1.401300e-45   \n",
       "4   nsclc_tcga_broad_2016_mutations   LUAD-2GUGK-Tumor  ...  1.401300e-45   \n",
       "\n",
       "  linkXvar linkPdb linkMsa ncbiBuild variantType                 keyword chrm  \\\n",
       "0                             GRCh37         SNP       HRAS G13 missense   11   \n",
       "1                             GRCh37         SNP     PCDH9 E534 missense   13   \n",
       "2                             GRCh37         SNP   B3GALT1 S237 missense    2   \n",
       "3                             GRCh37         SNP     TTYH2 R439 missense   17   \n",
       "4                             GRCh37         SNP       ITK L106 missense    5   \n",
       "\n",
       "  variantAllele  refseqMrnaId  \n",
       "0             G            NA  \n",
       "1             T            NA  \n",
       "2             T            NA  \n",
       "3             T   NM_032646.5  \n",
       "4             A   NM_005546.3  \n",
       "\n",
       "[5 rows x 33 columns]"
      ]
     },
     "execution_count": 3,
     "metadata": {},
     "output_type": "execute_result"
    }
   ],
   "source": [
    "cBio_mutations_df.head(5)"
   ]
  },
  {
   "cell_type": "code",
   "execution_count": 4,
   "id": "4d782288",
   "metadata": {},
   "outputs": [
    {
     "data": {
      "text/plain": [
       "46177819"
      ]
     },
     "execution_count": 4,
     "metadata": {},
     "output_type": "execute_result"
    }
   ],
   "source": [
    "len(cBio_mutations_df)"
   ]
  },
  {
   "cell_type": "code",
   "execution_count": 5,
   "id": "d434cd1a",
   "metadata": {},
   "outputs": [],
   "source": [
    "\"\"\"\n",
    "Remove duplicated rows\n",
    "\"\"\"\n",
    "cBio_mutations_no_duplicates = cBio_mutations_df.drop_duplicates()"
   ]
  },
  {
   "cell_type": "code",
   "execution_count": 6,
   "id": "7dd99d48",
   "metadata": {},
   "outputs": [
    {
     "data": {
      "text/plain": [
       "8235921"
      ]
     },
     "execution_count": 6,
     "metadata": {},
     "output_type": "execute_result"
    }
   ],
   "source": [
    "len(cBio_mutations_no_duplicates)"
   ]
  },
  {
   "cell_type": "code",
   "execution_count": 7,
   "id": "6b9915c4",
   "metadata": {},
   "outputs": [
    {
     "data": {
      "text/plain": [
       "8235921"
      ]
     },
     "execution_count": 7,
     "metadata": {},
     "output_type": "execute_result"
    }
   ],
   "source": [
    "len(cBio_mutations_no_duplicates)"
   ]
  },
  {
   "cell_type": "code",
   "execution_count": 8,
   "id": "877bb9ed",
   "metadata": {},
   "outputs": [
    {
     "data": {
      "text/plain": [
       "'\\ncan use the chuncksize feature when I have lots of data\\n'"
      ]
     },
     "execution_count": 8,
     "metadata": {},
     "output_type": "execute_result"
    }
   ],
   "source": [
    "\"\"\"\n",
    "can use the chuncksize feature when I have lots of data\n",
    "\"\"\"\n",
    "# chunksize = 10**6\n",
    "# cBio_mutations_df= pd.read_csv ('cBIO_mutations.csv', names = ['patient_ID', 'sample_ID', 'sample_type', 'unique_patient_key', 'unique_sample_key'], chunksize = chunksize)"
   ]
  },
  {
   "cell_type": "code",
   "execution_count": 9,
   "id": "9562b4b9",
   "metadata": {},
   "outputs": [],
   "source": [
    "\"\"\"\n",
    "Sort all the mutations by 'gene_id' and 'aminoAcidChange'\n",
    "\"\"\"\n",
    "# cBio_mutations_sorted_df = cBio_mutations_df.sort_value(by=['gene_id', 'aminoAcidChange'], ascending=[True, True])\n",
    "cBio_mutations_sorted_df = cBio_mutations_no_duplicates.sort_values(['gene_id', 'mutproteinPosStart'], ascending=[True, True])"
   ]
  },
  {
   "cell_type": "code",
   "execution_count": 10,
   "id": "a92c3075",
   "metadata": {
    "scrolled": true
   },
   "outputs": [
    {
     "data": {
      "text/html": [
       "<div>\n",
       "<style scoped>\n",
       "    .dataframe tbody tr th:only-of-type {\n",
       "        vertical-align: middle;\n",
       "    }\n",
       "\n",
       "    .dataframe tbody tr th {\n",
       "        vertical-align: top;\n",
       "    }\n",
       "\n",
       "    .dataframe thead th {\n",
       "        text-align: right;\n",
       "    }\n",
       "</style>\n",
       "<table border=\"1\" class=\"dataframe\">\n",
       "  <thead>\n",
       "    <tr style=\"text-align: right;\">\n",
       "      <th></th>\n",
       "      <th>gene_name</th>\n",
       "      <th>gene_id</th>\n",
       "      <th>mutationType</th>\n",
       "      <th>aminoAcidChange</th>\n",
       "      <th>mutproteinPosStart</th>\n",
       "      <th>mutproteinPosEnd</th>\n",
       "      <th>uniqueSampleKey</th>\n",
       "      <th>uniquePatientKey</th>\n",
       "      <th>molecularProfileId</th>\n",
       "      <th>sampleId</th>\n",
       "      <th>...</th>\n",
       "      <th>fisValue</th>\n",
       "      <th>linkXvar</th>\n",
       "      <th>linkPdb</th>\n",
       "      <th>linkMsa</th>\n",
       "      <th>ncbiBuild</th>\n",
       "      <th>variantType</th>\n",
       "      <th>keyword</th>\n",
       "      <th>chrm</th>\n",
       "      <th>variantAllele</th>\n",
       "      <th>refseqMrnaId</th>\n",
       "    </tr>\n",
       "  </thead>\n",
       "  <tbody>\n",
       "    <tr>\n",
       "      <th>40396918</th>\n",
       "      <td>MIR-4710/4710</td>\n",
       "      <td>-3334</td>\n",
       "      <td>Splice_Site</td>\n",
       "      <td>MUTATED</td>\n",
       "      <td>-1</td>\n",
       "      <td>-1</td>\n",
       "      <td>Y3NjYy11Y3NmLTIwMjEtU2FtcGxlNjI6Y3NjY191Y3NmX...</td>\n",
       "      <td>Y3NjYy11Y3NmLTIwMjEtUGF0aWVudDU5OmNzY2NfdWNzZ...</td>\n",
       "      <td>cscc_ucsf_2021_mutations</td>\n",
       "      <td>cscc-ucsf-2021-Sample62</td>\n",
       "      <td>...</td>\n",
       "      <td>1.401300e-45</td>\n",
       "      <td></td>\n",
       "      <td></td>\n",
       "      <td></td>\n",
       "      <td>GRCh37</td>\n",
       "      <td>SNP</td>\n",
       "      <td>MIR-4710/4710 truncating</td>\n",
       "      <td>14</td>\n",
       "      <td>T</td>\n",
       "      <td>NA</td>\n",
       "    </tr>\n",
       "    <tr>\n",
       "      <th>7101012</th>\n",
       "      <td>MIR-4436A/4436A</td>\n",
       "      <td>-3084</td>\n",
       "      <td>Splice_Site</td>\n",
       "      <td>X66_splice</td>\n",
       "      <td>66</td>\n",
       "      <td>66</td>\n",
       "      <td>VENHQS0xOC00MDgzLTAxOmx1c2NfdGNnYV9wYW5fY2FuX...</td>\n",
       "      <td>VENHQS0xOC00MDgzOmx1c2NfdGNnYV9wYW5fY2FuX2F0b...</td>\n",
       "      <td>lusc_tcga_pan_can_atlas_2018_mutations</td>\n",
       "      <td>TCGA-18-4083-01</td>\n",
       "      <td>...</td>\n",
       "      <td>1.401300e-45</td>\n",
       "      <td></td>\n",
       "      <td></td>\n",
       "      <td></td>\n",
       "      <td>GRCh37</td>\n",
       "      <td>SNP</td>\n",
       "      <td>MIR-4436A/4436A truncating</td>\n",
       "      <td>2</td>\n",
       "      <td>C</td>\n",
       "      <td>NA</td>\n",
       "    </tr>\n",
       "  </tbody>\n",
       "</table>\n",
       "<p>2 rows × 33 columns</p>\n",
       "</div>"
      ],
      "text/plain": [
       "                gene_name  gene_id  mutationType aminoAcidChange  \\\n",
       "40396918    MIR-4710/4710    -3334   Splice_Site         MUTATED   \n",
       "7101012   MIR-4436A/4436A    -3084   Splice_Site      X66_splice   \n",
       "\n",
       "          mutproteinPosStart  mutproteinPosEnd  \\\n",
       "40396918                  -1                -1   \n",
       "7101012                   66                66   \n",
       "\n",
       "                                            uniqueSampleKey  \\\n",
       "40396918   Y3NjYy11Y3NmLTIwMjEtU2FtcGxlNjI6Y3NjY191Y3NmX...   \n",
       "7101012    VENHQS0xOC00MDgzLTAxOmx1c2NfdGNnYV9wYW5fY2FuX...   \n",
       "\n",
       "                                           uniquePatientKey  \\\n",
       "40396918   Y3NjYy11Y3NmLTIwMjEtUGF0aWVudDU5OmNzY2NfdWNzZ...   \n",
       "7101012    VENHQS0xOC00MDgzOmx1c2NfdGNnYV9wYW5fY2FuX2F0b...   \n",
       "\n",
       "                               molecularProfileId                  sampleId  \\\n",
       "40396918                 cscc_ucsf_2021_mutations   cscc-ucsf-2021-Sample62   \n",
       "7101012    lusc_tcga_pan_can_atlas_2018_mutations           TCGA-18-4083-01   \n",
       "\n",
       "          ...      fisValue linkXvar linkPdb linkMsa ncbiBuild variantType  \\\n",
       "40396918  ...  1.401300e-45                             GRCh37         SNP   \n",
       "7101012   ...  1.401300e-45                             GRCh37         SNP   \n",
       "\n",
       "                              keyword chrm variantAllele  refseqMrnaId  \n",
       "40396918     MIR-4710/4710 truncating   14             T            NA  \n",
       "7101012    MIR-4436A/4436A truncating    2             C            NA  \n",
       "\n",
       "[2 rows x 33 columns]"
      ]
     },
     "execution_count": 10,
     "metadata": {},
     "output_type": "execute_result"
    }
   ],
   "source": [
    "cBio_mutations_sorted_df.head(2)"
   ]
  },
  {
   "cell_type": "code",
   "execution_count": 11,
   "id": "8b243d6c",
   "metadata": {},
   "outputs": [],
   "source": [
    "\"\"\"\n",
    "export cBio_mutations_sorted_df\n",
    "\"\"\"\n",
    "cBio_mutations_sorted_df.to_csv('cBio_mutations_sorted.csv', columns = ['gene_name', 'gene_id', 'mutationType', 'aminoAcidChange', 'mutproteinPosStart', 'mutproteinPosEnd', 'uniqueSampleKey', 'uniquePatientKey', 'molecularProfileId', 'sampleId', 'patientId', 'studyId', 'center', 'mutationStatus', 'validationStatus', 'tumorAltCount', 'tumorRefCount', 'normalAltCount', 'normalRefCount', 'startPosition', 'endPosition', 'referenceAllele', 'functionalImpactScore', 'fisValue', 'linkXvar', 'linkPdb', 'linkMsa', 'ncbiBuild', 'variantType', 'keyword', 'chrm', 'variantAllele', 'refseqMrnaId'], index = False)"
   ]
  },
  {
   "cell_type": "markdown",
   "id": "f827eb1c",
   "metadata": {},
   "source": [
    "# Start from here"
   ]
  },
  {
   "cell_type": "code",
   "execution_count": 12,
   "id": "65597afa",
   "metadata": {},
   "outputs": [],
   "source": [
    "\"\"\"\n",
    "Read all the cBIO mutation data\n",
    "low_memory=False\n",
    "\"\"\"\n",
    "cBio_mutations_sorted_df1= pd.read_csv ('cBio_mutations_sorted.csv', names = ['gene_name', 'gene_id', 'mutationType', 'aminoAcidChange', 'mutproteinPosStart', 'mutproteinPosEnd', 'uniqueSampleKey', 'uniquePatientKey', 'molecularProfileId', 'sampleId', 'patientId', 'studyId', 'center', 'mutationStatus', 'validationStatus', 'tumorAltCount', 'tumorRefCount', 'normalAltCount', 'normalRefCount', 'startPosition', 'endPosition', 'referenceAllele', 'functionalImpactScore', 'fisValue', 'linkXvar', 'linkPdb', 'linkMsa', 'ncbiBuild', 'variantType', 'keyword', 'chrm', 'variantAllele', 'refseqMrnaId'], low_memory=False)\n"
   ]
  },
  {
   "cell_type": "code",
   "execution_count": 13,
   "id": "fd1eaba3",
   "metadata": {},
   "outputs": [
    {
     "data": {
      "text/plain": [
       "8235922"
      ]
     },
     "execution_count": 13,
     "metadata": {},
     "output_type": "execute_result"
    }
   ],
   "source": [
    "len(cBio_mutations_sorted_df1)"
   ]
  },
  {
   "cell_type": "code",
   "execution_count": 14,
   "id": "eca53580",
   "metadata": {},
   "outputs": [],
   "source": [
    "\"\"\"\n",
    "identify any duplicated data ????\n",
    "\"\"\"\n",
    "duplicate_df = cBio_mutations_sorted_df1.loc[cBio_mutations_sorted_df1.duplicated(), :]"
   ]
  },
  {
   "cell_type": "code",
   "execution_count": 15,
   "id": "6e22844d",
   "metadata": {},
   "outputs": [
    {
     "data": {
      "text/plain": [
       "0"
      ]
     },
     "execution_count": 15,
     "metadata": {},
     "output_type": "execute_result"
    }
   ],
   "source": [
    "len(duplicate_df)"
   ]
  },
  {
   "cell_type": "code",
   "execution_count": 16,
   "id": "57d14ff6",
   "metadata": {},
   "outputs": [
    {
     "data": {
      "text/html": [
       "<div>\n",
       "<style scoped>\n",
       "    .dataframe tbody tr th:only-of-type {\n",
       "        vertical-align: middle;\n",
       "    }\n",
       "\n",
       "    .dataframe tbody tr th {\n",
       "        vertical-align: top;\n",
       "    }\n",
       "\n",
       "    .dataframe thead th {\n",
       "        text-align: right;\n",
       "    }\n",
       "</style>\n",
       "<table border=\"1\" class=\"dataframe\">\n",
       "  <thead>\n",
       "    <tr style=\"text-align: right;\">\n",
       "      <th></th>\n",
       "      <th>gene_name</th>\n",
       "      <th>gene_id</th>\n",
       "      <th>mutationType</th>\n",
       "      <th>aminoAcidChange</th>\n",
       "      <th>mutproteinPosStart</th>\n",
       "      <th>mutproteinPosEnd</th>\n",
       "      <th>uniqueSampleKey</th>\n",
       "      <th>uniquePatientKey</th>\n",
       "      <th>molecularProfileId</th>\n",
       "      <th>sampleId</th>\n",
       "      <th>...</th>\n",
       "      <th>fisValue</th>\n",
       "      <th>linkXvar</th>\n",
       "      <th>linkPdb</th>\n",
       "      <th>linkMsa</th>\n",
       "      <th>ncbiBuild</th>\n",
       "      <th>variantType</th>\n",
       "      <th>keyword</th>\n",
       "      <th>chrm</th>\n",
       "      <th>variantAllele</th>\n",
       "      <th>refseqMrnaId</th>\n",
       "    </tr>\n",
       "  </thead>\n",
       "  <tbody>\n",
       "  </tbody>\n",
       "</table>\n",
       "<p>0 rows × 33 columns</p>\n",
       "</div>"
      ],
      "text/plain": [
       "Empty DataFrame\n",
       "Columns: [gene_name, gene_id, mutationType, aminoAcidChange, mutproteinPosStart, mutproteinPosEnd, uniqueSampleKey, uniquePatientKey, molecularProfileId, sampleId, patientId, studyId, center, mutationStatus, validationStatus, tumorAltCount, tumorRefCount, normalAltCount, normalRefCount, startPosition, endPosition, referenceAllele, functionalImpactScore, fisValue, linkXvar, linkPdb, linkMsa, ncbiBuild, variantType, keyword, chrm, variantAllele, refseqMrnaId]\n",
       "Index: []\n",
       "\n",
       "[0 rows x 33 columns]"
      ]
     },
     "execution_count": 16,
     "metadata": {},
     "output_type": "execute_result"
    }
   ],
   "source": [
    "duplicate_df.head(3)"
   ]
  },
  {
   "cell_type": "code",
   "execution_count": 17,
   "id": "4beca9bb",
   "metadata": {},
   "outputs": [],
   "source": [
    "\"\"\"\n",
    "drop duplicates and keep the 1st \n",
    "\"\"\"\n",
    "cBio_mutations_sorted_filt = cBio_mutations_sorted_df1.drop_duplicates()"
   ]
  },
  {
   "cell_type": "code",
   "execution_count": 18,
   "id": "8ef7b0f5",
   "metadata": {},
   "outputs": [
    {
     "data": {
      "text/plain": [
       "8235922"
      ]
     },
     "execution_count": 18,
     "metadata": {},
     "output_type": "execute_result"
    }
   ],
   "source": [
    "len(cBio_mutations_sorted_filt)"
   ]
  },
  {
   "cell_type": "code",
   "execution_count": 18,
   "id": "d17a14ac",
   "metadata": {},
   "outputs": [
    {
     "data": {
      "text/plain": [
       "8235922"
      ]
     },
     "execution_count": 18,
     "metadata": {},
     "output_type": "execute_result"
    }
   ],
   "source": [
    "len(cBio_mutations_sorted_filt)"
   ]
  },
  {
   "cell_type": "code",
   "execution_count": 70,
   "id": "eb3da328",
   "metadata": {},
   "outputs": [
    {
     "data": {
      "text/plain": [
       "Index(['gene_name', 'gene_id', 'mutationType', 'aminoAcidChange',\n",
       "       'mutproteinPosStart', 'mutproteinPosEnd', 'uniqueSampleKey',\n",
       "       'uniquePatientKey', 'molecularProfileId', 'sampleId', 'patientId',\n",
       "       'studyId', 'center', 'mutationStatus', 'validationStatus',\n",
       "       'tumorAltCount', 'tumorRefCount', 'normalAltCount', 'normalRefCount',\n",
       "       'startPosition', 'endPosition', 'referenceAllele',\n",
       "       'functionalImpactScore', 'fisValue', 'linkXvar', 'linkPdb', 'linkMsa',\n",
       "       'ncbiBuild', 'variantType', 'keyword', 'chrm', 'variantAllele',\n",
       "       'refseqMrnaId'],\n",
       "      dtype='object')"
      ]
     },
     "execution_count": 70,
     "metadata": {},
     "output_type": "execute_result"
    }
   ],
   "source": [
    "cBio_mutations_sorted_filt.columns"
   ]
  },
  {
   "cell_type": "code",
   "execution_count": 71,
   "id": "4dee3eb8",
   "metadata": {},
   "outputs": [],
   "source": [
    "\"\"\"\n",
    "ASSUMPTION\n",
    "1 PATIENT_ID PER 1 SAMPLE PER MUTATED GENE\n",
    "\"\"\"\n",
    "cBio_mutations_sorted_filt_final = cBio_mutations_sorted_filt.drop_duplicates(subset =['patientId', 'gene_id']).reset_index(drop = True)\n"
   ]
  },
  {
   "cell_type": "code",
   "execution_count": 84,
   "id": "80da9275",
   "metadata": {},
   "outputs": [
    {
     "data": {
      "text/html": [
       "<div>\n",
       "<style scoped>\n",
       "    .dataframe tbody tr th:only-of-type {\n",
       "        vertical-align: middle;\n",
       "    }\n",
       "\n",
       "    .dataframe tbody tr th {\n",
       "        vertical-align: top;\n",
       "    }\n",
       "\n",
       "    .dataframe thead th {\n",
       "        text-align: right;\n",
       "    }\n",
       "</style>\n",
       "<table border=\"1\" class=\"dataframe\">\n",
       "  <thead>\n",
       "    <tr style=\"text-align: right;\">\n",
       "      <th></th>\n",
       "      <th>gene_name</th>\n",
       "      <th>gene_id</th>\n",
       "      <th>mutationType</th>\n",
       "      <th>aminoAcidChange</th>\n",
       "      <th>mutproteinPosStart</th>\n",
       "      <th>mutproteinPosEnd</th>\n",
       "      <th>uniqueSampleKey</th>\n",
       "      <th>uniquePatientKey</th>\n",
       "      <th>molecularProfileId</th>\n",
       "      <th>sampleId</th>\n",
       "      <th>...</th>\n",
       "      <th>fisValue</th>\n",
       "      <th>linkXvar</th>\n",
       "      <th>linkPdb</th>\n",
       "      <th>linkMsa</th>\n",
       "      <th>ncbiBuild</th>\n",
       "      <th>variantType</th>\n",
       "      <th>keyword</th>\n",
       "      <th>chrm</th>\n",
       "      <th>variantAllele</th>\n",
       "      <th>refseqMrnaId</th>\n",
       "    </tr>\n",
       "  </thead>\n",
       "  <tbody>\n",
       "    <tr>\n",
       "      <th>0</th>\n",
       "      <td>gene_name</td>\n",
       "      <td>gene_id</td>\n",
       "      <td>mutationType</td>\n",
       "      <td>aminoAcidChange</td>\n",
       "      <td>mutproteinPosStart</td>\n",
       "      <td>mutproteinPosEnd</td>\n",
       "      <td>uniqueSampleKey</td>\n",
       "      <td>uniquePatientKey</td>\n",
       "      <td>molecularProfileId</td>\n",
       "      <td>sampleId</td>\n",
       "      <td>...</td>\n",
       "      <td>fisValue</td>\n",
       "      <td>linkXvar</td>\n",
       "      <td>linkPdb</td>\n",
       "      <td>linkMsa</td>\n",
       "      <td>ncbiBuild</td>\n",
       "      <td>variantType</td>\n",
       "      <td>keyword</td>\n",
       "      <td>chrm</td>\n",
       "      <td>variantAllele</td>\n",
       "      <td>refseqMrnaId</td>\n",
       "    </tr>\n",
       "    <tr>\n",
       "      <th>1</th>\n",
       "      <td>MIR-4710/4710</td>\n",
       "      <td>-3334</td>\n",
       "      <td>Splice_Site</td>\n",
       "      <td>MUTATED</td>\n",
       "      <td>-1</td>\n",
       "      <td>-1</td>\n",
       "      <td>Y3NjYy11Y3NmLTIwMjEtU2FtcGxlNjI6Y3NjY191Y3NmXz...</td>\n",
       "      <td>Y3NjYy11Y3NmLTIwMjEtUGF0aWVudDU5OmNzY2NfdWNzZ...</td>\n",
       "      <td>cscc_ucsf_2021_mutations</td>\n",
       "      <td>cscc-ucsf-2021-Sample62</td>\n",
       "      <td>...</td>\n",
       "      <td>1.4013e-45</td>\n",
       "      <td></td>\n",
       "      <td></td>\n",
       "      <td></td>\n",
       "      <td>GRCh37</td>\n",
       "      <td>SNP</td>\n",
       "      <td>MIR-4710/4710 truncating</td>\n",
       "      <td>14</td>\n",
       "      <td>T</td>\n",
       "      <td>NA</td>\n",
       "    </tr>\n",
       "    <tr>\n",
       "      <th>2</th>\n",
       "      <td>MIR-4436A/4436A</td>\n",
       "      <td>-3084</td>\n",
       "      <td>Splice_Site</td>\n",
       "      <td>X66_splice</td>\n",
       "      <td>66</td>\n",
       "      <td>66</td>\n",
       "      <td>VENHQS0xOC00MDgzLTAxOmx1c2NfdGNnYV9wYW5fY2FuX2...</td>\n",
       "      <td>VENHQS0xOC00MDgzOmx1c2NfdGNnYV9wYW5fY2FuX2F0b...</td>\n",
       "      <td>lusc_tcga_pan_can_atlas_2018_mutations</td>\n",
       "      <td>TCGA-18-4083-01</td>\n",
       "      <td>...</td>\n",
       "      <td>1.4013e-45</td>\n",
       "      <td></td>\n",
       "      <td></td>\n",
       "      <td></td>\n",
       "      <td>GRCh37</td>\n",
       "      <td>SNP</td>\n",
       "      <td>MIR-4436A/4436A truncating</td>\n",
       "      <td>2</td>\n",
       "      <td>C</td>\n",
       "      <td>NA</td>\n",
       "    </tr>\n",
       "  </tbody>\n",
       "</table>\n",
       "<p>3 rows × 33 columns</p>\n",
       "</div>"
      ],
      "text/plain": [
       "         gene_name  gene_id  mutationType  aminoAcidChange  \\\n",
       "0        gene_name  gene_id  mutationType  aminoAcidChange   \n",
       "1    MIR-4710/4710    -3334   Splice_Site          MUTATED   \n",
       "2  MIR-4436A/4436A    -3084   Splice_Site       X66_splice   \n",
       "\n",
       "   mutproteinPosStart  mutproteinPosEnd  \\\n",
       "0  mutproteinPosStart  mutproteinPosEnd   \n",
       "1                  -1                -1   \n",
       "2                  66                66   \n",
       "\n",
       "                                     uniqueSampleKey  \\\n",
       "0                                    uniqueSampleKey   \n",
       "1  Y3NjYy11Y3NmLTIwMjEtU2FtcGxlNjI6Y3NjY191Y3NmXz...   \n",
       "2  VENHQS0xOC00MDgzLTAxOmx1c2NfdGNnYV9wYW5fY2FuX2...   \n",
       "\n",
       "                                    uniquePatientKey  \\\n",
       "0                                   uniquePatientKey   \n",
       "1   Y3NjYy11Y3NmLTIwMjEtUGF0aWVudDU5OmNzY2NfdWNzZ...   \n",
       "2   VENHQS0xOC00MDgzOmx1c2NfdGNnYV9wYW5fY2FuX2F0b...   \n",
       "\n",
       "                        molecularProfileId                  sampleId  ...  \\\n",
       "0                       molecularProfileId                  sampleId  ...   \n",
       "1                 cscc_ucsf_2021_mutations   cscc-ucsf-2021-Sample62  ...   \n",
       "2   lusc_tcga_pan_can_atlas_2018_mutations           TCGA-18-4083-01  ...   \n",
       "\n",
       "     fisValue  linkXvar  linkPdb  linkMsa  ncbiBuild  variantType  \\\n",
       "0    fisValue  linkXvar  linkPdb  linkMsa  ncbiBuild  variantType   \n",
       "1  1.4013e-45                                 GRCh37          SNP   \n",
       "2  1.4013e-45                                 GRCh37          SNP   \n",
       "\n",
       "                       keyword  chrm  variantAllele  refseqMrnaId  \n",
       "0                      keyword  chrm  variantAllele  refseqMrnaId  \n",
       "1     MIR-4710/4710 truncating    14              T            NA  \n",
       "2   MIR-4436A/4436A truncating     2              C            NA  \n",
       "\n",
       "[3 rows x 33 columns]"
      ]
     },
     "execution_count": 84,
     "metadata": {},
     "output_type": "execute_result"
    }
   ],
   "source": [
    "cBio_mutations_sorted_filt_final.head(3)"
   ]
  },
  {
   "cell_type": "code",
   "execution_count": 85,
   "id": "d5f79b8c",
   "metadata": {},
   "outputs": [],
   "source": [
    "cBio_mutations_sorted_filt_final.to_csv('Final_cBio_mutations_sorted_filt.csv', columns= ['gene_name', 'gene_id', 'mutationType', 'aminoAcidChange',\n",
    "       'mutproteinPosStart', 'mutproteinPosEnd', 'uniqueSampleKey',\n",
    "       'uniquePatientKey', 'molecularProfileId', 'sampleId', 'patientId',\n",
    "       'studyId', 'center', 'mutationStatus', 'validationStatus',\n",
    "       'tumorAltCount', 'tumorRefCount', 'normalAltCount', 'normalRefCount',\n",
    "       'startPosition', 'endPosition', 'referenceAllele',\n",
    "       'functionalImpactScore', 'fisValue', 'linkXvar', 'linkPdb', 'linkMsa',\n",
    "       'ncbiBuild', 'variantType', 'keyword', 'chrm', 'variantAllele',\n",
    "       'refseqMrnaId'], index = False)"
   ]
  },
  {
   "cell_type": "code",
   "execution_count": 79,
   "id": "a86fdb6f",
   "metadata": {},
   "outputs": [],
   "source": [
    "\"\"\"\n",
    "groupby gene to get the total mutation counts\n",
    "\"\"\"\n",
    "gene_mutations_count_df_final= cBio_mutations_sorted_filt_final.groupby(['gene_name']).size().reset_index(name='mutation_counts')\n"
   ]
  },
  {
   "cell_type": "code",
   "execution_count": 80,
   "id": "e815efe9",
   "metadata": {},
   "outputs": [
    {
     "data": {
      "text/html": [
       "<div>\n",
       "<style scoped>\n",
       "    .dataframe tbody tr th:only-of-type {\n",
       "        vertical-align: middle;\n",
       "    }\n",
       "\n",
       "    .dataframe tbody tr th {\n",
       "        vertical-align: top;\n",
       "    }\n",
       "\n",
       "    .dataframe thead th {\n",
       "        text-align: right;\n",
       "    }\n",
       "</style>\n",
       "<table border=\"1\" class=\"dataframe\">\n",
       "  <thead>\n",
       "    <tr style=\"text-align: right;\">\n",
       "      <th></th>\n",
       "      <th>gene_name</th>\n",
       "      <th>mutation_counts</th>\n",
       "    </tr>\n",
       "  </thead>\n",
       "  <tbody>\n",
       "    <tr>\n",
       "      <th>0</th>\n",
       "      <td>A1BG</td>\n",
       "      <td>206</td>\n",
       "    </tr>\n",
       "    <tr>\n",
       "      <th>1</th>\n",
       "      <td>A1BG-AS1</td>\n",
       "      <td>1</td>\n",
       "    </tr>\n",
       "    <tr>\n",
       "      <th>2</th>\n",
       "      <td>A1CF</td>\n",
       "      <td>454</td>\n",
       "    </tr>\n",
       "  </tbody>\n",
       "</table>\n",
       "</div>"
      ],
      "text/plain": [
       "  gene_name  mutation_counts\n",
       "0      A1BG              206\n",
       "1  A1BG-AS1                1\n",
       "2      A1CF              454"
      ]
     },
     "execution_count": 80,
     "metadata": {},
     "output_type": "execute_result"
    }
   ],
   "source": [
    "gene_mutations_count_df_final.head(3)"
   ]
  },
  {
   "cell_type": "code",
   "execution_count": 72,
   "id": "f6a04dda",
   "metadata": {},
   "outputs": [
    {
     "data": {
      "text/plain": [
       "4870635"
      ]
     },
     "execution_count": 72,
     "metadata": {},
     "output_type": "execute_result"
    }
   ],
   "source": [
    "len(cBio_mutations_sorted_filt_final)"
   ]
  },
  {
   "cell_type": "code",
   "execution_count": 20,
   "id": "17b33f1b",
   "metadata": {},
   "outputs": [],
   "source": [
    "\"\"\"\n",
    "groupby gene to get the total mutation counts\n",
    "\"\"\"\n",
    "gene_mutations_count_df= cBio_mutations_sorted_df1.groupby(['gene_name']).size().reset_index(name='mutation_counts')\n"
   ]
  },
  {
   "cell_type": "code",
   "execution_count": 21,
   "id": "2d58959a",
   "metadata": {},
   "outputs": [
    {
     "data": {
      "text/html": [
       "<div>\n",
       "<style scoped>\n",
       "    .dataframe tbody tr th:only-of-type {\n",
       "        vertical-align: middle;\n",
       "    }\n",
       "\n",
       "    .dataframe tbody tr th {\n",
       "        vertical-align: top;\n",
       "    }\n",
       "\n",
       "    .dataframe thead th {\n",
       "        text-align: right;\n",
       "    }\n",
       "</style>\n",
       "<table border=\"1\" class=\"dataframe\">\n",
       "  <thead>\n",
       "    <tr style=\"text-align: right;\">\n",
       "      <th></th>\n",
       "      <th>gene_name</th>\n",
       "      <th>mutation_counts</th>\n",
       "    </tr>\n",
       "  </thead>\n",
       "  <tbody>\n",
       "    <tr>\n",
       "      <th>0</th>\n",
       "      <td>A1BG</td>\n",
       "      <td>286</td>\n",
       "    </tr>\n",
       "    <tr>\n",
       "      <th>1</th>\n",
       "      <td>A1BG-AS1</td>\n",
       "      <td>1</td>\n",
       "    </tr>\n",
       "    <tr>\n",
       "      <th>2</th>\n",
       "      <td>A1CF</td>\n",
       "      <td>830</td>\n",
       "    </tr>\n",
       "  </tbody>\n",
       "</table>\n",
       "</div>"
      ],
      "text/plain": [
       "  gene_name  mutation_counts\n",
       "0      A1BG              286\n",
       "1  A1BG-AS1                1\n",
       "2      A1CF              830"
      ]
     },
     "execution_count": 21,
     "metadata": {},
     "output_type": "execute_result"
    }
   ],
   "source": [
    "gene_mutations_count_df.head(3)"
   ]
  },
  {
   "cell_type": "code",
   "execution_count": 81,
   "id": "46dcd6fd",
   "metadata": {},
   "outputs": [
    {
     "data": {
      "text/plain": [
       "20810"
      ]
     },
     "execution_count": 81,
     "metadata": {},
     "output_type": "execute_result"
    }
   ],
   "source": [
    "len(gene_mutations_count_df_final)"
   ]
  },
  {
   "cell_type": "code",
   "execution_count": 22,
   "id": "8303e84f",
   "metadata": {},
   "outputs": [
    {
     "data": {
      "text/plain": [
       "20810"
      ]
     },
     "execution_count": 22,
     "metadata": {},
     "output_type": "execute_result"
    }
   ],
   "source": [
    "len(gene_mutations_count_df)"
   ]
  },
  {
   "cell_type": "code",
   "execution_count": 23,
   "id": "5aadb58c",
   "metadata": {},
   "outputs": [],
   "source": [
    "\"\"\"\n",
    "export gene mutation counts\n",
    "\"\"\"\n",
    "gene_mutations_count_df.to_csv('gene_mutations_count.csv', columns= ['gene_name', 'mutation_counts'], index = False)"
   ]
  },
  {
   "cell_type": "code",
   "execution_count": 82,
   "id": "abc7cc87",
   "metadata": {},
   "outputs": [],
   "source": [
    "\"\"\"\n",
    "export gene mutation counts\n",
    "\"\"\"\n",
    "gene_mutations_count_df_final.to_csv('FINAL_gene_mutations_count.csv', columns= ['gene_name', 'mutation_counts'], index = False)"
   ]
  },
  {
   "cell_type": "code",
   "execution_count": 24,
   "id": "bfda3910",
   "metadata": {},
   "outputs": [],
   "source": [
    "\"\"\"\n",
    "use filtered data to groupby gene to get the total mutation counts\n",
    "\"\"\"\n",
    "filtered_gene_mutations_count_df= cBio_mutations_sorted_filt.groupby(['gene_name']).size().reset_index(name='mutation_counts')"
   ]
  },
  {
   "cell_type": "code",
   "execution_count": 25,
   "id": "9880c6f8",
   "metadata": {},
   "outputs": [
    {
     "data": {
      "text/html": [
       "<div>\n",
       "<style scoped>\n",
       "    .dataframe tbody tr th:only-of-type {\n",
       "        vertical-align: middle;\n",
       "    }\n",
       "\n",
       "    .dataframe tbody tr th {\n",
       "        vertical-align: top;\n",
       "    }\n",
       "\n",
       "    .dataframe thead th {\n",
       "        text-align: right;\n",
       "    }\n",
       "</style>\n",
       "<table border=\"1\" class=\"dataframe\">\n",
       "  <thead>\n",
       "    <tr style=\"text-align: right;\">\n",
       "      <th></th>\n",
       "      <th>gene_name</th>\n",
       "      <th>mutation_counts</th>\n",
       "    </tr>\n",
       "  </thead>\n",
       "  <tbody>\n",
       "    <tr>\n",
       "      <th>0</th>\n",
       "      <td>A1BG</td>\n",
       "      <td>286</td>\n",
       "    </tr>\n",
       "    <tr>\n",
       "      <th>1</th>\n",
       "      <td>A1BG-AS1</td>\n",
       "      <td>1</td>\n",
       "    </tr>\n",
       "    <tr>\n",
       "      <th>2</th>\n",
       "      <td>A1CF</td>\n",
       "      <td>830</td>\n",
       "    </tr>\n",
       "  </tbody>\n",
       "</table>\n",
       "</div>"
      ],
      "text/plain": [
       "  gene_name  mutation_counts\n",
       "0      A1BG              286\n",
       "1  A1BG-AS1                1\n",
       "2      A1CF              830"
      ]
     },
     "execution_count": 25,
     "metadata": {},
     "output_type": "execute_result"
    }
   ],
   "source": [
    "filtered_gene_mutations_count_df.head(3)"
   ]
  },
  {
   "cell_type": "code",
   "execution_count": 26,
   "id": "058eff38",
   "metadata": {},
   "outputs": [
    {
     "data": {
      "text/plain": [
       "20810"
      ]
     },
     "execution_count": 26,
     "metadata": {},
     "output_type": "execute_result"
    }
   ],
   "source": [
    "len(filtered_gene_mutations_count_df)"
   ]
  },
  {
   "cell_type": "code",
   "execution_count": 27,
   "id": "383a817d",
   "metadata": {},
   "outputs": [],
   "source": [
    "\"\"\"\n",
    "export filtered gene mutation counts\n",
    "\"\"\"\n",
    "filtered_gene_mutations_count_df.to_csv('filtered_gene_mutations_count.csv', columns= ['gene_name', 'mutation_counts'], index = False)"
   ]
  },
  {
   "cell_type": "code",
   "execution_count": 69,
   "id": "8bf262e8",
   "metadata": {},
   "outputs": [
    {
     "data": {
      "text/plain": [
       "Index(['gene_name', 'mutation_counts'], dtype='object')"
      ]
     },
     "execution_count": 69,
     "metadata": {},
     "output_type": "execute_result"
    }
   ],
   "source": [
    "filtered_gene_mutations_count_df.columns"
   ]
  },
  {
   "cell_type": "code",
   "execution_count": 28,
   "id": "e23b9cf9",
   "metadata": {},
   "outputs": [],
   "source": [
    "\"\"\"\n",
    "select ACk1 mutations\n",
    "\"\"\"\n",
    "all_ack1_mutations_df = cBio_mutations_sorted_df1.loc[(cBio_mutations_sorted_df1['gene_id'] == '10188' )]"
   ]
  },
  {
   "cell_type": "code",
   "execution_count": 29,
   "id": "027b39c3",
   "metadata": {},
   "outputs": [
    {
     "data": {
      "text/plain": [
       "774"
      ]
     },
     "execution_count": 29,
     "metadata": {},
     "output_type": "execute_result"
    }
   ],
   "source": [
    "len(all_ack1_mutations_df)"
   ]
  },
  {
   "cell_type": "code",
   "execution_count": 30,
   "id": "cc7b1c93",
   "metadata": {},
   "outputs": [],
   "source": [
    "\"\"\"\n",
    "Export All ack mutations\n",
    "\"\"\"\n",
    "all_ack1_mutations_df.to_csv('all_ack1_mutations.csv', columns = ['gene_name', 'gene_id', 'mutationType', 'aminoAcidChange', 'mutproteinPosStart', 'mutproteinPosEnd', 'uniqueSampleKey', 'uniquePatientKey', 'molecularProfileId', 'sampleId', 'patientId', 'studyId', 'center', 'mutationStatus', 'validationStatus', 'tumorAltCount', 'tumorRefCount', 'normalAltCount', 'normalRefCount', 'startPosition', 'endPosition', 'referenceAllele', 'functionalImpactScore', 'fisValue', 'linkXvar', 'linkPdb', 'linkMsa', 'ncbiBuild', 'variantType', 'keyword', 'chrm', 'variantAllele', 'refseqMrnaId'], index = False)\n",
    "\n"
   ]
  },
  {
   "cell_type": "code",
   "execution_count": 31,
   "id": "d2d457c1",
   "metadata": {},
   "outputs": [],
   "source": [
    "\"\"\"\n",
    "identify ACK1 duplicated data \n",
    "\"\"\"\n",
    "ack_duplicate_df = all_ack1_mutations_df.loc[all_ack1_mutations_df.duplicated(), :]"
   ]
  },
  {
   "cell_type": "code",
   "execution_count": 32,
   "id": "eee0319b",
   "metadata": {},
   "outputs": [
    {
     "data": {
      "text/plain": [
       "0"
      ]
     },
     "execution_count": 32,
     "metadata": {},
     "output_type": "execute_result"
    }
   ],
   "source": [
    "len(ack_duplicate_df)"
   ]
  },
  {
   "cell_type": "code",
   "execution_count": 33,
   "id": "79190e7b",
   "metadata": {},
   "outputs": [],
   "source": [
    "all_ack1_mutations_df_filt = all_ack1_mutations_df.drop_duplicates()"
   ]
  },
  {
   "cell_type": "code",
   "execution_count": 34,
   "id": "400ba32a",
   "metadata": {},
   "outputs": [
    {
     "data": {
      "text/plain": [
       "774"
      ]
     },
     "execution_count": 34,
     "metadata": {},
     "output_type": "execute_result"
    }
   ],
   "source": [
    "len(all_ack1_mutations_df_filt)"
   ]
  },
  {
   "cell_type": "code",
   "execution_count": 35,
   "id": "522bfdd2",
   "metadata": {},
   "outputs": [],
   "source": [
    "\"\"\"\n",
    "Export filtered ack mutations\n",
    "\"\"\"\n",
    "all_ack1_mutations_df_filt.to_csv('ack1_mutations_filtered.csv', columns = ['gene_name', 'gene_id', 'mutationType', 'aminoAcidChange', 'mutproteinPosStart', 'mutproteinPosEnd', 'uniqueSampleKey', 'uniquePatientKey', 'molecularProfileId', 'sampleId', 'patientId', 'studyId', 'center', 'mutationStatus', 'validationStatus', 'tumorAltCount', 'tumorRefCount', 'normalAltCount', 'normalRefCount', 'startPosition', 'endPosition', 'referenceAllele', 'functionalImpactScore', 'fisValue', 'linkXvar', 'linkPdb', 'linkMsa', 'ncbiBuild', 'variantType', 'keyword', 'chrm', 'variantAllele', 'refseqMrnaId'], index = False)\n",
    "\n"
   ]
  },
  {
   "cell_type": "code",
   "execution_count": 36,
   "id": "004f9f8e",
   "metadata": {},
   "outputs": [],
   "source": [
    "\"\"\"\n",
    "select \n",
    "\"\"\"\n",
    "ack_mut_final_df = all_ack1_mutations_df_filt.drop_duplicates(subset =['patientId']).reset_index(drop = True)\n"
   ]
  },
  {
   "cell_type": "code",
   "execution_count": 89,
   "id": "c3772b3b",
   "metadata": {},
   "outputs": [
    {
     "data": {
      "text/html": [
       "<div>\n",
       "<style scoped>\n",
       "    .dataframe tbody tr th:only-of-type {\n",
       "        vertical-align: middle;\n",
       "    }\n",
       "\n",
       "    .dataframe tbody tr th {\n",
       "        vertical-align: top;\n",
       "    }\n",
       "\n",
       "    .dataframe thead th {\n",
       "        text-align: right;\n",
       "    }\n",
       "</style>\n",
       "<table border=\"1\" class=\"dataframe\">\n",
       "  <thead>\n",
       "    <tr style=\"text-align: right;\">\n",
       "      <th></th>\n",
       "      <th>gene_name</th>\n",
       "      <th>gene_id</th>\n",
       "      <th>mutationType</th>\n",
       "      <th>aminoAcidChange</th>\n",
       "      <th>mutproteinPosStart</th>\n",
       "      <th>mutproteinPosEnd</th>\n",
       "      <th>uniqueSampleKey</th>\n",
       "      <th>uniquePatientKey</th>\n",
       "      <th>molecularProfileId</th>\n",
       "      <th>sampleId</th>\n",
       "      <th>...</th>\n",
       "      <th>fisValue</th>\n",
       "      <th>linkXvar</th>\n",
       "      <th>linkPdb</th>\n",
       "      <th>linkMsa</th>\n",
       "      <th>ncbiBuild</th>\n",
       "      <th>variantType</th>\n",
       "      <th>keyword</th>\n",
       "      <th>chrm</th>\n",
       "      <th>variantAllele</th>\n",
       "      <th>refseqMrnaId</th>\n",
       "    </tr>\n",
       "  </thead>\n",
       "  <tbody>\n",
       "    <tr>\n",
       "      <th>0</th>\n",
       "      <td>TNK2</td>\n",
       "      <td>10188</td>\n",
       "      <td>Splice_Site</td>\n",
       "      <td>MUTATED</td>\n",
       "      <td>-1</td>\n",
       "      <td>-1</td>\n",
       "      <td>Y3NjYy11Y3NmLTIwMjEtU2FtcGxlNDc6Y3NjY191Y3NmXz...</td>\n",
       "      <td>Y3NjYy11Y3NmLTIwMjEtUGF0aWVudDQ1OmNzY2NfdWNzZl...</td>\n",
       "      <td>cscc_ucsf_2021_mutations</td>\n",
       "      <td>cscc-ucsf-2021-Sample47</td>\n",
       "      <td>...</td>\n",
       "      <td>1.4013e-45</td>\n",
       "      <td></td>\n",
       "      <td></td>\n",
       "      <td></td>\n",
       "      <td>GRCh37</td>\n",
       "      <td>SNP</td>\n",
       "      <td>TNK2 truncating</td>\n",
       "      <td>3</td>\n",
       "      <td>A</td>\n",
       "      <td>NA</td>\n",
       "    </tr>\n",
       "    <tr>\n",
       "      <th>1</th>\n",
       "      <td>TNK2</td>\n",
       "      <td>10188</td>\n",
       "      <td>Translation_Start_Site</td>\n",
       "      <td>M1?</td>\n",
       "      <td>1</td>\n",
       "      <td>1</td>\n",
       "      <td>VENHQS1MTi1BNDlYLTAxOmVzY2FfdGNnYQ</td>\n",
       "      <td>VENHQS1MTi1BNDlYOmVzY2FfdGNnYQ</td>\n",
       "      <td>esca_tcga_mutations</td>\n",
       "      <td>TCGA-LN-A49X-01</td>\n",
       "      <td>...</td>\n",
       "      <td>1.4013e-45</td>\n",
       "      <td></td>\n",
       "      <td></td>\n",
       "      <td></td>\n",
       "      <td>GRCh37</td>\n",
       "      <td>SNP</td>\n",
       "      <td>TNK2 truncating</td>\n",
       "      <td>3</td>\n",
       "      <td>C</td>\n",
       "      <td>NM_005781.4</td>\n",
       "    </tr>\n",
       "    <tr>\n",
       "      <th>2</th>\n",
       "      <td>TNK2</td>\n",
       "      <td>10188</td>\n",
       "      <td>Missense_Mutation</td>\n",
       "      <td>E5K</td>\n",
       "      <td>5</td>\n",
       "      <td>5</td>\n",
       "      <td>TUVMLUlQSV9QYXQxNTEtVHVtb3ItU00tN0ExNUE6bWl4ZW...</td>\n",
       "      <td>UGF0MTUxOm1peGVkX2FsbGVuXzIwMTg</td>\n",
       "      <td>mixed_allen_2018_mutations</td>\n",
       "      <td>MEL-IPI_Pat151-Tumor-SM-7A15A</td>\n",
       "      <td>...</td>\n",
       "      <td>1.4013e-45</td>\n",
       "      <td></td>\n",
       "      <td></td>\n",
       "      <td></td>\n",
       "      <td>GRCh37</td>\n",
       "      <td>SNP</td>\n",
       "      <td>TNK2 E5 missense</td>\n",
       "      <td>3</td>\n",
       "      <td>T</td>\n",
       "      <td>NM_005781.4</td>\n",
       "    </tr>\n",
       "  </tbody>\n",
       "</table>\n",
       "<p>3 rows × 33 columns</p>\n",
       "</div>"
      ],
      "text/plain": [
       "  gene_name gene_id             mutationType aminoAcidChange  \\\n",
       "0      TNK2   10188              Splice_Site         MUTATED   \n",
       "1      TNK2   10188   Translation_Start_Site             M1?   \n",
       "2      TNK2   10188        Missense_Mutation             E5K   \n",
       "\n",
       "  mutproteinPosStart mutproteinPosEnd  \\\n",
       "0                 -1               -1   \n",
       "1                  1                1   \n",
       "2                  5                5   \n",
       "\n",
       "                                     uniqueSampleKey  \\\n",
       "0  Y3NjYy11Y3NmLTIwMjEtU2FtcGxlNDc6Y3NjY191Y3NmXz...   \n",
       "1                 VENHQS1MTi1BNDlYLTAxOmVzY2FfdGNnYQ   \n",
       "2  TUVMLUlQSV9QYXQxNTEtVHVtb3ItU00tN0ExNUE6bWl4ZW...   \n",
       "\n",
       "                                    uniquePatientKey  \\\n",
       "0  Y3NjYy11Y3NmLTIwMjEtUGF0aWVudDQ1OmNzY2NfdWNzZl...   \n",
       "1                     VENHQS1MTi1BNDlYOmVzY2FfdGNnYQ   \n",
       "2                    UGF0MTUxOm1peGVkX2FsbGVuXzIwMTg   \n",
       "\n",
       "            molecularProfileId                       sampleId  ...  \\\n",
       "0     cscc_ucsf_2021_mutations        cscc-ucsf-2021-Sample47  ...   \n",
       "1          esca_tcga_mutations                TCGA-LN-A49X-01  ...   \n",
       "2   mixed_allen_2018_mutations  MEL-IPI_Pat151-Tumor-SM-7A15A  ...   \n",
       "\n",
       "     fisValue linkXvar linkPdb linkMsa ncbiBuild variantType  \\\n",
       "0  1.4013e-45                             GRCh37         SNP   \n",
       "1  1.4013e-45                             GRCh37         SNP   \n",
       "2  1.4013e-45                             GRCh37         SNP   \n",
       "\n",
       "             keyword chrm variantAllele  refseqMrnaId  \n",
       "0    TNK2 truncating    3             A            NA  \n",
       "1    TNK2 truncating    3             C   NM_005781.4  \n",
       "2   TNK2 E5 missense    3             T   NM_005781.4  \n",
       "\n",
       "[3 rows x 33 columns]"
      ]
     },
     "execution_count": 89,
     "metadata": {},
     "output_type": "execute_result"
    }
   ],
   "source": [
    "ack_mut_final_df.head(3)"
   ]
  },
  {
   "cell_type": "code",
   "execution_count": 37,
   "id": "02e21eb8",
   "metadata": {},
   "outputs": [
    {
     "data": {
      "text/plain": [
       "535"
      ]
     },
     "execution_count": 37,
     "metadata": {},
     "output_type": "execute_result"
    }
   ],
   "source": [
    "len(ack_mut_final_df)"
   ]
  },
  {
   "cell_type": "code",
   "execution_count": 38,
   "id": "a4792502",
   "metadata": {},
   "outputs": [],
   "source": [
    "\"\"\"\n",
    "Export ack_mut_final_dfs\n",
    "\"\"\"\n",
    "ack_mut_final_df.to_csv('ack_mut_final.csv', columns = ['gene_name', 'gene_id', 'mutationType', 'aminoAcidChange', 'mutproteinPosStart', 'mutproteinPosEnd', 'uniqueSampleKey', 'uniquePatientKey', 'molecularProfileId', 'sampleId', 'patientId', 'studyId', 'center', 'mutationStatus', 'validationStatus', 'tumorAltCount', 'tumorRefCount', 'normalAltCount', 'normalRefCount', 'startPosition', 'endPosition', 'referenceAllele', 'functionalImpactScore', 'fisValue', 'linkXvar', 'linkPdb', 'linkMsa', 'ncbiBuild', 'variantType', 'keyword', 'chrm', 'variantAllele', 'refseqMrnaId'], index = False)\n",
    "\n"
   ]
  },
  {
   "cell_type": "code",
   "execution_count": 39,
   "id": "15f9b532",
   "metadata": {},
   "outputs": [],
   "source": [
    "\"\"\"\n",
    "groupby to get the ack1 mutation counts for other genes\n",
    "\"\"\"\n",
    "ack1_mut_count_df= ack_mut_final_df.groupby(['mutproteinPosStart']).size().reset_index(name='mutation_counts')\n"
   ]
  },
  {
   "cell_type": "code",
   "execution_count": 40,
   "id": "c8ba5740",
   "metadata": {},
   "outputs": [
    {
     "data": {
      "text/html": [
       "<div>\n",
       "<style scoped>\n",
       "    .dataframe tbody tr th:only-of-type {\n",
       "        vertical-align: middle;\n",
       "    }\n",
       "\n",
       "    .dataframe tbody tr th {\n",
       "        vertical-align: top;\n",
       "    }\n",
       "\n",
       "    .dataframe thead th {\n",
       "        text-align: right;\n",
       "    }\n",
       "</style>\n",
       "<table border=\"1\" class=\"dataframe\">\n",
       "  <thead>\n",
       "    <tr style=\"text-align: right;\">\n",
       "      <th></th>\n",
       "      <th>mutproteinPosStart</th>\n",
       "      <th>mutation_counts</th>\n",
       "    </tr>\n",
       "  </thead>\n",
       "  <tbody>\n",
       "    <tr>\n",
       "      <th>0</th>\n",
       "      <td>-1</td>\n",
       "      <td>1</td>\n",
       "    </tr>\n",
       "    <tr>\n",
       "      <th>1</th>\n",
       "      <td>1</td>\n",
       "      <td>1</td>\n",
       "    </tr>\n",
       "    <tr>\n",
       "      <th>2</th>\n",
       "      <td>1000</td>\n",
       "      <td>1</td>\n",
       "    </tr>\n",
       "  </tbody>\n",
       "</table>\n",
       "</div>"
      ],
      "text/plain": [
       "  mutproteinPosStart  mutation_counts\n",
       "0                 -1                1\n",
       "1                  1                1\n",
       "2               1000                1"
      ]
     },
     "execution_count": 40,
     "metadata": {},
     "output_type": "execute_result"
    }
   ],
   "source": [
    "ack1_mut_count_df.head(3)"
   ]
  },
  {
   "cell_type": "code",
   "execution_count": 41,
   "id": "db2f3967",
   "metadata": {},
   "outputs": [],
   "source": [
    "\"\"\"\n",
    "export as a csv file for the prism graph-lollypo\n",
    "\"\"\"\n",
    "ack1_mut_count_df.to_csv('ack1_mut_count_prism.csv', columns = ['mutproteinPosStart', 'mutation_counts'], index = False)"
   ]
  },
  {
   "cell_type": "code",
   "execution_count": 42,
   "id": "72aea4d5",
   "metadata": {},
   "outputs": [],
   "source": [
    "\"\"\"\n",
    "sort \n",
    "\"\"\"\n",
    "ack1_mut_count_sorted_df = ack1_mut_count_df.sort_values(['mutation_counts'], ascending=[False])"
   ]
  },
  {
   "cell_type": "code",
   "execution_count": null,
   "id": "0035c1e0",
   "metadata": {},
   "outputs": [],
   "source": []
  },
  {
   "cell_type": "markdown",
   "id": "fd08d46c",
   "metadata": {},
   "source": [
    "# identify other mutations in ACK1 mutated patiens"
   ]
  },
  {
   "cell_type": "code",
   "execution_count": 88,
   "id": "1498295f",
   "metadata": {},
   "outputs": [],
   "source": [
    "\"\"\"\n",
    "remove whitespace\n",
    "\"\"\"\n",
    "ack_mut_final_df['uniqueSampleKey'] = ack_mut_final_df['uniqueSampleKey'].str.strip()\n",
    "ack_mut_final_df['uniquePatientKey'] = ack_mut_final_df['uniquePatientKey'].str.strip()\n",
    "cBio_mutations_sorted_filt['uniqueSampleKey'] = cBio_mutations_sorted_filt['uniqueSampleKey'].str.strip()"
   ]
  },
  {
   "cell_type": "code",
   "execution_count": 45,
   "id": "0b570764",
   "metadata": {},
   "outputs": [],
   "source": [
    "\"\"\"\n",
    "create a new df with 'uniqueSampleKey', 'uniquePatientKey'\n",
    "\"\"\"\n",
    "ack_mut_patients_df= ack_mut_final_df[['uniqueSampleKey', 'uniquePatientKey']]"
   ]
  },
  {
   "cell_type": "code",
   "execution_count": 46,
   "id": "90afd6d8",
   "metadata": {},
   "outputs": [
    {
     "data": {
      "text/html": [
       "<div>\n",
       "<style scoped>\n",
       "    .dataframe tbody tr th:only-of-type {\n",
       "        vertical-align: middle;\n",
       "    }\n",
       "\n",
       "    .dataframe tbody tr th {\n",
       "        vertical-align: top;\n",
       "    }\n",
       "\n",
       "    .dataframe thead th {\n",
       "        text-align: right;\n",
       "    }\n",
       "</style>\n",
       "<table border=\"1\" class=\"dataframe\">\n",
       "  <thead>\n",
       "    <tr style=\"text-align: right;\">\n",
       "      <th></th>\n",
       "      <th>uniqueSampleKey</th>\n",
       "      <th>uniquePatientKey</th>\n",
       "    </tr>\n",
       "  </thead>\n",
       "  <tbody>\n",
       "    <tr>\n",
       "      <th>0</th>\n",
       "      <td>Y3NjYy11Y3NmLTIwMjEtU2FtcGxlNDc6Y3NjY191Y3NmXz...</td>\n",
       "      <td>Y3NjYy11Y3NmLTIwMjEtUGF0aWVudDQ1OmNzY2NfdWNzZl...</td>\n",
       "    </tr>\n",
       "    <tr>\n",
       "      <th>1</th>\n",
       "      <td>VENHQS1MTi1BNDlYLTAxOmVzY2FfdGNnYQ</td>\n",
       "      <td>VENHQS1MTi1BNDlYOmVzY2FfdGNnYQ</td>\n",
       "    </tr>\n",
       "    <tr>\n",
       "      <th>2</th>\n",
       "      <td>TUVMLUlQSV9QYXQxNTEtVHVtb3ItU00tN0ExNUE6bWl4ZW...</td>\n",
       "      <td>UGF0MTUxOm1peGVkX2FsbGVuXzIwMTg</td>\n",
       "    </tr>\n",
       "  </tbody>\n",
       "</table>\n",
       "</div>"
      ],
      "text/plain": [
       "                                     uniqueSampleKey  \\\n",
       "0  Y3NjYy11Y3NmLTIwMjEtU2FtcGxlNDc6Y3NjY191Y3NmXz...   \n",
       "1                 VENHQS1MTi1BNDlYLTAxOmVzY2FfdGNnYQ   \n",
       "2  TUVMLUlQSV9QYXQxNTEtVHVtb3ItU00tN0ExNUE6bWl4ZW...   \n",
       "\n",
       "                                    uniquePatientKey  \n",
       "0  Y3NjYy11Y3NmLTIwMjEtUGF0aWVudDQ1OmNzY2NfdWNzZl...  \n",
       "1                     VENHQS1MTi1BNDlYOmVzY2FfdGNnYQ  \n",
       "2                    UGF0MTUxOm1peGVkX2FsbGVuXzIwMTg  "
      ]
     },
     "execution_count": 46,
     "metadata": {},
     "output_type": "execute_result"
    }
   ],
   "source": [
    "ack_mut_patients_df.head(3)"
   ]
  },
  {
   "cell_type": "code",
   "execution_count": 47,
   "id": "086329d2",
   "metadata": {},
   "outputs": [
    {
     "data": {
      "text/plain": [
       "535"
      ]
     },
     "execution_count": 47,
     "metadata": {},
     "output_type": "execute_result"
    }
   ],
   "source": [
    "len(ack_mut_patients_df)"
   ]
  },
  {
   "cell_type": "code",
   "execution_count": 48,
   "id": "a1e4396d",
   "metadata": {},
   "outputs": [],
   "source": [
    "\"\"\"\n",
    "drop duplicates\n",
    "\"\"\"\n",
    "ack_mut_patients_df_filt = ack_mut_patients_df.drop_duplicates()"
   ]
  },
  {
   "cell_type": "code",
   "execution_count": 49,
   "id": "8546ad2d",
   "metadata": {},
   "outputs": [
    {
     "data": {
      "text/plain": [
       "535"
      ]
     },
     "execution_count": 49,
     "metadata": {},
     "output_type": "execute_result"
    }
   ],
   "source": [
    "len(ack_mut_patients_df_filt)"
   ]
  },
  {
   "cell_type": "code",
   "execution_count": 50,
   "id": "d35c77bf",
   "metadata": {},
   "outputs": [
    {
     "ename": "NameError",
     "evalue": "name 'mut_ack1_cooccurrence_count_df' is not defined",
     "output_type": "error",
     "traceback": [
      "\u001b[1;31m---------------------------------------------------------------------------\u001b[0m",
      "\u001b[1;31mNameError\u001b[0m                                 Traceback (most recent call last)",
      "\u001b[1;32m<ipython-input-50-fdbcde3fd2dc>\u001b[0m in \u001b[0;36m<module>\u001b[1;34m\u001b[0m\n\u001b[0;32m      2\u001b[0m \u001b[0mSort\u001b[0m \u001b[0mmutation\u001b[0m \u001b[0mcounts\u001b[0m \u001b[0mto\u001b[0m \u001b[0midentify\u001b[0m \u001b[0mmost\u001b[0m \u001b[0mmutated\u001b[0m \u001b[0mgene\u001b[0m \u001b[1;32mwith\u001b[0m \u001b[0mack1\u001b[0m\u001b[1;33m\u001b[0m\u001b[1;33m\u001b[0m\u001b[0m\n\u001b[0;32m      3\u001b[0m \"\"\"\n\u001b[1;32m----> 4\u001b[1;33m \u001b[0mmut_ack1_cooccurrence_count_sorted_df\u001b[0m \u001b[1;33m=\u001b[0m \u001b[0mmut_ack1_cooccurrence_count_df\u001b[0m\u001b[1;33m.\u001b[0m\u001b[0msort_values\u001b[0m\u001b[1;33m(\u001b[0m\u001b[1;33m[\u001b[0m\u001b[1;34m'mutation_counts'\u001b[0m\u001b[1;33m]\u001b[0m\u001b[1;33m,\u001b[0m \u001b[0mascending\u001b[0m\u001b[1;33m=\u001b[0m\u001b[1;33m[\u001b[0m\u001b[1;32mFalse\u001b[0m\u001b[1;33m]\u001b[0m\u001b[1;33m)\u001b[0m\u001b[1;33m\u001b[0m\u001b[1;33m\u001b[0m\u001b[0m\n\u001b[0m",
      "\u001b[1;31mNameError\u001b[0m: name 'mut_ack1_cooccurrence_count_df' is not defined"
     ]
    }
   ],
   "source": [
    "\"\"\"\n",
    "Sort mutation counts to identify most mutated gene with ack1\n",
    "\"\"\"\n",
    "mut_ack1_cooccurrence_count_sorted_df = mut_ack1_cooccurrence_count_df.sort_values(['mutation_counts'], ascending=[False])"
   ]
  },
  {
   "cell_type": "code",
   "execution_count": 51,
   "id": "e3840726",
   "metadata": {},
   "outputs": [
    {
     "name": "stderr",
     "output_type": "stream",
     "text": [
      "535it [03:22,  2.64it/s]\n"
     ]
    }
   ],
   "source": [
    "\"\"\"\n",
    "create a new csv file to store other mutations in ACK1 patients\n",
    "\"\"\"\n",
    "for index, row in tqdm(ack_mut_patients_df_filt.iterrows()):\n",
    "    mut_ack1_cooccurrence_df = cBio_mutations_sorted_filt.loc[(cBio_mutations_sorted_filt['uniqueSampleKey'] == row['uniqueSampleKey'])]"
   ]
  },
  {
   "cell_type": "code",
   "execution_count": 52,
   "id": "78a4415d",
   "metadata": {},
   "outputs": [
    {
     "data": {
      "text/html": [
       "<div>\n",
       "<style scoped>\n",
       "    .dataframe tbody tr th:only-of-type {\n",
       "        vertical-align: middle;\n",
       "    }\n",
       "\n",
       "    .dataframe tbody tr th {\n",
       "        vertical-align: top;\n",
       "    }\n",
       "\n",
       "    .dataframe thead th {\n",
       "        text-align: right;\n",
       "    }\n",
       "</style>\n",
       "<table border=\"1\" class=\"dataframe\">\n",
       "  <thead>\n",
       "    <tr style=\"text-align: right;\">\n",
       "      <th></th>\n",
       "      <th>gene_name</th>\n",
       "      <th>gene_id</th>\n",
       "      <th>mutationType</th>\n",
       "      <th>aminoAcidChange</th>\n",
       "      <th>mutproteinPosStart</th>\n",
       "      <th>mutproteinPosEnd</th>\n",
       "      <th>uniqueSampleKey</th>\n",
       "      <th>uniquePatientKey</th>\n",
       "      <th>molecularProfileId</th>\n",
       "      <th>sampleId</th>\n",
       "      <th>...</th>\n",
       "      <th>fisValue</th>\n",
       "      <th>linkXvar</th>\n",
       "      <th>linkPdb</th>\n",
       "      <th>linkMsa</th>\n",
       "      <th>ncbiBuild</th>\n",
       "      <th>variantType</th>\n",
       "      <th>keyword</th>\n",
       "      <th>chrm</th>\n",
       "      <th>variantAllele</th>\n",
       "      <th>refseqMrnaId</th>\n",
       "    </tr>\n",
       "  </thead>\n",
       "  <tbody>\n",
       "    <tr>\n",
       "      <th>126103</th>\n",
       "      <td>BIRC3</td>\n",
       "      <td>330</td>\n",
       "      <td>Missense_Mutation</td>\n",
       "      <td>L404V</td>\n",
       "      <td>404</td>\n",
       "      <td>404</td>\n",
       "      <td>TUlBUEFDQTJfUEFOQ1JFQVM6Y2VsbGxpbmVfY2NsZV9icm...</td>\n",
       "      <td>TUlBX1BhQ2EtMjpjZWxsbGluZV9jY2xlX2Jyb2Fk</td>\n",
       "      <td>cellline_ccle_broad_mutations</td>\n",
       "      <td>MIAPACA2_PANCREAS</td>\n",
       "      <td>...</td>\n",
       "      <td>1.4013e-45</td>\n",
       "      <td></td>\n",
       "      <td></td>\n",
       "      <td></td>\n",
       "      <td>GRCh37</td>\n",
       "      <td>SNP</td>\n",
       "      <td>BIRC3 L404 missense</td>\n",
       "      <td>11</td>\n",
       "      <td>G</td>\n",
       "      <td>NM_001165.4</td>\n",
       "    </tr>\n",
       "    <tr>\n",
       "      <th>221161</th>\n",
       "      <td>BCR</td>\n",
       "      <td>613</td>\n",
       "      <td>Missense_Mutation</td>\n",
       "      <td>R22L</td>\n",
       "      <td>22</td>\n",
       "      <td>22</td>\n",
       "      <td>TUlBUEFDQTJfUEFOQ1JFQVM6Y2VsbGxpbmVfY2NsZV9icm...</td>\n",
       "      <td>TUlBX1BhQ2EtMjpjZWxsbGluZV9jY2xlX2Jyb2Fk</td>\n",
       "      <td>cellline_ccle_broad_mutations</td>\n",
       "      <td>MIAPACA2_PANCREAS</td>\n",
       "      <td>...</td>\n",
       "      <td>1.4013e-45</td>\n",
       "      <td></td>\n",
       "      <td></td>\n",
       "      <td></td>\n",
       "      <td>GRCh37</td>\n",
       "      <td>SNP</td>\n",
       "      <td>BCR R22 missense</td>\n",
       "      <td>22</td>\n",
       "      <td>T</td>\n",
       "      <td>NM_004327.3</td>\n",
       "    </tr>\n",
       "    <tr>\n",
       "      <th>317723</th>\n",
       "      <td>RUNX2</td>\n",
       "      <td>860</td>\n",
       "      <td>Missense_Mutation</td>\n",
       "      <td>T286A</td>\n",
       "      <td>286</td>\n",
       "      <td>286</td>\n",
       "      <td>TUlBUEFDQTJfUEFOQ1JFQVM6Y2VsbGxpbmVfY2NsZV9icm...</td>\n",
       "      <td>TUlBX1BhQ2EtMjpjZWxsbGluZV9jY2xlX2Jyb2Fk</td>\n",
       "      <td>cellline_ccle_broad_mutations</td>\n",
       "      <td>MIAPACA2_PANCREAS</td>\n",
       "      <td>...</td>\n",
       "      <td>1.4013e-45</td>\n",
       "      <td></td>\n",
       "      <td></td>\n",
       "      <td></td>\n",
       "      <td>GRCh37</td>\n",
       "      <td>SNP</td>\n",
       "      <td>RUNX2 T286 missense</td>\n",
       "      <td>6</td>\n",
       "      <td>G</td>\n",
       "      <td>NM_001024630.3</td>\n",
       "    </tr>\n",
       "  </tbody>\n",
       "</table>\n",
       "<p>3 rows × 33 columns</p>\n",
       "</div>"
      ],
      "text/plain": [
       "       gene_name gene_id        mutationType aminoAcidChange  \\\n",
       "126103     BIRC3     330   Missense_Mutation           L404V   \n",
       "221161       BCR     613   Missense_Mutation            R22L   \n",
       "317723     RUNX2     860   Missense_Mutation           T286A   \n",
       "\n",
       "       mutproteinPosStart mutproteinPosEnd  \\\n",
       "126103                404              404   \n",
       "221161                 22               22   \n",
       "317723                286              286   \n",
       "\n",
       "                                          uniqueSampleKey  \\\n",
       "126103  TUlBUEFDQTJfUEFOQ1JFQVM6Y2VsbGxpbmVfY2NsZV9icm...   \n",
       "221161  TUlBUEFDQTJfUEFOQ1JFQVM6Y2VsbGxpbmVfY2NsZV9icm...   \n",
       "317723  TUlBUEFDQTJfUEFOQ1JFQVM6Y2VsbGxpbmVfY2NsZV9icm...   \n",
       "\n",
       "                                 uniquePatientKey  \\\n",
       "126103   TUlBX1BhQ2EtMjpjZWxsbGluZV9jY2xlX2Jyb2Fk   \n",
       "221161   TUlBX1BhQ2EtMjpjZWxsbGluZV9jY2xlX2Jyb2Fk   \n",
       "317723   TUlBX1BhQ2EtMjpjZWxsbGluZV9jY2xlX2Jyb2Fk   \n",
       "\n",
       "                    molecularProfileId            sampleId  ...    fisValue  \\\n",
       "126103   cellline_ccle_broad_mutations   MIAPACA2_PANCREAS  ...  1.4013e-45   \n",
       "221161   cellline_ccle_broad_mutations   MIAPACA2_PANCREAS  ...  1.4013e-45   \n",
       "317723   cellline_ccle_broad_mutations   MIAPACA2_PANCREAS  ...  1.4013e-45   \n",
       "\n",
       "       linkXvar linkPdb linkMsa ncbiBuild variantType               keyword  \\\n",
       "126103                             GRCh37         SNP   BIRC3 L404 missense   \n",
       "221161                             GRCh37         SNP      BCR R22 missense   \n",
       "317723                             GRCh37         SNP   RUNX2 T286 missense   \n",
       "\n",
       "       chrm variantAllele     refseqMrnaId  \n",
       "126103   11             G      NM_001165.4  \n",
       "221161   22             T      NM_004327.3  \n",
       "317723    6             G   NM_001024630.3  \n",
       "\n",
       "[3 rows x 33 columns]"
      ]
     },
     "execution_count": 52,
     "metadata": {},
     "output_type": "execute_result"
    }
   ],
   "source": [
    "mut_ack1_cooccurrence_df.head(3)"
   ]
  },
  {
   "cell_type": "code",
   "execution_count": 53,
   "id": "f552d18c",
   "metadata": {
    "scrolled": true
   },
   "outputs": [
    {
     "data": {
      "text/plain": [
       "40"
      ]
     },
     "execution_count": 53,
     "metadata": {},
     "output_type": "execute_result"
    }
   ],
   "source": [
    "len(mut_ack1_cooccurrence_df)"
   ]
  },
  {
   "cell_type": "code",
   "execution_count": 54,
   "id": "f54fafd0",
   "metadata": {},
   "outputs": [],
   "source": [
    "\"\"\"\n",
    "export the mut_ack1_cooccurrence_df\n",
    "\"\"\"\n",
    "mut_ack1_cooccurrence_df.to_csv('mut_ack1_cooccurrence_df.csv', columns = ['gene_name', 'gene_id', 'mutationType', 'aminoAcidChange', 'mutproteinPosStart', 'mutproteinPosEnd', 'uniqueSampleKey', 'uniquePatientKey', 'molecularProfileId', 'sampleId', 'patientId', 'studyId', 'center', 'mutationStatus', 'validationStatus', 'tumorAltCount', 'tumorRefCount', 'normalAltCount', 'normalRefCount', 'startPosition', 'endPosition', 'referenceAllele', 'functionalImpactScore', 'fisValue', 'linkXvar', 'linkPdb', 'linkMsa', 'ncbiBuild', 'variantType', 'keyword', 'chrm', 'variantAllele', 'refseqMrnaId'], index = False)"
   ]
  },
  {
   "cell_type": "code",
   "execution_count": 55,
   "id": "630353a4",
   "metadata": {},
   "outputs": [],
   "source": [
    "\"\"\"\n",
    "use mut_ack1_cooccurrence_df to groupby gene to get the total mutation counts for other genes\n",
    "\"\"\"\n",
    "mut_ack1_cooccurrence_count_df= mut_ack1_cooccurrence_df.groupby(['gene_id', 'gene_name']).size().reset_index(name='mutation_counts')"
   ]
  },
  {
   "cell_type": "code",
   "execution_count": 56,
   "id": "56eff1c9",
   "metadata": {},
   "outputs": [
    {
     "data": {
      "text/html": [
       "<div>\n",
       "<style scoped>\n",
       "    .dataframe tbody tr th:only-of-type {\n",
       "        vertical-align: middle;\n",
       "    }\n",
       "\n",
       "    .dataframe tbody tr th {\n",
       "        vertical-align: top;\n",
       "    }\n",
       "\n",
       "    .dataframe thead th {\n",
       "        text-align: right;\n",
       "    }\n",
       "</style>\n",
       "<table border=\"1\" class=\"dataframe\">\n",
       "  <thead>\n",
       "    <tr style=\"text-align: right;\">\n",
       "      <th></th>\n",
       "      <th>gene_id</th>\n",
       "      <th>gene_name</th>\n",
       "      <th>mutation_counts</th>\n",
       "    </tr>\n",
       "  </thead>\n",
       "  <tbody>\n",
       "    <tr>\n",
       "      <th>0</th>\n",
       "      <td>10076</td>\n",
       "      <td>PTPRU</td>\n",
       "      <td>1</td>\n",
       "    </tr>\n",
       "    <tr>\n",
       "      <th>1</th>\n",
       "      <td>10188</td>\n",
       "      <td>TNK2</td>\n",
       "      <td>1</td>\n",
       "    </tr>\n",
       "    <tr>\n",
       "      <th>2</th>\n",
       "      <td>10734</td>\n",
       "      <td>STAG3</td>\n",
       "      <td>1</td>\n",
       "    </tr>\n",
       "  </tbody>\n",
       "</table>\n",
       "</div>"
      ],
      "text/plain": [
       "  gene_id gene_name  mutation_counts\n",
       "0   10076     PTPRU                1\n",
       "1   10188      TNK2                1\n",
       "2   10734     STAG3                1"
      ]
     },
     "execution_count": 56,
     "metadata": {},
     "output_type": "execute_result"
    }
   ],
   "source": [
    "mut_ack1_cooccurrence_count_df.head(3)"
   ]
  },
  {
   "cell_type": "code",
   "execution_count": 57,
   "id": "fe7bb571",
   "metadata": {},
   "outputs": [],
   "source": [
    "\"\"\"\n",
    "Sort mutation counts to identify most mutated gene with ack1\n",
    "\"\"\"\n",
    "mut_ack1_cooccurrence_count_sorted_df = mut_ack1_cooccurrence_count_df.sort_values(['mutation_counts'], ascending=[False])"
   ]
  },
  {
   "cell_type": "code",
   "execution_count": 58,
   "id": "939511b5",
   "metadata": {},
   "outputs": [
    {
     "data": {
      "text/html": [
       "<div>\n",
       "<style scoped>\n",
       "    .dataframe tbody tr th:only-of-type {\n",
       "        vertical-align: middle;\n",
       "    }\n",
       "\n",
       "    .dataframe tbody tr th {\n",
       "        vertical-align: top;\n",
       "    }\n",
       "\n",
       "    .dataframe thead th {\n",
       "        text-align: right;\n",
       "    }\n",
       "</style>\n",
       "<table border=\"1\" class=\"dataframe\">\n",
       "  <thead>\n",
       "    <tr style=\"text-align: right;\">\n",
       "      <th></th>\n",
       "      <th>gene_id</th>\n",
       "      <th>gene_name</th>\n",
       "      <th>mutation_counts</th>\n",
       "    </tr>\n",
       "  </thead>\n",
       "  <tbody>\n",
       "    <tr>\n",
       "      <th>28</th>\n",
       "      <td>7273</td>\n",
       "      <td>TTN</td>\n",
       "      <td>5</td>\n",
       "    </tr>\n",
       "    <tr>\n",
       "      <th>4</th>\n",
       "      <td>114788</td>\n",
       "      <td>CSMD3</td>\n",
       "      <td>2</td>\n",
       "    </tr>\n",
       "    <tr>\n",
       "      <th>30</th>\n",
       "      <td>8202</td>\n",
       "      <td>NCOA3</td>\n",
       "      <td>2</td>\n",
       "    </tr>\n",
       "  </tbody>\n",
       "</table>\n",
       "</div>"
      ],
      "text/plain": [
       "   gene_id gene_name  mutation_counts\n",
       "28    7273       TTN                5\n",
       "4   114788     CSMD3                2\n",
       "30    8202     NCOA3                2"
      ]
     },
     "execution_count": 58,
     "metadata": {},
     "output_type": "execute_result"
    }
   ],
   "source": [
    "mut_ack1_cooccurrence_count_sorted_df.head(3)"
   ]
  },
  {
   "cell_type": "code",
   "execution_count": 59,
   "id": "55a717dd",
   "metadata": {},
   "outputs": [
    {
     "data": {
      "text/plain": [
       "34"
      ]
     },
     "execution_count": 59,
     "metadata": {},
     "output_type": "execute_result"
    }
   ],
   "source": [
    "len(mut_ack1_cooccurrence_count_sorted_df)"
   ]
  },
  {
   "cell_type": "markdown",
   "id": "afeac6b1",
   "metadata": {},
   "source": [
    "# Identify other mutations in ACK1 mutated patients"
   ]
  },
  {
   "cell_type": "code",
   "execution_count": 60,
   "id": "84a1af69",
   "metadata": {},
   "outputs": [
    {
     "data": {
      "text/html": [
       "<div>\n",
       "<style scoped>\n",
       "    .dataframe tbody tr th:only-of-type {\n",
       "        vertical-align: middle;\n",
       "    }\n",
       "\n",
       "    .dataframe tbody tr th {\n",
       "        vertical-align: top;\n",
       "    }\n",
       "\n",
       "    .dataframe thead th {\n",
       "        text-align: right;\n",
       "    }\n",
       "</style>\n",
       "<table border=\"1\" class=\"dataframe\">\n",
       "  <thead>\n",
       "    <tr style=\"text-align: right;\">\n",
       "      <th></th>\n",
       "      <th>gene_name</th>\n",
       "      <th>gene_id</th>\n",
       "      <th>mutationType</th>\n",
       "      <th>aminoAcidChange</th>\n",
       "      <th>mutproteinPosStart</th>\n",
       "      <th>mutproteinPosEnd</th>\n",
       "      <th>uniqueSampleKey</th>\n",
       "      <th>uniquePatientKey</th>\n",
       "      <th>molecularProfileId</th>\n",
       "      <th>sampleId</th>\n",
       "      <th>...</th>\n",
       "      <th>fisValue</th>\n",
       "      <th>linkXvar</th>\n",
       "      <th>linkPdb</th>\n",
       "      <th>linkMsa</th>\n",
       "      <th>ncbiBuild</th>\n",
       "      <th>variantType</th>\n",
       "      <th>keyword</th>\n",
       "      <th>chrm</th>\n",
       "      <th>variantAllele</th>\n",
       "      <th>refseqMrnaId</th>\n",
       "    </tr>\n",
       "  </thead>\n",
       "  <tbody>\n",
       "    <tr>\n",
       "      <th>0</th>\n",
       "      <td>TNK2</td>\n",
       "      <td>10188</td>\n",
       "      <td>Splice_Site</td>\n",
       "      <td>MUTATED</td>\n",
       "      <td>-1</td>\n",
       "      <td>-1</td>\n",
       "      <td>Y3NjYy11Y3NmLTIwMjEtU2FtcGxlNDc6Y3NjY191Y3NmXz...</td>\n",
       "      <td>Y3NjYy11Y3NmLTIwMjEtUGF0aWVudDQ1OmNzY2NfdWNzZl...</td>\n",
       "      <td>cscc_ucsf_2021_mutations</td>\n",
       "      <td>cscc-ucsf-2021-Sample47</td>\n",
       "      <td>...</td>\n",
       "      <td>1.4013e-45</td>\n",
       "      <td></td>\n",
       "      <td></td>\n",
       "      <td></td>\n",
       "      <td>GRCh37</td>\n",
       "      <td>SNP</td>\n",
       "      <td>TNK2 truncating</td>\n",
       "      <td>3</td>\n",
       "      <td>A</td>\n",
       "      <td>NA</td>\n",
       "    </tr>\n",
       "    <tr>\n",
       "      <th>1</th>\n",
       "      <td>TNK2</td>\n",
       "      <td>10188</td>\n",
       "      <td>Translation_Start_Site</td>\n",
       "      <td>M1?</td>\n",
       "      <td>1</td>\n",
       "      <td>1</td>\n",
       "      <td>VENHQS1MTi1BNDlYLTAxOmVzY2FfdGNnYQ</td>\n",
       "      <td>VENHQS1MTi1BNDlYOmVzY2FfdGNnYQ</td>\n",
       "      <td>esca_tcga_mutations</td>\n",
       "      <td>TCGA-LN-A49X-01</td>\n",
       "      <td>...</td>\n",
       "      <td>1.4013e-45</td>\n",
       "      <td></td>\n",
       "      <td></td>\n",
       "      <td></td>\n",
       "      <td>GRCh37</td>\n",
       "      <td>SNP</td>\n",
       "      <td>TNK2 truncating</td>\n",
       "      <td>3</td>\n",
       "      <td>C</td>\n",
       "      <td>NM_005781.4</td>\n",
       "    </tr>\n",
       "    <tr>\n",
       "      <th>2</th>\n",
       "      <td>TNK2</td>\n",
       "      <td>10188</td>\n",
       "      <td>Missense_Mutation</td>\n",
       "      <td>E5K</td>\n",
       "      <td>5</td>\n",
       "      <td>5</td>\n",
       "      <td>TUVMLUlQSV9QYXQxNTEtVHVtb3ItU00tN0ExNUE6bWl4ZW...</td>\n",
       "      <td>UGF0MTUxOm1peGVkX2FsbGVuXzIwMTg</td>\n",
       "      <td>mixed_allen_2018_mutations</td>\n",
       "      <td>MEL-IPI_Pat151-Tumor-SM-7A15A</td>\n",
       "      <td>...</td>\n",
       "      <td>1.4013e-45</td>\n",
       "      <td></td>\n",
       "      <td></td>\n",
       "      <td></td>\n",
       "      <td>GRCh37</td>\n",
       "      <td>SNP</td>\n",
       "      <td>TNK2 E5 missense</td>\n",
       "      <td>3</td>\n",
       "      <td>T</td>\n",
       "      <td>NM_005781.4</td>\n",
       "    </tr>\n",
       "  </tbody>\n",
       "</table>\n",
       "<p>3 rows × 33 columns</p>\n",
       "</div>"
      ],
      "text/plain": [
       "  gene_name gene_id             mutationType aminoAcidChange  \\\n",
       "0      TNK2   10188              Splice_Site         MUTATED   \n",
       "1      TNK2   10188   Translation_Start_Site             M1?   \n",
       "2      TNK2   10188        Missense_Mutation             E5K   \n",
       "\n",
       "  mutproteinPosStart mutproteinPosEnd  \\\n",
       "0                 -1               -1   \n",
       "1                  1                1   \n",
       "2                  5                5   \n",
       "\n",
       "                                     uniqueSampleKey  \\\n",
       "0  Y3NjYy11Y3NmLTIwMjEtU2FtcGxlNDc6Y3NjY191Y3NmXz...   \n",
       "1                 VENHQS1MTi1BNDlYLTAxOmVzY2FfdGNnYQ   \n",
       "2  TUVMLUlQSV9QYXQxNTEtVHVtb3ItU00tN0ExNUE6bWl4ZW...   \n",
       "\n",
       "                                    uniquePatientKey  \\\n",
       "0  Y3NjYy11Y3NmLTIwMjEtUGF0aWVudDQ1OmNzY2NfdWNzZl...   \n",
       "1                     VENHQS1MTi1BNDlYOmVzY2FfdGNnYQ   \n",
       "2                    UGF0MTUxOm1peGVkX2FsbGVuXzIwMTg   \n",
       "\n",
       "            molecularProfileId                        sampleId  ...  \\\n",
       "0     cscc_ucsf_2021_mutations         cscc-ucsf-2021-Sample47  ...   \n",
       "1          esca_tcga_mutations                 TCGA-LN-A49X-01  ...   \n",
       "2   mixed_allen_2018_mutations   MEL-IPI_Pat151-Tumor-SM-7A15A  ...   \n",
       "\n",
       "     fisValue linkXvar linkPdb linkMsa ncbiBuild variantType  \\\n",
       "0  1.4013e-45                             GRCh37         SNP   \n",
       "1  1.4013e-45                             GRCh37         SNP   \n",
       "2  1.4013e-45                             GRCh37         SNP   \n",
       "\n",
       "             keyword chrm variantAllele  refseqMrnaId  \n",
       "0    TNK2 truncating    3             A            NA  \n",
       "1    TNK2 truncating    3             C   NM_005781.4  \n",
       "2   TNK2 E5 missense    3             T   NM_005781.4  \n",
       "\n",
       "[3 rows x 33 columns]"
      ]
     },
     "execution_count": 60,
     "metadata": {},
     "output_type": "execute_result"
    }
   ],
   "source": [
    "\"\"\"cBio_mutations_sorted_df\"\"\"\n",
    "ack_mut_final_df.head(3)\n"
   ]
  },
  {
   "cell_type": "code",
   "execution_count": 61,
   "id": "d79f35de",
   "metadata": {},
   "outputs": [
    {
     "data": {
      "text/plain": [
       "Index(['gene_name', 'gene_id', 'mutationType', 'aminoAcidChange',\n",
       "       'mutproteinPosStart', 'mutproteinPosEnd', 'uniqueSampleKey',\n",
       "       'uniquePatientKey', 'molecularProfileId', 'sampleId', 'patientId',\n",
       "       'studyId', 'center', 'mutationStatus', 'validationStatus',\n",
       "       'tumorAltCount', 'tumorRefCount', 'normalAltCount', 'normalRefCount',\n",
       "       'startPosition', 'endPosition', 'referenceAllele',\n",
       "       'functionalImpactScore', 'fisValue', 'linkXvar', 'linkPdb', 'linkMsa',\n",
       "       'ncbiBuild', 'variantType', 'keyword', 'chrm', 'variantAllele',\n",
       "       'refseqMrnaId'],\n",
       "      dtype='object')"
      ]
     },
     "execution_count": 61,
     "metadata": {},
     "output_type": "execute_result"
    }
   ],
   "source": [
    "ack_mut_final_df.columns"
   ]
  },
  {
   "cell_type": "code",
   "execution_count": 62,
   "id": "ec80aad0",
   "metadata": {},
   "outputs": [],
   "source": [
    "\"\"\"\n",
    "remove whitespace\n",
    "\"\"\"\n",
    "ack_mut_final_df['patientId'] = ack_mut_final_df['patientId'].str.strip()"
   ]
  },
  {
   "cell_type": "code",
   "execution_count": 63,
   "id": "abc5e776",
   "metadata": {},
   "outputs": [],
   "source": [
    "\"\"\"\n",
    "remove whitespace\n",
    "\"\"\"\n",
    "cBio_mutations_sorted_df['patientId'] = cBio_mutations_sorted_df['patientId'].str.strip()"
   ]
  },
  {
   "cell_type": "code",
   "execution_count": 64,
   "id": "1bd55d6d",
   "metadata": {},
   "outputs": [
    {
     "name": "stderr",
     "output_type": "stream",
     "text": [
      "535it [03:28,  2.56it/s]\n"
     ]
    }
   ],
   "source": [
    "\"\"\"\n",
    "identify ACK1 mutated patients in total muation DF\n",
    "\"\"\"\n",
    "for index, row in tqdm(ack_mut_final_df.iterrows()):\n",
    "    ack1_and_other_mut_df = cBio_mutations_sorted_df.loc[(cBio_mutations_sorted_df['patientId'] == row['patientId'])]"
   ]
  },
  {
   "cell_type": "code",
   "execution_count": 65,
   "id": "abfb3f52",
   "metadata": {},
   "outputs": [
    {
     "data": {
      "text/plain": [
       "40"
      ]
     },
     "execution_count": 65,
     "metadata": {},
     "output_type": "execute_result"
    }
   ],
   "source": [
    "len(ack1_and_other_mut_df)"
   ]
  },
  {
   "cell_type": "markdown",
   "id": "2f27e2a3",
   "metadata": {},
   "source": [
    "Sample ID"
   ]
  },
  {
   "cell_type": "code",
   "execution_count": 66,
   "id": "ec14dab0",
   "metadata": {},
   "outputs": [],
   "source": [
    "\"\"\"\n",
    "remove whitespace\n",
    "\"\"\"\n",
    "ack_mut_final_df['sampleId'] = ack_mut_final_df['sampleId'].str.strip()\n",
    "cBio_mutations_sorted_df['patientId'] = cBio_mutations_sorted_df['patientId'].str.strip()"
   ]
  },
  {
   "cell_type": "code",
   "execution_count": 67,
   "id": "d4cb78c8",
   "metadata": {},
   "outputs": [
    {
     "name": "stderr",
     "output_type": "stream",
     "text": [
      "535it [03:29,  2.56it/s]\n"
     ]
    }
   ],
   "source": [
    "\"\"\"\n",
    "identify ACK1 mutated patients in total muation DF\n",
    "\"\"\"\n",
    "for index, row in tqdm(ack_mut_final_df.iterrows()):\n",
    "    ack1_and_other_mut_df_sampleID = cBio_mutations_sorted_df.loc[(cBio_mutations_sorted_df['patientId'] == row['patientId'])]"
   ]
  },
  {
   "cell_type": "code",
   "execution_count": 86,
   "id": "a4239f77",
   "metadata": {},
   "outputs": [
    {
     "data": {
      "text/plain": [
       "40"
      ]
     },
     "execution_count": 86,
     "metadata": {},
     "output_type": "execute_result"
    }
   ],
   "source": [
    "len(ack1_and_other_mut_df_sampleID)"
   ]
  },
  {
   "cell_type": "code",
   "execution_count": 87,
   "id": "fb44dcba",
   "metadata": {},
   "outputs": [
    {
     "data": {
      "text/html": [
       "<div>\n",
       "<style scoped>\n",
       "    .dataframe tbody tr th:only-of-type {\n",
       "        vertical-align: middle;\n",
       "    }\n",
       "\n",
       "    .dataframe tbody tr th {\n",
       "        vertical-align: top;\n",
       "    }\n",
       "\n",
       "    .dataframe thead th {\n",
       "        text-align: right;\n",
       "    }\n",
       "</style>\n",
       "<table border=\"1\" class=\"dataframe\">\n",
       "  <thead>\n",
       "    <tr style=\"text-align: right;\">\n",
       "      <th></th>\n",
       "      <th>gene_name</th>\n",
       "      <th>gene_id</th>\n",
       "      <th>mutationType</th>\n",
       "      <th>aminoAcidChange</th>\n",
       "      <th>mutproteinPosStart</th>\n",
       "      <th>mutproteinPosEnd</th>\n",
       "      <th>uniqueSampleKey</th>\n",
       "      <th>uniquePatientKey</th>\n",
       "      <th>molecularProfileId</th>\n",
       "      <th>sampleId</th>\n",
       "      <th>...</th>\n",
       "      <th>fisValue</th>\n",
       "      <th>linkXvar</th>\n",
       "      <th>linkPdb</th>\n",
       "      <th>linkMsa</th>\n",
       "      <th>ncbiBuild</th>\n",
       "      <th>variantType</th>\n",
       "      <th>keyword</th>\n",
       "      <th>chrm</th>\n",
       "      <th>variantAllele</th>\n",
       "      <th>refseqMrnaId</th>\n",
       "    </tr>\n",
       "  </thead>\n",
       "  <tbody>\n",
       "    <tr>\n",
       "      <th>18840499</th>\n",
       "      <td>BIRC3</td>\n",
       "      <td>330</td>\n",
       "      <td>Missense_Mutation</td>\n",
       "      <td>L404V</td>\n",
       "      <td>404</td>\n",
       "      <td>404</td>\n",
       "      <td>TUlBUEFDQTJfUEFOQ1JFQVM6Y2VsbGxpbmVfY2NsZV9ic...</td>\n",
       "      <td>TUlBX1BhQ2EtMjpjZWxsbGluZV9jY2xlX2Jyb2Fk</td>\n",
       "      <td>cellline_ccle_broad_mutations</td>\n",
       "      <td>MIAPACA2_PANCREAS</td>\n",
       "      <td>...</td>\n",
       "      <td>1.401300e-45</td>\n",
       "      <td></td>\n",
       "      <td></td>\n",
       "      <td></td>\n",
       "      <td>GRCh37</td>\n",
       "      <td>SNP</td>\n",
       "      <td>BIRC3 L404 missense</td>\n",
       "      <td>11</td>\n",
       "      <td>G</td>\n",
       "      <td>NM_001165.4</td>\n",
       "    </tr>\n",
       "    <tr>\n",
       "      <th>18840487</th>\n",
       "      <td>BCR</td>\n",
       "      <td>613</td>\n",
       "      <td>Missense_Mutation</td>\n",
       "      <td>R22L</td>\n",
       "      <td>22</td>\n",
       "      <td>22</td>\n",
       "      <td>TUlBUEFDQTJfUEFOQ1JFQVM6Y2VsbGxpbmVfY2NsZV9ic...</td>\n",
       "      <td>TUlBX1BhQ2EtMjpjZWxsbGluZV9jY2xlX2Jyb2Fk</td>\n",
       "      <td>cellline_ccle_broad_mutations</td>\n",
       "      <td>MIAPACA2_PANCREAS</td>\n",
       "      <td>...</td>\n",
       "      <td>1.401300e-45</td>\n",
       "      <td></td>\n",
       "      <td></td>\n",
       "      <td></td>\n",
       "      <td>GRCh37</td>\n",
       "      <td>SNP</td>\n",
       "      <td>BCR R22 missense</td>\n",
       "      <td>22</td>\n",
       "      <td>T</td>\n",
       "      <td>NM_004327.3</td>\n",
       "    </tr>\n",
       "    <tr>\n",
       "      <th>18840506</th>\n",
       "      <td>RUNX2</td>\n",
       "      <td>860</td>\n",
       "      <td>Missense_Mutation</td>\n",
       "      <td>T286A</td>\n",
       "      <td>286</td>\n",
       "      <td>286</td>\n",
       "      <td>TUlBUEFDQTJfUEFOQ1JFQVM6Y2VsbGxpbmVfY2NsZV9ic...</td>\n",
       "      <td>TUlBX1BhQ2EtMjpjZWxsbGluZV9jY2xlX2Jyb2Fk</td>\n",
       "      <td>cellline_ccle_broad_mutations</td>\n",
       "      <td>MIAPACA2_PANCREAS</td>\n",
       "      <td>...</td>\n",
       "      <td>1.401300e-45</td>\n",
       "      <td></td>\n",
       "      <td></td>\n",
       "      <td></td>\n",
       "      <td>GRCh37</td>\n",
       "      <td>SNP</td>\n",
       "      <td>RUNX2 T286 missense</td>\n",
       "      <td>6</td>\n",
       "      <td>G</td>\n",
       "      <td>NM_001024630.3</td>\n",
       "    </tr>\n",
       "  </tbody>\n",
       "</table>\n",
       "<p>3 rows × 33 columns</p>\n",
       "</div>"
      ],
      "text/plain": [
       "         gene_name  gene_id        mutationType aminoAcidChange  \\\n",
       "18840499     BIRC3      330   Missense_Mutation           L404V   \n",
       "18840487       BCR      613   Missense_Mutation            R22L   \n",
       "18840506     RUNX2      860   Missense_Mutation           T286A   \n",
       "\n",
       "          mutproteinPosStart  mutproteinPosEnd  \\\n",
       "18840499                 404               404   \n",
       "18840487                  22                22   \n",
       "18840506                 286               286   \n",
       "\n",
       "                                            uniqueSampleKey  \\\n",
       "18840499   TUlBUEFDQTJfUEFOQ1JFQVM6Y2VsbGxpbmVfY2NsZV9ic...   \n",
       "18840487   TUlBUEFDQTJfUEFOQ1JFQVM6Y2VsbGxpbmVfY2NsZV9ic...   \n",
       "18840506   TUlBUEFDQTJfUEFOQ1JFQVM6Y2VsbGxpbmVfY2NsZV9ic...   \n",
       "\n",
       "                                   uniquePatientKey  \\\n",
       "18840499   TUlBX1BhQ2EtMjpjZWxsbGluZV9jY2xlX2Jyb2Fk   \n",
       "18840487   TUlBX1BhQ2EtMjpjZWxsbGluZV9jY2xlX2Jyb2Fk   \n",
       "18840506   TUlBX1BhQ2EtMjpjZWxsbGluZV9jY2xlX2Jyb2Fk   \n",
       "\n",
       "                      molecularProfileId            sampleId  ...  \\\n",
       "18840499   cellline_ccle_broad_mutations   MIAPACA2_PANCREAS  ...   \n",
       "18840487   cellline_ccle_broad_mutations   MIAPACA2_PANCREAS  ...   \n",
       "18840506   cellline_ccle_broad_mutations   MIAPACA2_PANCREAS  ...   \n",
       "\n",
       "              fisValue linkXvar linkPdb linkMsa ncbiBuild variantType  \\\n",
       "18840499  1.401300e-45                             GRCh37         SNP   \n",
       "18840487  1.401300e-45                             GRCh37         SNP   \n",
       "18840506  1.401300e-45                             GRCh37         SNP   \n",
       "\n",
       "                       keyword chrm variantAllele     refseqMrnaId  \n",
       "18840499   BIRC3 L404 missense   11             G      NM_001165.4  \n",
       "18840487      BCR R22 missense   22             T      NM_004327.3  \n",
       "18840506   RUNX2 T286 missense    6             G   NM_001024630.3  \n",
       "\n",
       "[3 rows x 33 columns]"
      ]
     },
     "execution_count": 87,
     "metadata": {},
     "output_type": "execute_result"
    }
   ],
   "source": [
    "ack1_and_other_mut_df_sampleID.head(3)"
   ]
  },
  {
   "cell_type": "code",
   "execution_count": null,
   "id": "7f0ceb0d",
   "metadata": {},
   "outputs": [],
   "source": []
  }
 ],
 "metadata": {
  "kernelspec": {
   "display_name": "Python 3",
   "language": "python",
   "name": "python3"
  },
  "language_info": {
   "codemirror_mode": {
    "name": "ipython",
    "version": 3
   },
   "file_extension": ".py",
   "mimetype": "text/x-python",
   "name": "python",
   "nbconvert_exporter": "python",
   "pygments_lexer": "ipython3",
   "version": "3.8.8"
  }
 },
 "nbformat": 4,
 "nbformat_minor": 5
}
