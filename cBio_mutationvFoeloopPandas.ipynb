{
 "cells": [
  {
   "cell_type": "code",
   "execution_count": null,
   "metadata": {},
   "outputs": [],
   "source": [
    "\"\"\"\n",
    "connect to the cbioportal database\n",
    "\"\"\"\n",
    "import pandas as pd \n",
    "from bravado.client import SwaggerClient\n",
    "\n",
    "cbioportal = SwaggerClient.from_url('https://www.cbioportal.org/api/api-docs', config={"validate_requests":False,"validate_responses":False,"validate_swagger_spec": False})"
   ]
  },
  {
   "cell_type": "code",
   "execution_count": null,
   "metadata": {},
   "outputs": [],
   "source": [
    "\"\"\"\n",
    "collect all the molecular profile ids\n",
    "\"\"\"\n",
    "mol_profilr_id = cbioportal.Molecular_Profiles.getAllMolecularProfilesUsingGET().response().result"
   ]
  },
  {
   "cell_type": "code",
   "execution_count": null,
   "metadata": {},
   "outputs": [],
   "source": [
    "print(mol_profilr_id[0])"
   ]
  },
  {
   "cell_type": "code",
   "execution_count": null,
   "metadata": {},
   "outputs": [],
   "source": [
    "len(mol_profilr_id)"
   ]
  },
  {
   "cell_type": "code",
   "execution_count": null,
   "metadata": {},
   "outputs": [],
   "source": [
    "mol_profile_ids = []\n",
    "\n",
    "for prof in mol_profilr_id:\n",
    "    mol_profile_ids.append(prof.molecularProfileId)\n",
    "    "
   ]
  },
  {
   "cell_type": "code",
   "execution_count": null,
   "metadata": {},
   "outputs": [],
   "source": [
    "mol_profilr_id_df = pd.DataFrame(mol_profilr_id)"
   ]
  },
  {
   "cell_type": "code",
   "execution_count": null,
   "metadata": {},
   "outputs": [],
   "source": [
    "mol_profilr_id_df.columns"
   ]
  },
  {
   "cell_type": "code",
   "execution_count": null,
   "metadata": {},
   "outputs": [],
   "source": [
    "#mol_profilr_id_df.head(9)"
   ]
  },
  {
   "cell_type": "code",
   "execution_count": null,
   "metadata": {},
   "outputs": [],
   "source": [
    "mol_profilr_id_dict = {}\n",
    "mol_profilr_id_dict = cbioportal.Molecular_Profiles.getAllMolecularProfilesUsingGET().response().result"
   ]
  },
  {
   "cell_type": "code",
   "execution_count": null,
   "metadata": {},
   "outputs": [],
   "source": [
    "#print(mol_profilr_id_dict)"
   ]
  },
  {
   "cell_type": "code",
   "execution_count": null,
   "metadata": {},
   "outputs": [],
   "source": [
    "sample_list_id = cbioportal.Sample_Lists.getAllSampleListsUsingGET().response().result"
   ]
  },
  {
   "cell_type": "code",
   "execution_count": null,
   "metadata": {},
   "outputs": [],
   "source": [
    "print(sample_list_id[0])"
   ]
  },
  {
   "cell_type": "code",
   "execution_count": null,
   "metadata": {},
   "outputs": [],
   "source": [
    "sample_list_ids = []\n",
    "\n",
    "for li in sample_list_id:\n",
    "    sample_list_ids.append(li.sampleListId)\n",
    "    \n",
    "print(sample_list_ids[:9])"
   ]
  },
  {
   "cell_type": "code",
   "execution_count": null,
   "metadata": {},
   "outputs": [],
   "source": [
    "len(sample_list_id)"
   ]
  },
  {
   "cell_type": "code",
   "execution_count": null,
   "metadata": {},
   "outputs": [],
   "source": [
    "gene_ids = {}\n",
    "gene_infos = cbioportal.Genes.getAllGenesUsingGET().response().result\n",
    "\n",
    "for g in gene_infos:\n",
    "    gene_ids[g.entrezGeneId] = g.hugoGeneSymbol\n",
    "    \n",
    "\n"
   ]
  },
  {
   "cell_type": "code",
   "execution_count": null,
   "metadata": {},
   "outputs": [],
   "source": [
    "rows_list = []\n",
    "import time\n",
    "from tqdm import tqdm"
   ]
  },
  {
   "cell_type": "code",
   "execution_count": null,
   "metadata": {},
   "outputs": [],
   "source": [
    "gene_ids = {}\n",
    "gene_infos = cbioportal.Genes.getAllGenesUsingGET().response().result\n",
    "\n",
    "for g in gene_infos:\n",
    "    gene_ids[g.entrezGeneId] = g.hugoGeneSymbol\n",
    "    \n",
    "\n"
   ]
  },
  {
   "cell_type": "code",
   "execution_count": null,
   "metadata": {},
   "outputs": [],
   "source": [
    "merge_sampleLists_molecularProfileID_df = pd.read_csv ('merge_sampleLists_molecularProfileID.csv', names = ['sam_lists_category', 'sam_lists_name', 'sam_lists_description',\n",
    "       'sam_lists_sampleListId', 'sam_lists_studyId',\n",
    "       'mol_prof_molecularAlterationType', 'mol_prof_datatype',\n",
    "       'mol_prof_name', 'mol_prof_description',\n",
    "       'mol_prof_showProfileInAnalysisTab', 'mol_prof_molecularProfileId',\n",
    "       'mol_prof_studyId'])"
   ]
  },
  {
   "cell_type": "code",
   "execution_count": null,
   "metadata": {},
   "outputs": [],
   "source": [
    "merge_sampleLists_molecularProfileID_df.head(3)"
   ]
  },
  {
   "cell_type": "code",
   "execution_count": null,
   "metadata": {},
   "outputs": [],
   "source": [
    "len(merge_sampleLists_molecularProfileID_df)"
   ]
  },
  {
   "cell_type": "code",
   "execution_count": null,
   "metadata": {},
   "outputs": [],
   "source": [
    "\"\"\"\n",
    "Remove whitespaces\n",
    "\"\"\"\n",
    "merge_sampleLists_molecularProfileID_df['mol_prof_molecularProfileId'] = merge_sampleLists_molecularProfileID_df['mol_prof_molecularProfileId'].str.strip()\n",
    "merge_sampleLists_molecularProfileID_df['sam_lists_sampleListId'] = merge_sampleLists_molecularProfileID_df['sam_lists_sampleListId'].str.strip()"
   ]
  },
  {
   "cell_type": "code",
   "execution_count": null,
   "metadata": {},
   "outputs": [],
   "source": [
    "print(len(gene_ids))"
   ]
  },
  {
   "cell_type": "code",
   "execution_count": null,
   "metadata": {},
   "outputs": [],
   "source": [
    "\"\"\"\n",
    "Create an error list\n",
    "\"\"\"\n",
    "error_list = []"
   ]
  },
  {
   "cell_type": "code",
   "execution_count": null,
   "metadata": {
    "scrolled": true
   },
   "outputs": [],
   "source": [
    "\"\"\"\n",
    "Write the data line by line in csv file.can save RAM\n",
    "\"\"\"\n",
    "\n",
    "out = open( 'cBIO_mutations_forloop_V2.csv','w')\n",
    "for index, row in merge_sampleLists_molecularProfileID_df.iterrows():\n",
    "    time.sleep(0.05)\n",
    "    try:\n",
    "        mutations = cbioportal.Mutations.getMutationsInMolecularProfileBySampleListIdUsingGET(molecularProfileId= row['mol_prof_molecularProfileId'], sampleListId= row['sam_lists_sampleListId']).response().result\n",
    "    except Exception as e:\n",
    "#         print('error retriving Profile ID: '+row['mol_prof_molecularProfileId']+' and List ID: '+row['sam_lists_sampleListId']+' exception type: '+type(e).__name__)\n",
    "        error_dict = {}\n",
    "        error_dict['profile_ID']= row['mol_prof_molecularProfileId']\n",
    "        error_dict['List_ID'] = row['sam_lists_sampleListId']\n",
    "        error_dict['error_type'] = type(e).__name__\n",
    "        error_list.append(error_dict)\n",
    "        continue\n",
    "    for mut in mutations:\n",
    "        gene_id = mut.entrezGeneId\n",
    "        mutationType = mut.mutationType\n",
    "        aminoAcidChange = mut.proteinChange\n",
    "        mutproteinPosStart= mut.proteinPosStart\n",
    "        mutproteinPosEnd = mut.proteinPosEnd\n",
    "        uniqueSampleKey = mut.uniqueSampleKey\n",
    "        uniquePatientKey= mut.uniquePatientKey\n",
    "        molecularProfileId = mut.molecularProfileId\n",
    "        sampleId = mut.sampleId\n",
    "        patientId = mut.patientId\n",
    "        studyId = mut.studyId\n",
    "        center = mut.center\n",
    "        mutationStatus = mut.mutationStatus\n",
    "        validationStatus = mut.validationStatus\n",
    "        tumorAltCount = mut.tumorAltCount\n",
    "        tumorRefCount = mut.tumorRefCount\n",
    "        normalAltCount =mut.normalAltCount\n",
    "        normalRefCount =mut.normalRefCount\n",
    "        startPosition = mut.startPosition\n",
    "        endPosition = mut.endPosition\n",
    "        referenceAllele = mut.referenceAllele\n",
    "        functionalImpactScore = mut.functionalImpactScore\n",
    "        fisValue = mut.fisValue\n",
    "        linkXvar = mut.linkXvar\n",
    "        linkPdb = mut.linkPdb\n",
    "        linkMsa = mut.linkMsa\n",
    "        ncbiBuild= mut.ncbiBuild\n",
    "        variantType= mut.variantType\n",
    "        keyword= mut.keyword\n",
    "        chrm = mut.chr\n",
    "        variantAllele= mut.variantAllele\n",
    "        refseqMrnaId = mut.refseqMrnaId\n",
    "        dict_row = {}\n",
    "        if gene_id not in gene_ids:\n",
    "            gene_info = cbioportal.Genes.getGeneUsingGET(geneId=gene_id).response().result\n",
    "            dict_row[\"geneid\"] = gene_info.hugoGeneSymbol\n",
    "        else:\n",
    "            dict_row[\"geneid\"] = gene_ids[gene_id]\n",
    "        out.write ('{}, {}, {}, {}, {}, {}, {}, {}, {}, {}, {}, {}, {}, {}, {}, {}, {}, {}, {}, {}, {}, {}, {}, {}, {}, {}, {}, {}, {}, {}, {}, {}, {}\\n'.format (gene_ids[gene_id], gene_id, mutationType, aminoAcidChange, mutproteinPosStart, mutproteinPosEnd, uniqueSampleKey, uniquePatientKey, molecularProfileId, sampleId, patientId, studyId, center, mutationStatus, validationStatus, tumorAltCount, tumorRefCount, normalAltCount, normalRefCount, startPosition, endPosition, referenceAllele, functionalImpactScore, fisValue, linkXvar, linkPdb, linkMsa, ncbiBuild, variantType, keyword, chrm, variantAllele, refseqMrnaId))\n",
    "out.close()\n",
    "#            \n",
    "    \n"
   ]
  },
  {
   "cell_type": "code",
   "execution_count": null,
   "metadata": {},
   "outputs": [],
   "source": [
    "print(error_list[:10])"
   ]
  },
  {
   "cell_type": "code",
   "execution_count": null,
   "metadata": {},
   "outputs": [],
   "source": [
    "len(error_list)"
   ]
  },
  {
   "cell_type": "code",
   "execution_count": null,
   "metadata": {},
   "outputs": [],
   "source": [
    "error_list_df= pd.DataFrame(error_list)"
   ]
  },
  {
   "cell_type": "code",
   "execution_count": null,
   "metadata": {},
   "outputs": [],
   "source": [
    "error_list_df.head(3)"
   ]
  },
  {
   "cell_type": "code",
   "execution_count": null,
   "metadata": {},
   "outputs": [],
   "source": [
    "error_list_df['error_type'].unique()"
   ]
  },
  {
   "cell_type": "code",
   "execution_count": null,
   "metadata": {},
   "outputs": [],
   "source": [
    "error_list2 = []"
   ]
  },
  {
   "cell_type": "code",
   "execution_count": null,
   "metadata": {},
   "outputs": [],
   "source": [
    "\"\"\"\n",
    "Write the data line by line in csv file.can save RAM\n",
    "\"\"\"\n",
    "\n",
    "out = open( 'cBIO_mutations_forloop_V3.csv','w')\n",
    "for index, row in error_list_df.iterrows():\n",
    "    time.sleep(0.1)\n",
    "    try:\n",
    "        mutations = cbioportal.Mutations.getMutationsInMolecularProfileBySampleListIdUsingGET(molecularProfileId= row['profile_ID'], sampleListId= row['List_ID']).response().result\n",
    "    except Exception as e:\n",
    "#         print('error retriving Profile ID: '+ row['profile_ID']+' and List ID: '+row['List_ID']+' exception type: '+type(e).__name__)\n",
    "        error_dict_2 = {}\n",
    "        error_dict_2['profile_ID']=  row['profile_ID']\n",
    "        error_dict_2['List_ID'] = row['List_ID']\n",
    "        error_dict_2['error_type'] = type(e).__name__\n",
    "        error_list2.append(error_dict_2)\n",
    "        continue\n",
    "    for mut in mutations:\n",
    "        gene_id = mut.entrezGeneId\n",
    "        mutationType = mut.mutationType\n",
    "        aminoAcidChange = mut.proteinChange\n",
    "        mutproteinPosStart= mut.proteinPosStart\n",
    "        mutproteinPosEnd = mut.proteinPosEnd\n",
    "        uniqueSampleKey = mut.uniqueSampleKey\n",
    "        uniquePatientKey= mut.uniquePatientKey\n",
    "        molecularProfileId = mut.molecularProfileId\n",
    "        sampleId = mut.sampleId\n",
    "        patientId = mut.patientId\n",
    "        studyId = mut.studyId\n",
    "        center = mut.center\n",
    "        mutationStatus = mut.mutationStatus\n",
    "        validationStatus = mut.validationStatus\n",
    "        tumorAltCount = mut.tumorAltCount\n",
    "        tumorRefCount = mut.tumorRefCount\n",
    "        normalAltCount =mut.normalAltCount\n",
    "        normalRefCount =mut.normalRefCount\n",
    "        startPosition = mut.startPosition\n",
    "        endPosition = mut.endPosition\n",
    "        referenceAllele = mut.referenceAllele\n",
    "        functionalImpactScore = mut.functionalImpactScore\n",
    "        fisValue = mut.fisValue\n",
    "        linkXvar = mut.linkXvar\n",
    "        linkPdb = mut.linkPdb\n",
    "        linkMsa = mut.linkMsa\n",
    "        ncbiBuild= mut.ncbiBuild\n",
    "        variantType= mut.variantType\n",
    "        keyword= mut.keyword\n",
    "        chrm = mut.chr\n",
    "        variantAllele= mut.variantAllele\n",
    "        refseqMrnaId = mut.refseqMrnaId\n",
    "        dict_row = {}\n",
    "        if gene_id not in gene_ids:\n",
    "            gene_info = cbioportal.Genes.getGeneUsingGET(geneId=gene_id).response().result\n",
    "            dict_row[\"geneid\"] = gene_info.hugoGeneSymbol\n",
    "        else:\n",
    "            dict_row[\"geneid\"] = gene_ids[gene_id]\n",
    "        out.write ('{}, {}, {}, {}, {}, {}, {}, {}, {}, {}, {}, {}, {}, {}, {}, {}, {}, {}, {}, {}, {}, {}, {}, {}, {}, {}, {}, {}, {}, {}, {}, {}, {}\\n'.format (gene_ids[gene_id], gene_id, mutationType, aminoAcidChange, mutproteinPosStart, mutproteinPosEnd, uniqueSampleKey, uniquePatientKey, molecularProfileId, sampleId, patientId, studyId, center, mutationStatus, validationStatus, tumorAltCount, tumorRefCount, normalAltCount, normalRefCount, startPosition, endPosition, referenceAllele, functionalImpactScore, fisValue, linkXvar, linkPdb, linkMsa, ncbiBuild, variantType, keyword, chrm, variantAllele, refseqMrnaId))\n",
    "out.close()"
   ]
  },
  {
   "cell_type": "code",
   "execution_count": null,
   "metadata": {},
   "outputs": [],
   "source": [
    "print(error_list2[:10])"
   ]
  },
  {
   "cell_type": "code",
   "execution_count": null,
   "metadata": {},
   "outputs": [],
   "source": [
    "len(error_list2)"
   ]
  },
  {
   "cell_type": "code",
   "execution_count": null,
   "metadata": {},
   "outputs": [],
   "source": []
  }
 ],
 "metadata": {
  "kernelspec": {
   "display_name": "Python 3",
   "language": "python",
   "name": "python3"
  },
  "language_info": {
   "codemirror_mode": {
    "name": "ipython",
    "version": 3
   },
   "file_extension": ".py",
   "mimetype": "text/x-python",
   "name": "python",
   "nbconvert_exporter": "python",
   "pygments_lexer": "ipython3",
   "version": "3.8.8"
  }
 },
 "nbformat": 4,
 "nbformat_minor": 4
}
