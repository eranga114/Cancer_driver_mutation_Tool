{
 "cells": [
  {
   "cell_type": "code",
   "execution_count": null,
   "metadata": {},
   "outputs": [],
   "source": [
    "import time\n",
    "# from tqdm import tqdm\n",
    "import csv\n",
    "import pandas as pd \n",
    "#show all columns\n",
    "pd.set_option(\"display.max_columns\", None)\n",
    "import numpy as np"
   ]
  },
  {
   "cell_type": "code",
   "execution_count": null,
   "metadata": {},
   "outputs": [],
   "source": [
    "positive = pd.read_csv('positive_training_v1_2022_02_04.csv')"
   ]
  },
  {
   "cell_type": "code",
   "execution_count": null,
   "metadata": {},
   "outputs": [],
   "source": [
    "len(positive)"
   ]
  },
  {
   "cell_type": "code",
   "execution_count": null,
   "metadata": {},
   "outputs": [],
   "source": [
    "\"\"\"\n",
    "open chromosomes data\n",
    "\"\"\"\n",
    "chr_df = pd.read_csv('chrm_gene.csv')"
   ]
  },
  {
   "cell_type": "code",
   "execution_count": null,
   "metadata": {},
   "outputs": [],
   "source": []
  },
  {
   "cell_type": "code",
   "execution_count": null,
   "metadata": {},
   "outputs": [],
   "source": [
    "chr_df.head()"
   ]
  },
  {
   "cell_type": "code",
   "execution_count": null,
   "metadata": {},
   "outputs": [],
   "source": [
    "\"\"\"\n",
    "oprn protein lengths\n",
    "\"\"\"\n",
    "prot_len_df = pd.read_csv('protein_len_total.csv', skipinitialspace = True)"
   ]
  },
  {
   "cell_type": "code",
   "execution_count": null,
   "metadata": {},
   "outputs": [],
   "source": [
    "\"\"\"\n",
    "drop column seq\n",
    "\"\"\"\n",
    "prot_len_df = prot_len_df.drop(columns=['seq'])"
   ]
  },
  {
   "cell_type": "code",
   "execution_count": null,
   "metadata": {},
   "outputs": [],
   "source": [
    "\"\"\"\n",
    "drop nan\n",
    "\"\"\"\n",
    "prot_len_df=prot_len_df.dropna()"
   ]
  },
  {
   "cell_type": "code",
   "execution_count": null,
   "metadata": {},
   "outputs": [],
   "source": [
    "prot_len_df"
   ]
  },
  {
   "cell_type": "code",
   "execution_count": null,
   "metadata": {},
   "outputs": [],
   "source": [
    "\"\"\"\n",
    "open cbiomutations and remove whitespace\n",
    "\"\"\"\n",
    "filt_cBIO_mutations_df_new = pd.read_csv('cbio_cancer_count_final_v1_2022_01_29.csv', low_memory=False, skipinitialspace = True)\n",
    "\n"
   ]
  },
  {
   "cell_type": "code",
   "execution_count": null,
   "metadata": {},
   "outputs": [],
   "source": [
    "filt_cBIO_mutations_df_new.columns"
   ]
  },
  {
   "cell_type": "code",
   "execution_count": null,
   "metadata": {
    "scrolled": true
   },
   "outputs": [],
   "source": [
    "cBIO_mutation_filt = filt_cBIO_mutations_df_new.filter(items=['gene_name','mutationType', 'mutproteinPosStart', 'sampleId'])"
   ]
  },
  {
   "cell_type": "code",
   "execution_count": null,
   "metadata": {},
   "outputs": [],
   "source": [
    "cBIO_mutation_filt['mutationType'].unique()"
   ]
  },
  {
   "cell_type": "code",
   "execution_count": null,
   "metadata": {},
   "outputs": [],
   "source": [
    "\"\"\"\n",
    "save as csv for Website\n",
    "\"\"\""
   ]
  },
  {
   "cell_type": "markdown",
   "metadata": {},
   "source": [
    "# merge protein lengths with mutations data"
   ]
  },
  {
   "cell_type": "code",
   "execution_count": null,
   "metadata": {},
   "outputs": [],
   "source": [
    "\"\"\"\n",
    "merge strickly\n",
    "\"\"\"\n",
    "mutations_pro_len_df_filt = pd.merge(filt_cBIO_mutations_df_new, prot_len_df, left_on = ['gene_name'], right_on = ['gene_name'])\n"
   ]
  },
  {
   "cell_type": "code",
   "execution_count": null,
   "metadata": {},
   "outputs": [],
   "source": [
    "len(mutations_pro_len_df_filt)"
   ]
  },
  {
   "cell_type": "code",
   "execution_count": null,
   "metadata": {},
   "outputs": [],
   "source": [
    "len(mutations_pro_len_df_filt['gene_name'].unique())"
   ]
  },
  {
   "cell_type": "code",
   "execution_count": null,
   "metadata": {},
   "outputs": [],
   "source": [
    "\"\"\"\n",
    "merge how= 'left' to identify genes without accession\n",
    "\"\"\"\n",
    "mutations_pro_len_df = pd.merge(filt_cBIO_mutations_df_new, prot_len_df, left_on = ['gene_name'], right_on = ['gene_name'], how = 'left')\n"
   ]
  },
  {
   "cell_type": "code",
   "execution_count": null,
   "metadata": {},
   "outputs": [],
   "source": [
    "mutations_pro_len_df.head(2)"
   ]
  },
  {
   "cell_type": "code",
   "execution_count": null,
   "metadata": {},
   "outputs": [],
   "source": [
    "len(mutations_pro_len_df['gene_name'].unique())"
   ]
  },
  {
   "cell_type": "code",
   "execution_count": null,
   "metadata": {},
   "outputs": [],
   "source": [
    "\"\"\"\n",
    "visulaize NAN values in protein lengths\n",
    "sort by specific samples\n",
    "\"\"\"\n",
    "no_pro_len_df = mutations_pro_len_df[mutations_pro_len_df['pro_len'].isna()]\n",
    "no_pro_len_df = no_pro_len_df.sort_values(by='Specific_Samples', ascending=False)"
   ]
  },
  {
   "cell_type": "code",
   "execution_count": null,
   "metadata": {},
   "outputs": [],
   "source": [
    "no_pro_len_df.head(2)"
   ]
  },
  {
   "cell_type": "code",
   "execution_count": null,
   "metadata": {},
   "outputs": [],
   "source": [
    "len(no_pro_len_df)"
   ]
  },
  {
   "cell_type": "code",
   "execution_count": null,
   "metadata": {},
   "outputs": [],
   "source": [
    "len(no_pro_len_df['gene_name'].unique())"
   ]
  },
  {
   "cell_type": "code",
   "execution_count": null,
   "metadata": {},
   "outputs": [],
   "source": [
    "\"\"\"\n",
    "open ptm_df_hum.csv\n",
    "\"\"\"\n",
    "ptm_df = pd.read_csv('ptm_df_hum.csv', low_memory= False)"
   ]
  },
  {
   "cell_type": "code",
   "execution_count": null,
   "metadata": {},
   "outputs": [],
   "source": [
    "\"\"\"\n",
    "count number of muattions per mut_count\n",
    "\"\"\"\n",
    "count_uniq_ptm_df = ptm_df.groupby(['GENE', 'ACC_ID']).size().reset_index(name='number_of_occurance')\n"
   ]
  },
  {
   "cell_type": "code",
   "execution_count": null,
   "metadata": {},
   "outputs": [],
   "source": [
    "count_uniq_ptm_df.head(2)"
   ]
  },
  {
   "cell_type": "code",
   "execution_count": null,
   "metadata": {},
   "outputs": [],
   "source": [
    "\"\"\"\n",
    "merge\n",
    "\"\"\"\n",
    "no_pro_ptm_df = pd.merge(count_uniq_ptm_df, no_pro_len_df, left_on = 'GENE', right_on= 'gene_name' )"
   ]
  },
  {
   "cell_type": "code",
   "execution_count": null,
   "metadata": {},
   "outputs": [],
   "source": [
    "no_pro_ptm_df.head()"
   ]
  },
  {
   "cell_type": "code",
   "execution_count": null,
   "metadata": {},
   "outputs": [],
   "source": [
    "len(no_pro_ptm_df)"
   ]
  },
  {
   "cell_type": "code",
   "execution_count": null,
   "metadata": {},
   "outputs": [],
   "source": [
    "no_pro_ptm_df_count = no_pro_ptm_df.groupby(['GENE', 'ACC_ID']).size().reset_index(name='number_of_occurance')"
   ]
  },
  {
   "cell_type": "code",
   "execution_count": null,
   "metadata": {},
   "outputs": [],
   "source": [
    "no_pro_ptm_df_count = no_pro_ptm_df_count.filter(items=['GENE', 'ACC_ID'])"
   ]
  },
  {
   "cell_type": "code",
   "execution_count": null,
   "metadata": {},
   "outputs": [],
   "source": [
    "no_pro_ptm_df_count"
   ]
  },
  {
   "cell_type": "code",
   "execution_count": null,
   "metadata": {},
   "outputs": [],
   "source": [
    "\"\"\"\n",
    "save as csv\n",
    "\"\"\"\n",
    "cols = no_pro_ptm_df_count.columns.to_list()\n",
    "no_pro_ptm_df_count.to_csv('remaining_gene_acc.csv', columns= cols, index= False)"
   ]
  },
  {
   "cell_type": "markdown",
   "metadata": {},
   "source": [
    "# merg chromosomes with mutations_pro_len_df_filt"
   ]
  },
  {
   "cell_type": "code",
   "execution_count": null,
   "metadata": {},
   "outputs": [],
   "source": [
    "mut_pro_len_chr_df = pd.merge(mutations_pro_len_df_filt, chr_df, left_on = 'gene_name', right_on ='gene' )"
   ]
  },
  {
   "cell_type": "code",
   "execution_count": null,
   "metadata": {},
   "outputs": [],
   "source": [
    "\"\"\"\n",
    "save as csv\n",
    "\"\"\"\n",
    "cols= mut_pro_len_chr_df.columns.to_list()\n",
    "mut_pro_len_chr_df.to_csv('mutations_for_prediction_final_v1_2022_02_04.csv', columns=cols, index= False)"
   ]
  },
  {
   "cell_type": "code",
   "execution_count": null,
   "metadata": {},
   "outputs": [],
   "source": [
    "len(mut_pro_len_chr_df)"
   ]
  },
  {
   "cell_type": "markdown",
   "metadata": {},
   "source": [
    "# Import hotspots dataset"
   ]
  },
  {
   "cell_type": "code",
   "execution_count": null,
   "metadata": {},
   "outputs": [],
   "source": [
    "cancer_hotspot_df = pd.read_csv ('hotspots_v2.csv')"
   ]
  },
  {
   "cell_type": "code",
   "execution_count": null,
   "metadata": {},
   "outputs": [],
   "source": [
    "cancer_hotspot_df.head(3)"
   ]
  },
  {
   "cell_type": "code",
   "execution_count": null,
   "metadata": {},
   "outputs": [],
   "source": [
    "\"\"\"\n",
    "filter \n",
    "\"\"\"\n",
    "cancer_hotspot_df2 = cancer_hotspot_df.filter(['Hugo_Symbol', 'Amino_Acid_Position', 'Mutation_Count', 'Total_Mutations_in_Gene',\n",
    "       ], axis= 1)"
   ]
  },
  {
   "cell_type": "code",
   "execution_count": null,
   "metadata": {},
   "outputs": [],
   "source": [
    "cancer_hotspot_df2.head(2)"
   ]
  },
  {
   "cell_type": "code",
   "execution_count": null,
   "metadata": {
    "scrolled": true
   },
   "outputs": [],
   "source": [
    "\"\"\"\n",
    "check for duplicates\n",
    "\"\"\"\n",
    "duplicate_row2 = cancer_hotspot_df2[cancer_hotspot_df2.duplicated()]\n",
    "print(duplicate_row2)"
   ]
  },
  {
   "cell_type": "code",
   "execution_count": null,
   "metadata": {},
   "outputs": [],
   "source": [
    "\"\"\"\n",
    "remove duplicates in amino acide position and total mutation\n",
    "\"\"\"\n",
    "hotspots_data_no_dup_df4 = cancer_hotspot_df2.drop_duplicates()"
   ]
  },
  {
   "cell_type": "code",
   "execution_count": null,
   "metadata": {},
   "outputs": [],
   "source": [
    "len(hotspots_data_no_dup_df4)"
   ]
  },
  {
   "cell_type": "code",
   "execution_count": null,
   "metadata": {},
   "outputs": [],
   "source": [
    "hotspots_data_no_dup_df4.head(3)"
   ]
  },
  {
   "cell_type": "code",
   "execution_count": null,
   "metadata": {},
   "outputs": [],
   "source": [
    "\"\"\"\n",
    "duplicates\n",
    "\"\"\"\n",
    "hotspot_df = hotspots_data_no_dup_df4"
   ]
  },
  {
   "cell_type": "code",
   "execution_count": null,
   "metadata": {},
   "outputs": [],
   "source": [
    "\"\"\"\n",
    "there are strings in the amino acid position columns\n",
    "i.e. 'X307_splice'\n",
    "\"\"\"\n",
    "hotspot_df['aa_position'] = hotspot_df['Amino_Acid_Position'].str.extract('(\\d+)')\n",
    "\n"
   ]
  },
  {
   "cell_type": "code",
   "execution_count": null,
   "metadata": {},
   "outputs": [],
   "source": [
    "hotspot_df['aa_position']=pd.to_numeric(hotspot_df['aa_position'])\n"
   ]
  },
  {
   "cell_type": "code",
   "execution_count": null,
   "metadata": {},
   "outputs": [],
   "source": [
    "\"\"\"\n",
    "rename columns\n",
    "\"\"\"\n",
    "hotspot_df = hotspot_df.rename(columns={\"Hugo_Symbol\": \"gene_name\", \"Amino_Acid_Position\": \"Amino_Acid_Position_db\", \n",
    "                                       \"Mutation_Count\": \"Mutation_Count_db\", \"Total_Mutations_in_Gene\": \"Total_Mutations_in_Gene_db\"})\n"
   ]
  },
  {
   "cell_type": "code",
   "execution_count": null,
   "metadata": {},
   "outputs": [],
   "source": [
    "\"\"\"\n",
    "rename columns\n",
    "\"\"\"\n",
    "filt_cBIO_mutations_df_new = mut_pro_len_chr_df.rename(columns = {\"mutproteinPosStart\": \"aa_position\"})"
   ]
  },
  {
   "cell_type": "code",
   "execution_count": null,
   "metadata": {},
   "outputs": [],
   "source": [
    "hotspot_df.head(2)"
   ]
  },
  {
   "cell_type": "code",
   "execution_count": null,
   "metadata": {},
   "outputs": [],
   "source": [
    "hotspot_df.info()"
   ]
  },
  {
   "cell_type": "code",
   "execution_count": null,
   "metadata": {},
   "outputs": [],
   "source": [
    "cancer_hotspot_df.columns"
   ]
  },
  {
   "cell_type": "code",
   "execution_count": null,
   "metadata": {},
   "outputs": [],
   "source": [
    "filt_cBIO_mutations_df_new.head(2)"
   ]
  },
  {
   "cell_type": "code",
   "execution_count": null,
   "metadata": {},
   "outputs": [],
   "source": [
    "filt_cBIO_mutations_df_new.info()"
   ]
  },
  {
   "cell_type": "code",
   "execution_count": null,
   "metadata": {
    "scrolled": true
   },
   "outputs": [],
   "source": [
    "\"\"\"\n",
    "merge both interactions_df and df_main on Uniprot ID and site\n",
    "\"\"\"\n",
    "merge_hotspots_df = pd.merge(filt_cBIO_mutations_df_new,hotspot_df, on=['gene_name','aa_position'])\n",
    "\n"
   ]
  },
  {
   "cell_type": "code",
   "execution_count": null,
   "metadata": {},
   "outputs": [],
   "source": [
    "len(merge_hotspots_df)"
   ]
  },
  {
   "cell_type": "code",
   "execution_count": null,
   "metadata": {},
   "outputs": [],
   "source": [
    "positive_training_df = merge_hotspots_df.loc[merge_hotspots_df['Specific_Patients']>2]"
   ]
  },
  {
   "cell_type": "code",
   "execution_count": null,
   "metadata": {},
   "outputs": [],
   "source": [
    "\"\"\"\n",
    "add a new column(hotspot) which is the Y value\n",
    "\"\"\"\n",
    "positive_training_df['hotspot']= 1"
   ]
  },
  {
   "cell_type": "code",
   "execution_count": null,
   "metadata": {
    "scrolled": true
   },
   "outputs": [],
   "source": [
    "positive_training_df.head(3)"
   ]
  },
  {
   "cell_type": "code",
   "execution_count": null,
   "metadata": {},
   "outputs": [],
   "source": [
    "len(positive_training_df)"
   ]
  },
  {
   "cell_type": "code",
   "execution_count": null,
   "metadata": {},
   "outputs": [],
   "source": [
    "\"\"\"\n",
    "save positive_training_df as csv\n",
    "\"\"\"\n",
    "cols=positive_training_df.columns.to_list()\n",
    "positive_training_df.to_csv('positive_training_v1_2022_02_04.csv', columns= cols, index= False )"
   ]
  },
  {
   "cell_type": "code",
   "execution_count": null,
   "metadata": {},
   "outputs": [],
   "source": [
    "\"\"\"\n",
    "select negative training set\n",
    "includes mutations in the genes (That has positive mutations), but not duplicates\n",
    "\"\"\"\n",
    "\"\"\"\n",
    "Genaral code\n",
    "\n",
    "# Find Rows in DF1 Which Are Not Available in DF2\n",
    "df = df1.merge(df2, how = 'outer' ,indicator=True).loc[lambda x : x['_merge']=='left_only']\n",
    "\n",
    "df\n",
    "\n",
    "# Find Rows in DF2 Which Are Not Available in DF1\n",
    "df = df1.merge(df2, how = 'outer' ,indicator=True).loc[lambda x : x['_merge']=='right_only']\n",
    "\n",
    "df\n",
    "\"\"\"\n",
    "# df1= all_data_new(contains all the values)\n",
    "# df2 = positive_training_df_new(contains hotspots)\n",
    "\n",
    "# Find Rows in DF1 Which Are Not Available in DF2\n",
    "all_negative_data_df_all = filt_cBIO_mutations_df_new.merge(positive_training_df, how = 'outer' ,indicator=True).loc[lambda x : x['_merge']=='left_only']\n"
   ]
  },
  {
   "cell_type": "code",
   "execution_count": null,
   "metadata": {
    "scrolled": true
   },
   "outputs": [],
   "source": [
    "all_negative_data_df_all.head(2)"
   ]
  },
  {
   "cell_type": "markdown",
   "metadata": {},
   "source": [
    "I will create a duplicate of all_negative_data_df_all, so I can access the whole dataset later\n",
    "For the negative dataset I will select mut_count<10"
   ]
  },
  {
   "cell_type": "code",
   "execution_count": null,
   "metadata": {},
   "outputs": [],
   "source": [
    "all_negative_data_df = all_negative_data_df_all.loc[(all_negative_data_df_all['Specific_Patients'] < 20)]\n",
    "# all_negative_data_df = all_negative_data_df_all"
   ]
  },
  {
   "cell_type": "code",
   "execution_count": null,
   "metadata": {},
   "outputs": [],
   "source": [
    "all_negative_data_df.head(2)"
   ]
  },
  {
   "cell_type": "code",
   "execution_count": null,
   "metadata": {},
   "outputs": [],
   "source": [
    "len(all_negative_data_df)"
   ]
  },
  {
   "cell_type": "code",
   "execution_count": null,
   "metadata": {},
   "outputs": [],
   "source": [
    "\"\"\"\n",
    "create a list from positive_training_df_new['Gene']\n",
    "\"\"\"\n",
    "pos_gene_list = positive_training_df['gene_name'].tolist()"
   ]
  },
  {
   "cell_type": "code",
   "execution_count": null,
   "metadata": {},
   "outputs": [],
   "source": [
    "len(pos_gene_list)"
   ]
  },
  {
   "cell_type": "code",
   "execution_count": null,
   "metadata": {},
   "outputs": [],
   "source": [
    "print(pos_gene_list[:7])"
   ]
  },
  {
   "cell_type": "code",
   "execution_count": null,
   "metadata": {},
   "outputs": [],
   "source": [
    "\"\"\"remove duplicates\"\"\"\n",
    "pos_gene_list_2 = list(set(pos_gene_list))"
   ]
  },
  {
   "cell_type": "code",
   "execution_count": null,
   "metadata": {},
   "outputs": [],
   "source": [
    "len(pos_gene_list_2)"
   ]
  },
  {
   "cell_type": "code",
   "execution_count": null,
   "metadata": {},
   "outputs": [],
   "source": [
    "print(pos_gene_list_2)"
   ]
  },
  {
   "cell_type": "code",
   "execution_count": null,
   "metadata": {},
   "outputs": [],
   "source": [
    "\"\"\"\n",
    "select all the rows that are similar in genes of positive data \n",
    "\"\"\"\n",
    "\"\"\"for i in pos_gene_list_2:\n",
    "    print(i)\n",
    "    negative_training_set_1 = all_negative_data_df.loc[(all_negative_data_df['Gene'] == i)]\n",
    "    break\n",
    "# negative_training_set_1 = all_negative_data_df.loc[(all_negative_data_df['Gene'] == 'gene')]\"\"\"\n",
    "\n",
    "boolean_series = all_negative_data_df['gene_name'].isin(pos_gene_list_2)\n",
    "negative_trainig_df_1 = all_negative_data_df[boolean_series]"
   ]
  },
  {
   "cell_type": "code",
   "execution_count": null,
   "metadata": {},
   "outputs": [],
   "source": [
    "negative_trainig_df_1.head(3)"
   ]
  },
  {
   "cell_type": "code",
   "execution_count": null,
   "metadata": {},
   "outputs": [],
   "source": [
    "\"\"\"\n",
    "randomly select 995 rows from higher_muts_df that are not in positive_training_df\n",
    "\"\"\"\n",
    "negative_trainig_df = negative_trainig_df_1.sample(n = len(pos_gene_list))"
   ]
  },
  {
   "cell_type": "code",
   "execution_count": null,
   "metadata": {},
   "outputs": [],
   "source": [
    "\"\"\"\n",
    "count number of muattions per mut_count\n",
    "\"\"\"\n",
    "mut_count_gene_mut_df = negative_trainig_df.groupby(['Specific_Patients']).size().reset_index(name='number_of_occurance')"
   ]
  },
  {
   "cell_type": "code",
   "execution_count": null,
   "metadata": {},
   "outputs": [],
   "source": [
    "mut_count_gene_mut_df"
   ]
  },
  {
   "cell_type": "code",
   "execution_count": null,
   "metadata": {},
   "outputs": [],
   "source": [
    "\"\"\"\n",
    "add a new column(hotspot) which is the Y value\n",
    "\"\"\"\n",
    "negative_trainig_df['hotspot']= 0"
   ]
  },
  {
   "cell_type": "code",
   "execution_count": null,
   "metadata": {
    "scrolled": true
   },
   "outputs": [],
   "source": [
    "negative_trainig_df.head(2)"
   ]
  },
  {
   "cell_type": "code",
   "execution_count": null,
   "metadata": {},
   "outputs": [],
   "source": [
    "positive_training_df.columns"
   ]
  },
  {
   "cell_type": "code",
   "execution_count": null,
   "metadata": {},
   "outputs": [],
   "source": []
  },
  {
   "cell_type": "code",
   "execution_count": null,
   "metadata": {},
   "outputs": [],
   "source": [
    "negative_trainig_df.columns"
   ]
  },
  {
   "cell_type": "code",
   "execution_count": null,
   "metadata": {},
   "outputs": [],
   "source": [
    "\"\"\"\n",
    "same column names as positive training set\n",
    "\"\"\"\n",
    "columns = positive_training_df.columns.tolist()"
   ]
  },
  {
   "cell_type": "code",
   "execution_count": null,
   "metadata": {},
   "outputs": [],
   "source": [
    "negative_trainig_df = negative_trainig_df.filter(items = columns)"
   ]
  },
  {
   "cell_type": "code",
   "execution_count": null,
   "metadata": {},
   "outputs": [],
   "source": [
    "negative_trainig_df.head(2)"
   ]
  },
  {
   "cell_type": "code",
   "execution_count": null,
   "metadata": {},
   "outputs": [],
   "source": [
    "positive_training_df.head(2)"
   ]
  },
  {
   "cell_type": "code",
   "execution_count": null,
   "metadata": {},
   "outputs": [],
   "source": [
    "len(negative_trainig_df)"
   ]
  },
  {
   "cell_type": "code",
   "execution_count": null,
   "metadata": {},
   "outputs": [],
   "source": [
    "\"\"\"\n",
    "save negative_trainig_df as csv\n",
    "\"\"\"\n",
    "cols= negative_trainig_df.columns.to_list()\n",
    "negative_trainig_df.to_csv('negative_trainig_df_v1_2022_02_04.csv', columns= cols, index= False)"
   ]
  },
  {
   "cell_type": "code",
   "execution_count": null,
   "metadata": {},
   "outputs": [],
   "source": [
    "\"\"\"\n",
    "concat dataframes\n",
    "\"\"\"\n",
    "frames = [positive_training_df, negative_trainig_df]\n",
    "\n",
    "training_df = pd.concat(frames)"
   ]
  },
  {
   "cell_type": "code",
   "execution_count": null,
   "metadata": {},
   "outputs": [],
   "source": [
    "training_df.head()"
   ]
  },
  {
   "cell_type": "code",
   "execution_count": null,
   "metadata": {},
   "outputs": [],
   "source": [
    "len(training_df)"
   ]
  },
  {
   "cell_type": "code",
   "execution_count": null,
   "metadata": {},
   "outputs": [],
   "source": [
    "cols= training_df.columns.to_list()\n",
    "training_df.to_csv('training_df_v1_2022_02_04.csv', columns= cols, index= False )"
   ]
  },
  {
   "cell_type": "code",
   "execution_count": null,
   "metadata": {},
   "outputs": [],
   "source": []
  },
  {
   "cell_type": "code",
   "execution_count": null,
   "metadata": {},
   "outputs": [],
   "source": []
  },
  {
   "cell_type": "code",
   "execution_count": null,
   "metadata": {},
   "outputs": [],
   "source": []
  }
 ],
 "metadata": {
  "kernelspec": {
   "display_name": "Python 3",
   "language": "python",
   "name": "python3"
  },
  "language_info": {
   "codemirror_mode": {
    "name": "ipython",
    "version": 3
   },
   "file_extension": ".py",
   "mimetype": "text/x-python",
   "name": "python",
   "nbconvert_exporter": "python",
   "pygments_lexer": "ipython3",
   "version": "3.6.9"
  }
 },
 "nbformat": 4,
 "nbformat_minor": 4
}
