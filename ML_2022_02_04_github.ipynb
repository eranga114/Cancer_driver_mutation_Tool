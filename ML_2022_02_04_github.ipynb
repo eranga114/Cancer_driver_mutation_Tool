{
 "cells": [
  {
   "cell_type": "code",
   "execution_count": null,
   "id": "3a20fceb",
   "metadata": {},
   "outputs": [],
   "source": [
    "import pandas as pd\n",
    "#show all columns\n",
    "pd.set_option(\"display.max_columns\", None)\n",
    "import numpy as np\n",
    "import seaborn as sn\n",
    "import matplotlib.pyplot as plt\n",
    "%matplotlib inline\n",
    "from sklearn.metrics import classification_report\n",
    "from sklearn.metrics import confusion_matrix\n",
    "#for ROC curves\n",
    "from sklearn.metrics import RocCurveDisplay\n"
   ]
  },
  {
   "cell_type": "code",
   "execution_count": null,
   "id": "077dc83e",
   "metadata": {},
   "outputs": [],
   "source": [
    "import sys\n",
    "sys.version"
   ]
  },
  {
   "cell_type": "code",
   "execution_count": null,
   "id": "1d06dbd0",
   "metadata": {},
   "outputs": [],
   "source": [
    "import sklearn\n",
    "print(sklearn.__version__)"
   ]
  },
  {
   "cell_type": "code",
   "execution_count": null,
   "id": "f64043f5",
   "metadata": {},
   "outputs": [],
   "source": [
    "\"\"\"\n",
    "load the training data set\n",
    "\"\"\"\n",
    "training_df = pd.read_csv('training_df_v1_2022_02_04.csv')"
   ]
  },
  {
   "cell_type": "code",
   "execution_count": null,
   "id": "7e8201ee",
   "metadata": {},
   "outputs": [],
   "source": [
    "\"\"\"\n",
    "open cbiomutations and remove whitespace\n",
    "\"\"\"\n",
    "cbio_cancer_count = pd.read_csv('mutations_for_prediction_final_v1_2022_02_04.csv', low_memory=False, skipinitialspace = True)\n"
   ]
  },
  {
   "cell_type": "code",
   "execution_count": null,
   "id": "e581962a",
   "metadata": {},
   "outputs": [],
   "source": [
    "len(cbio_cancer_count)"
   ]
  },
  {
   "cell_type": "code",
   "execution_count": null,
   "id": "27bcbaeb",
   "metadata": {},
   "outputs": [],
   "source": [
    "\"\"\"\n",
    "assign x, and y values\n",
    "x columns \n",
    "1) 'Total_Samples' --> total cancer samples with any mutation in the gene\n",
    "2) 'Specific_Samples' --> cancer samples count with specific mutations\n",
    "3) pro_len --> total aa of the protein\n",
    "4) startposition --> position of the chromosome\n",
    "5) chromasome --> chomosome (1-X)\n",
    "\n",
    "\"\"\"\n",
    "x_train= training_df.filter(items= ['Total_Samples', 'Specific_Samples', 'pro_len', 'startPosition', 'chromasome'])\n",
    "y= training_df['hotspot']"
   ]
  },
  {
   "cell_type": "code",
   "execution_count": null,
   "id": "d7d7eafb",
   "metadata": {},
   "outputs": [],
   "source": [
    "\"\"\"\n",
    "get dummy variables\n",
    "\"\"\"\n",
    "x_dummies= pd.get_dummies(x_train['chromasome'])"
   ]
  },
  {
   "cell_type": "code",
   "execution_count": null,
   "id": "34beb11f",
   "metadata": {},
   "outputs": [],
   "source": [
    "\"\"\"\n",
    "merge dummies with training and _for_prection DFs\n",
    "\"\"\"\n",
    "x_concat = pd.concat([x_train, x_dummies], axis= 'columns')"
   ]
  },
  {
   "cell_type": "code",
   "execution_count": null,
   "id": "0c6e1568",
   "metadata": {},
   "outputs": [],
   "source": [
    "\"\"\"\n",
    "to avoid multy core variable\n",
    "drop  \n",
    "\"\"\"\n",
    "x = x_concat.drop(['chromasome', 'Y'], axis= 'columns')\n"
   ]
  },
  {
   "cell_type": "code",
   "execution_count": null,
   "id": "8204a20c",
   "metadata": {},
   "outputs": [],
   "source": [
    "x['M']=0"
   ]
  },
  {
   "cell_type": "code",
   "execution_count": null,
   "id": "f378f0c5",
   "metadata": {},
   "outputs": [],
   "source": [
    "x=x.filter(items=['Total_Samples', 'Specific_Samples', 'pro_len', 'startPosition', '1',\n",
    "       '10', '11', '12', '13', '14', '15', '16', '17', '18', '19', '2', '20',\n",
    "       '21', '22', '3', '4', '5', '6', '7', '8', '9', 'M', 'X'])"
   ]
  },
  {
   "cell_type": "code",
   "execution_count": null,
   "id": "c8e8b656",
   "metadata": {},
   "outputs": [],
   "source": [
    "x.columns"
   ]
  },
  {
   "cell_type": "markdown",
   "id": "127fdd5f",
   "metadata": {},
   "source": [
    "## Mutations"
   ]
  },
  {
   "cell_type": "code",
   "execution_count": null,
   "id": "873e9eaf",
   "metadata": {},
   "outputs": [],
   "source": [
    "\"\"\"\n",
    "select columns for prediction\n",
    "\"\"\"\n",
    "pred_df_set = cbio_cancer_count.filter(items= ['Total_Samples', 'Specific_Samples', 'pro_len', 'startPosition', 'chromasome'])"
   ]
  },
  {
   "cell_type": "code",
   "execution_count": null,
   "id": "3dce603e",
   "metadata": {},
   "outputs": [],
   "source": [
    "pred_df_dummies= pd.get_dummies(pred_df_set['chromasome'])"
   ]
  },
  {
   "cell_type": "code",
   "execution_count": null,
   "id": "3c1f2624",
   "metadata": {},
   "outputs": [],
   "source": [
    "pred_df_concat = pd.concat([pred_df_set, pred_df_dummies], axis= 'columns')"
   ]
  },
  {
   "cell_type": "code",
   "execution_count": null,
   "id": "f2f765dd",
   "metadata": {},
   "outputs": [],
   "source": [
    "pred_df = pred_df_concat.drop(['chromasome', 'Y'], axis= 'columns')"
   ]
  },
  {
   "cell_type": "code",
   "execution_count": null,
   "id": "eb503459",
   "metadata": {},
   "outputs": [],
   "source": [
    "pred_df.columns"
   ]
  },
  {
   "cell_type": "code",
   "execution_count": null,
   "id": "4a221c87",
   "metadata": {},
   "outputs": [],
   "source": [
    "\"\"\"\n",
    "one hot encording\n",
    "\"\"\""
   ]
  },
  {
   "cell_type": "code",
   "execution_count": null,
   "id": "deb10f32",
   "metadata": {},
   "outputs": [],
   "source": []
  },
  {
   "cell_type": "code",
   "execution_count": null,
   "id": "85710a59",
   "metadata": {},
   "outputs": [],
   "source": [
    "\"\"\"\n",
    "separate data for training and testing(80% training, 20% testing)\n",
    "IMPORTANT UN NORMALAZED DATA\n",
    "\"\"\"\n",
    "from sklearn.model_selection import train_test_split\n",
    "x_train, x_test, y_train, y_test = train_test_split(x,y, train_size= 0.8, test_size= 0.2, random_state=42)\n",
    "len(x)"
   ]
  },
  {
   "cell_type": "code",
   "execution_count": null,
   "id": "f2b75ae7",
   "metadata": {},
   "outputs": [],
   "source": [
    "\"\"\"\n",
    "Normalize data for Support vector machine, logistic classifier, \n",
    "\"\"\"\n",
    "from sklearn.preprocessing import StandardScaler\n",
    "sc = StandardScaler()\n",
    "x_train_i = sc.fit_transform(x_train)\n",
    "x_test_i = sc.fit_transform(x_test)"
   ]
  },
  {
   "cell_type": "markdown",
   "id": "64d57781",
   "metadata": {},
   "source": [
    "# SVM support vector machine classifier- NORMALIZED"
   ]
  },
  {
   "cell_type": "code",
   "execution_count": null,
   "id": "1d08504b",
   "metadata": {},
   "outputs": [],
   "source": [
    "from sklearn.svm import SVC\n",
    "sv = SVC()"
   ]
  },
  {
   "cell_type": "code",
   "execution_count": null,
   "id": "2714e0a3",
   "metadata": {},
   "outputs": [],
   "source": [
    "sv.fit(x_train, y_train)"
   ]
  },
  {
   "cell_type": "code",
   "execution_count": null,
   "id": "603d2914",
   "metadata": {},
   "outputs": [],
   "source": [
    "\"\"\"\n",
    "calculate the score unnormalized\n",
    "\"\"\"\n",
    "sv.score(x_test, y_test)"
   ]
  },
  {
   "cell_type": "code",
   "execution_count": null,
   "id": "2fd7d4d2",
   "metadata": {},
   "outputs": [],
   "source": [
    "\"\"\"\n",
    "classification report, SVM\n",
    "\"\"\"\n",
    "pred_sv= sv.predict(x_test)\n",
    "print(classification_report(y_test,pred_sv))"
   ]
  },
  {
   "cell_type": "markdown",
   "id": "e1a01db9",
   "metadata": {},
   "source": [
    "### Normalized"
   ]
  },
  {
   "cell_type": "code",
   "execution_count": null,
   "id": "54dba29c",
   "metadata": {},
   "outputs": [],
   "source": [
    "sv.fit(x_train_i, y_train)"
   ]
  },
  {
   "cell_type": "code",
   "execution_count": null,
   "id": "6b874964",
   "metadata": {},
   "outputs": [],
   "source": [
    "\"\"\"\n",
    "calculate the score\n",
    "\"\"\"\n",
    "sv.score(x_test_i, y_test)"
   ]
  },
  {
   "cell_type": "code",
   "execution_count": null,
   "id": "a6f142d1",
   "metadata": {},
   "outputs": [],
   "source": [
    "\"\"\"\n",
    "classification report, SVM\n",
    "\"\"\"\n",
    "pred_sv_i= sv.predict(x_test_i)\n",
    "print(classification_report(y_test,pred_sv_i))"
   ]
  },
  {
   "cell_type": "markdown",
   "id": "66ca8bfb",
   "metadata": {},
   "source": [
    "# Random forest classifier-UN NORMALIZED"
   ]
  },
  {
   "cell_type": "code",
   "execution_count": null,
   "id": "c87ea6df",
   "metadata": {},
   "outputs": [],
   "source": [
    "\"\"\"\n",
    "Use Random Forest Classifier \n",
    "\"\"\"\n",
    "from sklearn.ensemble import RandomForestClassifier\n",
    "\n",
    "\n"
   ]
  },
  {
   "cell_type": "code",
   "execution_count": null,
   "id": "7c9e02c9",
   "metadata": {},
   "outputs": [],
   "source": [
    "\"\"\"\n",
    "No normalization\n",
    "\"\"\"\n",
    "rfc = RandomForestClassifier(n_estimators = 1000, criterion='entropy')\n",
    "rfc.fit(x_train, y_train)\n",
    "pred_rfc= rfc.predict(x_test)"
   ]
  },
  {
   "cell_type": "code",
   "execution_count": null,
   "id": "0771d198",
   "metadata": {},
   "outputs": [],
   "source": [
    "\"\"\"\n",
    "classification report, Random Forest\n",
    "\"\"\"\n",
    "\"\"\"\n",
    "Accuracy- Overall, how often is our model correct?\n",
    "Accuracy = truepositives+truenegatives/totalsamples\n",
    "\n",
    "Precision = truepositives/(truepositives+falsepositives)\n",
    "When the model predicts positive, how often is it correct?- helps to identify falsepositives\n",
    "\n",
    "recall- helps to identify falsenegatives\n",
    "recall= truepositives/(truepositives+falseNEGATIVES)\n",
    "\n",
    "F1 Score- F1 is an overall measure of a model’s accuracy that combines precision and recall\n",
    "F1 score = 2(precision*recall)/(precision+recall)\n",
    "\"\"\"\n",
    "print(classification_report(y_test,pred_rfc))"
   ]
  },
  {
   "cell_type": "code",
   "execution_count": null,
   "id": "2ff9a93f",
   "metadata": {},
   "outputs": [],
   "source": [
    "\"\"\"\n",
    "confusion matrix Random forest\n",
    "\"\"\"\n",
    "cm_rfc = confusion_matrix (y_test,pred_rfc)\n",
    "cm_rfc"
   ]
  },
  {
   "cell_type": "code",
   "execution_count": null,
   "id": "74657f6c",
   "metadata": {},
   "outputs": [],
   "source": [
    "\"\"\"\n",
    "use seaborn for better visualization of confusion matrix\n",
    "\"\"\"\n",
    "import seaborn as sn\n",
    "import matplotlib.pyplot as plt\n",
    "sn.heatmap(cm_rfc, annot = True)\n",
    "plt.xlabel('Predicted')\n",
    "plt.ylabel('Actual')\n",
    "plt.savefig('Random_forrest_confusion_matrix.png', dpi = 1200)"
   ]
  },
  {
   "cell_type": "markdown",
   "id": "8fd43665",
   "metadata": {},
   "source": [
    "### Normalized"
   ]
  },
  {
   "cell_type": "code",
   "execution_count": null,
   "id": "aa99ff03",
   "metadata": {},
   "outputs": [],
   "source": [
    "rfc.fit(x_train_i, y_train)\n",
    "\"\"\"\n",
    "calculate the score\n",
    "\"\"\"\n",
    "rfc.score(x_test_i, y_test)"
   ]
  },
  {
   "cell_type": "code",
   "execution_count": null,
   "id": "43351c4f",
   "metadata": {},
   "outputs": [],
   "source": [
    "\"\"\"\n",
    "Classification report\n",
    "\"\"\"\n",
    "\"\"\"\n",
    "classification report, SVM\n",
    "\"\"\"\n",
    "pred_rfc_i= rfc.predict(x_test_i)\n",
    "print(classification_report(y_test,pred_rfc_i))"
   ]
  },
  {
   "cell_type": "markdown",
   "id": "c9efc506",
   "metadata": {},
   "source": [
    "# Decision Tree - UN NORMALIZED"
   ]
  },
  {
   "cell_type": "code",
   "execution_count": null,
   "id": "bd65db23",
   "metadata": {},
   "outputs": [],
   "source": [
    "from sklearn import tree\n",
    "dt = tree.DecisionTreeClassifier(criterion='entropy')"
   ]
  },
  {
   "cell_type": "code",
   "execution_count": null,
   "id": "ed401283",
   "metadata": {},
   "outputs": [],
   "source": [
    "\"\"\"\n",
    "Un normaized \n",
    "\"\"\"\n",
    "dt.fit(x_train, y_train)\n",
    "dt_pred = dt.predict(x_test)"
   ]
  },
  {
   "cell_type": "code",
   "execution_count": null,
   "id": "a8744ea8",
   "metadata": {},
   "outputs": [],
   "source": [
    "\"\"\"\n",
    "Classification score, decission tree classifier\n",
    "\"\"\"\n",
    "print(classification_report(y_test,dt_pred))"
   ]
  },
  {
   "cell_type": "code",
   "execution_count": null,
   "id": "94b98c82",
   "metadata": {},
   "outputs": [],
   "source": [
    "\"\"\"\n",
    "confusion matrix decission tree classifier\n",
    "\"\"\"\n",
    "cm_dt = confusion_matrix (y_test,dt_pred)\n",
    "cm_dt"
   ]
  },
  {
   "cell_type": "code",
   "execution_count": null,
   "id": "4ea9f669",
   "metadata": {},
   "outputs": [],
   "source": [
    "\"\"\"\n",
    "calculate the score\n",
    "\"\"\"\n",
    "dt.score(x_test, y_test)"
   ]
  },
  {
   "cell_type": "markdown",
   "id": "b2986538",
   "metadata": {},
   "source": [
    "### NORMALIZED"
   ]
  },
  {
   "cell_type": "code",
   "execution_count": null,
   "id": "8ee1b00c",
   "metadata": {},
   "outputs": [],
   "source": [
    "dt.fit(x_train_i, y_train)\n",
    "\"\"\"\n",
    "calculate the score\n",
    "\"\"\"\n",
    "dt.score(x_test_i, y_test)"
   ]
  },
  {
   "cell_type": "markdown",
   "id": "3261bab0",
   "metadata": {},
   "source": [
    "# Kneighbors classifier- NORMALIZED"
   ]
  },
  {
   "cell_type": "code",
   "execution_count": null,
   "id": "b345117d",
   "metadata": {},
   "outputs": [],
   "source": [
    "\"\"\"\n",
    "Kneighbors classifier\n",
    "\"\"\"\n",
    "from sklearn.neighbors import KNeighborsClassifier\n",
    "neigh = KNeighborsClassifier(n_neighbors=2, weights= 'distance')\n",
    "neigh.fit(x_train, y_train)"
   ]
  },
  {
   "cell_type": "code",
   "execution_count": null,
   "id": "73cd697a",
   "metadata": {},
   "outputs": [],
   "source": [
    "neigh_pred = neigh.predict(x_test)"
   ]
  },
  {
   "cell_type": "code",
   "execution_count": null,
   "id": "5362f955",
   "metadata": {},
   "outputs": [],
   "source": [
    "\"\"\"\n",
    "Classification score, decission tree classifier\n",
    "\"\"\"\n",
    "print(classification_report(y_test,neigh_pred))"
   ]
  },
  {
   "cell_type": "markdown",
   "id": "72dbbb8c",
   "metadata": {},
   "source": [
    "### NORMALIZED"
   ]
  },
  {
   "cell_type": "code",
   "execution_count": null,
   "id": "3500b05a",
   "metadata": {},
   "outputs": [],
   "source": [
    "neigh.fit(x_train_i, y_train)\n",
    "\"\"\"\n",
    "calculate the score\n",
    "\"\"\"\n",
    "neigh.score(x_test_i, y_test)"
   ]
  },
  {
   "cell_type": "code",
   "execution_count": null,
   "id": "c83f8a9c",
   "metadata": {},
   "outputs": [],
   "source": [
    "neigh= KNeighborsClassifier(n_neighbors=2)\n",
    "neigh.fit(x_train_i, y_train)"
   ]
  },
  {
   "cell_type": "code",
   "execution_count": null,
   "id": "b2222d87",
   "metadata": {},
   "outputs": [],
   "source": [
    "neigh_pred_i = neigh.predict(x_test_i)\n",
    "\"\"\"\n",
    "Classification score, decission tree classifier\n",
    "\"\"\"\n",
    "print(classification_report(y_test,neigh_pred_i))"
   ]
  },
  {
   "cell_type": "markdown",
   "id": "c814cc8b",
   "metadata": {},
   "source": [
    "# Logistic Regression - NORMALIZED"
   ]
  },
  {
   "cell_type": "code",
   "execution_count": null,
   "id": "5427d521",
   "metadata": {},
   "outputs": [],
   "source": [
    "from sklearn.linear_model import LogisticRegression\n",
    "lr = LogisticRegression(penalty='none', class_weight='balanced', solver= 'lbfgs')"
   ]
  },
  {
   "cell_type": "code",
   "execution_count": null,
   "id": "521ecc5a",
   "metadata": {},
   "outputs": [],
   "source": [
    "lr.fit(x_train, y_train)"
   ]
  },
  {
   "cell_type": "code",
   "execution_count": null,
   "id": "2bfe9d26",
   "metadata": {},
   "outputs": [],
   "source": [
    "lr_pred = lr.predict(x_test)\n",
    "lr_pred\n",
    "# For ROC \n",
    "y_pred_lg = lr.decision_function(x_test)"
   ]
  },
  {
   "cell_type": "code",
   "execution_count": null,
   "id": "51b117b3",
   "metadata": {},
   "outputs": [],
   "source": [
    "lr.score(x_test, y_test)"
   ]
  },
  {
   "cell_type": "code",
   "execution_count": null,
   "id": "4f865fd1",
   "metadata": {},
   "outputs": [],
   "source": [
    "\"\"\"\n",
    "Classification score, logistic regression\n",
    "\"\"\"\n",
    "print(classification_report(y_test,lr_pred))"
   ]
  },
  {
   "cell_type": "code",
   "execution_count": null,
   "id": "35a8629e",
   "metadata": {},
   "outputs": [],
   "source": [
    "\"\"\"\n",
    "confusion matrix logistic regression\n",
    "\"\"\"\n",
    "cm_lr = confusion_matrix (y_test,lr_pred)\n",
    "cm_lr"
   ]
  },
  {
   "cell_type": "markdown",
   "id": "d592b6eb",
   "metadata": {},
   "source": [
    "### NORMALIZED"
   ]
  },
  {
   "cell_type": "code",
   "execution_count": null,
   "id": "3110efbb",
   "metadata": {},
   "outputs": [],
   "source": [
    "lr.fit(x_train_i, y_train)"
   ]
  },
  {
   "cell_type": "code",
   "execution_count": null,
   "id": "4ee8291f",
   "metadata": {},
   "outputs": [],
   "source": [
    "lr_pred_i = lr.predict(x_test_i)\n",
    "# For ROC \n",
    "# y_pred_lg = lr.decision_function(x_test)"
   ]
  },
  {
   "cell_type": "code",
   "execution_count": null,
   "id": "ee827b7a",
   "metadata": {},
   "outputs": [],
   "source": [
    "lr.score(x_test_i, y_test)"
   ]
  },
  {
   "cell_type": "code",
   "execution_count": null,
   "id": "9fa09d67",
   "metadata": {},
   "outputs": [],
   "source": [
    "\"\"\"\n",
    "Classification score, logistic regression\n",
    "\"\"\"\n",
    "print(classification_report(y_test,lr_pred_i))"
   ]
  },
  {
   "cell_type": "markdown",
   "id": "6a146698",
   "metadata": {},
   "source": [
    "# ROC, AUC"
   ]
  },
  {
   "cell_type": "code",
   "execution_count": null,
   "id": "1a2fd1ea",
   "metadata": {},
   "outputs": [],
   "source": [
    "from sklearn.metrics import roc_curve\n",
    "from sklearn.metrics import RocCurveDisplay\n",
    "\n",
    "y_score = rfc.decision_function(x_test)\n",
    "\n",
    "fpr, tpr, _ = roc_curve(y_test, y_score, pos_label=clf.classes_[1])\n",
    "roc_display = RocCurveDisplay(fpr=fpr, tpr=tpr).plot()"
   ]
  },
  {
   "cell_type": "code",
   "execution_count": null,
   "id": "00a53291",
   "metadata": {},
   "outputs": [],
   "source": [
    "# rfc = RandomForestClassifier(n_estimators=10, random_state=42)\n",
    "# rfc.fit(X_train, y_train)\n",
    "from sklearn import metrics\n",
    "\n",
    "ax = plt.gca()\n",
    "rfc_disp = RocCurveDisplay.from_estimator(rfc, x_test, y_test, ax=ax, alpha=0.8)\n",
    "lr_disp = RocCurveDisplay.from_estimator(lr, x_test_i, y_test, ax=ax, alpha=0.8)\n",
    "dt_disp = RocCurveDisplay.from_estimator(dt, x_test, y_test, ax=ax, alpha=0.8)\n",
    "neigh_disp = RocCurveDisplay.from_estimator(neigh, x_test_i, y_test, ax=ax, alpha=0.8)\n",
    "svc_disp = RocCurveDisplay.from_estimator(sv, x_test_i, y_test, ax=ax, alpha=0.8)\n",
    "\n",
    "# plt.figure(figsize=(5, 5), dpi=600)\n",
    "# svc_disp.plot(ax=ax, alpha=0.8)\n",
    "# plt.show()\n",
    "plt.savefig(\"ROC.png\", dpi=600, bbox_inches=\"tight\", pad_inches=1, transparent=True)\n"
   ]
  },
  {
   "cell_type": "markdown",
   "id": "3e2b3e72",
   "metadata": {},
   "source": [
    "# K-fold cross validation"
   ]
  },
  {
   "cell_type": "code",
   "execution_count": null,
   "id": "98751746",
   "metadata": {},
   "outputs": [],
   "source": [
    "from sklearn.model_selection import cross_val_score"
   ]
  },
  {
   "cell_type": "code",
   "execution_count": null,
   "id": "56b6ec86",
   "metadata": {},
   "outputs": [],
   "source": [
    "\"\"\"\n",
    "cv = number of folds\n",
    "Random Forest\n",
    "\"\"\"\n",
    "# from sklearn.ensemble import RandomForestClassifier\n",
    "rf = cross_val_score(RandomForestClassifier(n_estimators= 1000),x_test, y_test, cv = 10)"
   ]
  },
  {
   "cell_type": "code",
   "execution_count": null,
   "id": "8b32813c",
   "metadata": {},
   "outputs": [],
   "source": [
    "\"\"\"\n",
    "calculate the mean accuracy score\n",
    "\"\"\"\n",
    "np.mean(rf)"
   ]
  },
  {
   "cell_type": "code",
   "execution_count": null,
   "id": "c376d689",
   "metadata": {},
   "outputs": [],
   "source": [
    "\"\"\"\n",
    "desicion tree\n",
    "\"\"\"\n",
    "from sklearn import tree\n",
    "tree = cross_val_score(tree.DecisionTreeClassifier(criterion='entropy', splitter='best'), x_test, y_test, cv = 10)\n",
    "\"\"\"\n",
    "calculate the mean accuracy score\n",
    "\"\"\"\n",
    "np.mean(tree)"
   ]
  },
  {
   "cell_type": "code",
   "execution_count": null,
   "id": "7fdf96a0",
   "metadata": {},
   "outputs": [],
   "source": [
    "\"\"\"\n",
    "SVM\n",
    "\"\"\"\n",
    "from sklearn.svm import SVC\n",
    "from sklearn import svm\n",
    "svm_new = cross_val_score(svm.SVC(C=2.5, kernel='linear'), x_test_i, y_test, cv = 10)\n",
    "\"\"\"\n",
    "calculate the mean accuracy score\n",
    "\"\"\"\n",
    "np.mean(svm_new)"
   ]
  },
  {
   "cell_type": "code",
   "execution_count": null,
   "id": "335ad445",
   "metadata": {},
   "outputs": [],
   "source": [
    "\"\"\"\n",
    "logistic regression\n",
    "\"\"\"\n",
    "from sklearn.linear_model import LogisticRegression\n",
    "lr = cross_val_score(LogisticRegression(penalty='none', class_weight='balanced', solver= 'lbfgs'), x_test_i, y_test, cv =10)\n",
    "\"\"\"\n",
    "calculate the mean accuracy score\n",
    "\"\"\"\n",
    "np.mean(lr)"
   ]
  },
  {
   "cell_type": "code",
   "execution_count": null,
   "id": "27453d62",
   "metadata": {},
   "outputs": [],
   "source": [
    "\"\"\"\n",
    "KNeighbors\n",
    "\"\"\"\n",
    "from sklearn.neighbors import KNeighborsClassifier\n",
    "kn = cross_val_score(KNeighborsClassifier(n_neighbors=2, weights= 'distance'), x_test_i, y_test, cv =10)\n",
    "\"\"\"\n",
    "calculate the mean accuracy score\n",
    "\"\"\"\n",
    "np.mean(kn)"
   ]
  },
  {
   "cell_type": "markdown",
   "id": "4a4da7c7",
   "metadata": {},
   "source": [
    "# prediction"
   ]
  },
  {
   "cell_type": "code",
   "execution_count": null,
   "id": "1f3805f4",
   "metadata": {},
   "outputs": [],
   "source": [
    "\"\"\"\n",
    "retrain the RFC with training set (all the data)\n",
    "\"\"\"\n",
    "# \"\"\"\n",
    "# assign x, and y values\n",
    "# x columns \n",
    "# 1) 'Total_Samples' --> total cancer samples with any mutation in the gene\n",
    "# 2) 'Specific_Samples' --> cancer samples count with specific mutations\n",
    "# 3) startposition --> position of the genome\n",
    "\n",
    "# \"\"\"\n",
    "# x= training_df.filter(items= ['Total_Samples', 'Specific_Samples', 'startPosition' ])\n",
    "# y= training_df['hotspot']"
   ]
  },
  {
   "cell_type": "code",
   "execution_count": null,
   "id": "42aedffb",
   "metadata": {},
   "outputs": [],
   "source": [
    "\"\"\"\n",
    "Use Random Forest Classifier \n",
    "\"\"\"\n",
    "from sklearn.ensemble import RandomForestClassifier\n"
   ]
  },
  {
   "cell_type": "code",
   "execution_count": null,
   "id": "fe463cc5",
   "metadata": {},
   "outputs": [],
   "source": [
    "\"\"\"\n",
    "No normalization\n",
    "\"\"\"\n",
    "rfc_final = RandomForestClassifier(n_estimators = 1000)\n",
    "rfc_final.fit(x, y)\n",
    "# pred_rfc= rfc.predict(x_test)"
   ]
  },
  {
   "cell_type": "markdown",
   "id": "d64ec1c7",
   "metadata": {},
   "source": [
    "# Save Model To a File Using Python Pickle"
   ]
  },
  {
   "cell_type": "code",
   "execution_count": null,
   "id": "8b65c9d1",
   "metadata": {},
   "outputs": [],
   "source": [
    "import pickle\n",
    "\"\"\"\n",
    "open a file\n",
    "\"\"\"\n",
    "# wb - write in binary mode\n",
    "with open('rfc_model_pickle_v1_2022_02_04','wb') as file:\n",
    "    #dump rfc model into the file\n",
    "    pickle.dump(rfc_final,file)"
   ]
  },
  {
   "cell_type": "markdown",
   "id": "a597f38a",
   "metadata": {},
   "source": [
    "#### Load model"
   ]
  },
  {
   "cell_type": "code",
   "execution_count": null,
   "id": "8a1f74cb",
   "metadata": {},
   "outputs": [],
   "source": [
    "# rb -read in binary mode\n",
    "with open('rfc_model_pickle_v1_2022_02_04','rb') as file:\n",
    "    rf_pickle = pickle.load(file)"
   ]
  },
  {
   "cell_type": "markdown",
   "id": "9e7e90cb",
   "metadata": {},
   "source": [
    "# Prediction"
   ]
  },
  {
   "cell_type": "code",
   "execution_count": null,
   "id": "d59d7580",
   "metadata": {},
   "outputs": [],
   "source": [
    "pred_df.head(2)"
   ]
  },
  {
   "cell_type": "code",
   "execution_count": null,
   "id": "db9f1676",
   "metadata": {},
   "outputs": [],
   "source": [
    "\"\"\"\n",
    "actual prediction\n",
    "['Total_Samples', 'Specific_Samples', 'startPosition' ]\n",
    "\"\"\"\n",
    "pred_rfc = rfc_final.predict(pred_df)"
   ]
  },
  {
   "cell_type": "code",
   "execution_count": null,
   "id": "0b85cb44",
   "metadata": {},
   "outputs": [],
   "source": [
    "len(pred_rfc)"
   ]
  },
  {
   "cell_type": "code",
   "execution_count": null,
   "id": "05077579",
   "metadata": {},
   "outputs": [],
   "source": [
    "\"\"\"\n",
    "Add prediction to the all_test DF\n",
    "\"\"\"\n",
    "hot_prediction_df = pd.concat([cbio_cancer_count, pd.DataFrame(pred_rfc)], axis=1)"
   ]
  },
  {
   "cell_type": "markdown",
   "id": "1cd77b13",
   "metadata": {},
   "source": [
    "# probability"
   ]
  },
  {
   "cell_type": "code",
   "execution_count": null,
   "id": "5e56e183",
   "metadata": {},
   "outputs": [],
   "source": [
    "\"\"\"\n",
    "calculate the prediction probabilities\n",
    "\"\"\"\n",
    "rfc_probability = rfc_final.predict_proba(pred_df)"
   ]
  },
  {
   "cell_type": "code",
   "execution_count": null,
   "id": "c3f33770",
   "metadata": {},
   "outputs": [],
   "source": [
    "pred_with_pred_df = pd.concat([hot_prediction_df, pd.DataFrame(rfc_probability)], axis=1)"
   ]
  },
  {
   "cell_type": "code",
   "execution_count": null,
   "id": "822b7b06",
   "metadata": {},
   "outputs": [],
   "source": [
    "pred_with_pred_df.head(3)"
   ]
  },
  {
   "cell_type": "code",
   "execution_count": null,
   "id": "e07677b4",
   "metadata": {},
   "outputs": [],
   "source": [
    "pred_with_pred_df.columns"
   ]
  },
  {
   "cell_type": "code",
   "execution_count": null,
   "id": "8b328639",
   "metadata": {},
   "outputs": [],
   "source": [
    "pred_with_pred_df.columns = [ 'gene_id',         'Total_Samples',\n",
    "                'mutationType',    'mutproteinPosStart',\n",
    "            'Specific_Samples',        'Total_Patients',\n",
    "           'Specific_Patients',             'gene_name',\n",
    "             'aminoAcidChange',      'mutproteinPosEnd',\n",
    "             'uniqueSampleKey',      'uniquePatientKey',\n",
    "          'molecularProfileId',              'sampleId',\n",
    "                   'patientId',               'studyId',\n",
    "                      'center',        'mutationStatus',\n",
    "            'validationStatus',         'tumorAltCount',\n",
    "               'tumorRefCount',        'normalAltCount',\n",
    "              'normalRefCount',         'startPosition',\n",
    "                 'endPosition',       'referenceAllele',\n",
    "       'functionalImpactScore',              'fisValue',\n",
    "                    'linkXvar',               'linkPdb',\n",
    "                     'linkMsa',             'ncbiBuild',\n",
    "                 'variantType',               'keyword',\n",
    "                        'chrm',         'variantAllele',\n",
    "                'refseqMrnaId',             'accession',\n",
    "                     'pro_len',            'chromasome',\n",
    "                        'gene',                       'driver_mut',\n",
    "                             'prob_0',                       'probability']"
   ]
  },
  {
   "cell_type": "code",
   "execution_count": null,
   "id": "2eb0d8ae",
   "metadata": {},
   "outputs": [],
   "source": [
    "pred_with_pred_df.head(3)"
   ]
  },
  {
   "cell_type": "markdown",
   "id": "80b9f0bd",
   "metadata": {},
   "source": [
    "# Save final prediction as csv"
   ]
  },
  {
   "cell_type": "code",
   "execution_count": null,
   "id": "fe6fc4f9",
   "metadata": {},
   "outputs": [],
   "source": [
    "cols = pred_with_pred_df.columns.to_list()\n",
    "pred_with_pred_df.to_csv('driv_pred_final_v1_2022_02_04.csv', columns= cols, index=False)"
   ]
  },
  {
   "cell_type": "code",
   "execution_count": null,
   "id": "cabf2019",
   "metadata": {},
   "outputs": [],
   "source": [
    "pred_with_pred_df[(pred_with_pred_df['probability']>0.85)]"
   ]
  },
  {
   "cell_type": "code",
   "execution_count": null,
   "id": "a651b831",
   "metadata": {},
   "outputs": [],
   "source": [
    "import pandas as pd"
   ]
  },
  {
   "cell_type": "code",
   "execution_count": null,
   "id": "b18bd2cc",
   "metadata": {},
   "outputs": [],
   "source": [
    "driver_mut = pd.read_csv('driv_pred_final_v1_2022_02_04.csv', low_memory=False)"
   ]
  },
  {
   "cell_type": "code",
   "execution_count": null,
   "id": "16c93564",
   "metadata": {},
   "outputs": [],
   "source": [
    "# driver_mut.head(2)"
   ]
  },
  {
   "cell_type": "code",
   "execution_count": null,
   "id": "1c8e0a7e",
   "metadata": {},
   "outputs": [],
   "source": [
    "\"\"\"['Missense Mutation', \"5'Flank\", 'Frame Shift', 'Nonsense_Mutation',\n",
    "       'InFrame Deletions', 'Splice Site', 'Translation_Start_Site',\n",
    "       'Splice Region', 'InFrame Insersions', 'Targeted_Region',\n",
    "       'Nonstop_Mutation', 'Intergenic_variant', 'Start_Codon_Ins']\"\"\"\n",
    "#Select Misssense, and nonsense muatations\n",
    "driver_mut_mis_non = driver_mut.loc[(driver_mut['mutationType']=='Missense Mutation') | \n",
    "                               (driver_mut['mutationType']=='Nonsense_Mutation')]"
   ]
  },
  {
   "cell_type": "code",
   "execution_count": null,
   "id": "562f03e9",
   "metadata": {},
   "outputs": [],
   "source": [
    "\"\"\"\n",
    "remove last string (AA) \n",
    "\"\"\"\n",
    "driver_mut_mis_non['AA'] = driver_mut_mis_non['aminoAcidChange'].str[:-1]"
   ]
  },
  {
   "cell_type": "code",
   "execution_count": null,
   "id": "a1a3aaac",
   "metadata": {},
   "outputs": [],
   "source": [
    "#Select Frameshifts\n",
    "driver_mut_fs= driver_mut.loc[driver_mut['mutationType']=='Frame Shift']"
   ]
  },
  {
   "cell_type": "code",
   "execution_count": null,
   "id": "97c5dc72",
   "metadata": {},
   "outputs": [],
   "source": [
    "driver_mut_fs['aa_number'] = driver_mut_fs['aminoAcidChange'].str.extract('(\\d+)')"
   ]
  },
  {
   "cell_type": "code",
   "execution_count": null,
   "id": "be16a381",
   "metadata": {},
   "outputs": [],
   "source": [
    "\"\"\"\n",
    "extract 1st string/AA\n",
    "\"\"\"\n",
    "driver_mut_fs['aa_letter'] = driver_mut_fs['aminoAcidChange'].astype(str).str[0]"
   ]
  },
  {
   "cell_type": "code",
   "execution_count": null,
   "id": "66f9f7b4",
   "metadata": {},
   "outputs": [],
   "source": [
    "driver_mut_fs[\"AA\"] = driver_mut_fs['aa_letter'] + driver_mut_fs['aa_number'].astype(str)"
   ]
  },
  {
   "cell_type": "code",
   "execution_count": null,
   "id": "9d2270e4",
   "metadata": {},
   "outputs": [],
   "source": [
    "\"\"\"\n",
    "filter driver_mut_fs with the same columns in driver_mut_mis_non\n",
    "\"\"\"\n",
    "driver_mut_fs_filt = driver_mut_fs_filt.drop(['aa_number', 'aa_letter'], axis=1)"
   ]
  },
  {
   "cell_type": "code",
   "execution_count": null,
   "id": "ca501167",
   "metadata": {},
   "outputs": [],
   "source": [
    "# driver_mut_fs_filt.head(2)"
   ]
  },
  {
   "cell_type": "code",
   "execution_count": null,
   "id": "8bf4ab8d",
   "metadata": {},
   "outputs": [],
   "source": [
    "\"\"\"\n",
    "select the mutations types that are not frame shift, missense, and nonsense\n",
    "\"\"\"\n",
    "driver_mut_other = driver_mut.loc[(driver_mut['mutationType']!= 'Missense Mutation')\n",
    "                                 & (driver_mut['mutationType']!= 'Nonsense_Mutation')\n",
    "                                 & (driver_mut['mutationType']!= 'Frame Shift')]"
   ]
  },
  {
   "cell_type": "code",
   "execution_count": null,
   "id": "1acfdd5d",
   "metadata": {},
   "outputs": [],
   "source": [
    "driver_mut_other['AA']= driver_mut_other['aminoAcidChange']"
   ]
  },
  {
   "cell_type": "code",
   "execution_count": null,
   "id": "8f8606dc",
   "metadata": {},
   "outputs": [],
   "source": [
    "# driver_mut_other.head(2)"
   ]
  },
  {
   "cell_type": "code",
   "execution_count": null,
   "id": "1d649253",
   "metadata": {},
   "outputs": [],
   "source": []
  },
  {
   "cell_type": "code",
   "execution_count": null,
   "id": "6ff6a78a",
   "metadata": {},
   "outputs": [],
   "source": [
    "\"\"\"\n",
    "concat driver_mut_mis_non, driver_mut_fs_filt, driver_mut_other\n",
    "\"\"\"\n",
    "frames = [driver_mut_mis_non, driver_mut_fs_filt, driver_mut_other]\n",
    "\n",
    "driver_mut_filt = pd.concat(frames)"
   ]
  },
  {
   "cell_type": "code",
   "execution_count": null,
   "id": "05a8a9b4",
   "metadata": {},
   "outputs": [],
   "source": [
    "\"\"\"\n",
    "Save as csv\n",
    "\"\"\"\n",
    "cols = driver_mut_filt.columns.to_list()\n",
    "driver_mut_filt.to_csv('driv_pred_final_v1_2022_02_15.csv', columns=cols, index=False)"
   ]
  },
  {
   "cell_type": "code",
   "execution_count": null,
   "id": "04c683c4",
   "metadata": {},
   "outputs": [],
   "source": [
    "\"\"\"\n",
    "open varient mutations\n",
    "\"\"\"\n",
    "varient_sample_chr = pd.read_csv('varient_sample_chr_02_16.csv', low_memory= False)"
   ]
  },
  {
   "cell_type": "code",
   "execution_count": null,
   "id": "d345e634",
   "metadata": {},
   "outputs": [],
   "source": [
    "# varient_sample_chr.head(2)"
   ]
  },
  {
   "cell_type": "code",
   "execution_count": null,
   "id": "426aa08e",
   "metadata": {},
   "outputs": [],
   "source": [
    "driver_mut_filt = pd.read_csv('driv_pred_final_v1_2022_02_15.csv', low_memory=False)"
   ]
  },
  {
   "cell_type": "code",
   "execution_count": null,
   "id": "1f318fe9",
   "metadata": {},
   "outputs": [],
   "source": [
    "# driver_mut_filt.head(2)"
   ]
  },
  {
   "cell_type": "code",
   "execution_count": null,
   "id": "18062d68",
   "metadata": {},
   "outputs": [],
   "source": [
    "\"\"\"\n",
    "merge driver_mut_filt and varient_sample_chr\n",
    "\"\"\"\n",
    "driv_pred_vari_final = pd.merge(driver_mut_filt, varient_sample_chr, on= ['gene_name', 'gene_id', 'mutationType', 'mutproteinPosStart',\n",
    "                                                                         'Specific_Samples', 'Total_Samples', 'Specific_Samples',\n",
    "                                                                         'chromasome', 'gene'] )"
   ]
  },
  {
   "cell_type": "code",
   "execution_count": null,
   "id": "4b55ae10",
   "metadata": {},
   "outputs": [],
   "source": [
    "driv_pred_vari_final"
   ]
  },
  {
   "cell_type": "code",
   "execution_count": null,
   "id": "fc0ee802",
   "metadata": {},
   "outputs": [],
   "source": [
    "GNAS = driv_pred_vari_final.loc[(driv_pred_vari_final['gene_name']== 'GNAS')&\n",
    "                        (driv_pred_vari_final['mutproteinPosStart'] == 201)]"
   ]
  },
  {
   "cell_type": "code",
   "execution_count": null,
   "id": "c7ea63ed",
   "metadata": {},
   "outputs": [],
   "source": [
    "GNAS.head(10)"
   ]
  },
  {
   "cell_type": "code",
   "execution_count": null,
   "id": "a739bc45",
   "metadata": {},
   "outputs": [],
   "source": [
    "driv_pred_vari_final.sort_values(by=['Specific_Samples', 'Varient_Count'],ascending=False)"
   ]
  },
  {
   "cell_type": "code",
   "execution_count": null,
   "id": "2d41e5a9",
   "metadata": {},
   "outputs": [],
   "source": [
    "\"\"\"\n",
    "save as csv\n",
    "\"\"\"\n",
    "cols= driv_pred_vari_final.columns.to_list()\n",
    "driv_pred_vari_final.to_csv('driv_pred_vari_final_02_16.csv', columns= cols, index= False)"
   ]
  },
  {
   "cell_type": "code",
   "execution_count": null,
   "id": "e92e9bab",
   "metadata": {},
   "outputs": [],
   "source": [
    "driv_pred_vari_final = pd.read_csv('driv_pred_vari_final_02_16.csv', low_memory= False)"
   ]
  },
  {
   "cell_type": "code",
   "execution_count": null,
   "id": "d80064f6",
   "metadata": {},
   "outputs": [],
   "source": [
    "len(driv_pred_vari_final)"
   ]
  },
  {
   "cell_type": "code",
   "execution_count": null,
   "id": "c1492c19",
   "metadata": {},
   "outputs": [],
   "source": [
    "driv_pred_vari_final = driv_pred_vari_final.sort_values(by=['Specific_Samples'], ascending=False).reset_index(drop=True)"
   ]
  },
  {
   "cell_type": "code",
   "execution_count": null,
   "id": "fd1f5372",
   "metadata": {},
   "outputs": [],
   "source": [
    "sorted_driver_vari_only = driv_pred_vari_final.loc[driv_pred_vari_final['driver_mut']==1]"
   ]
  },
  {
   "cell_type": "code",
   "execution_count": null,
   "id": "a14544cd",
   "metadata": {},
   "outputs": [],
   "source": [
    "sorted_driver_vari_only.head(2)"
   ]
  },
  {
   "cell_type": "code",
   "execution_count": null,
   "id": "f47c8aba",
   "metadata": {},
   "outputs": [],
   "source": [
    "\"\"\"\n",
    "count driver mutations\n",
    "\"\"\"\n",
    "len(sorted_driver_vari_only)"
   ]
  },
  {
   "cell_type": "code",
   "execution_count": null,
   "id": "a5b18490",
   "metadata": {},
   "outputs": [],
   "source": [
    "driver_uniq = sorted_driver_vari_only.filter(items = ['gene_name', 'mutationType', 'mutproteinPosStart', 'driver_mut', 'probability'])"
   ]
  },
  {
   "cell_type": "code",
   "execution_count": null,
   "id": "4c3e1597",
   "metadata": {},
   "outputs": [],
   "source": [
    "driver_uniq = driver_uniq.drop_duplicates()"
   ]
  },
  {
   "cell_type": "code",
   "execution_count": null,
   "id": "5ad24ad9",
   "metadata": {},
   "outputs": [],
   "source": [
    "len(driver_uniq)"
   ]
  },
  {
   "cell_type": "code",
   "execution_count": null,
   "id": "380ba9d9",
   "metadata": {},
   "outputs": [],
   "source": [
    "driver_uniq_high = driver_uniq.loc[driver_uniq['probability']>0.95]"
   ]
  },
  {
   "cell_type": "code",
   "execution_count": null,
   "id": "e1c6f769",
   "metadata": {},
   "outputs": [],
   "source": [
    "len(driver_uniq_high)"
   ]
  },
  {
   "cell_type": "code",
   "execution_count": null,
   "id": "c5ab0331",
   "metadata": {},
   "outputs": [],
   "source": [
    "len(driver_uniq_high['gene_name'].unique())"
   ]
  },
  {
   "cell_type": "code",
   "execution_count": null,
   "id": "58499fc2",
   "metadata": {},
   "outputs": [],
   "source": [
    "\"\"\"\n",
    "load positive training data set\n",
    "\"\"\"\n",
    "positive_df = pd.read_csv('positive_training_v1_2022_02_04.csv')"
   ]
  },
  {
   "cell_type": "code",
   "execution_count": null,
   "id": "17f5ba31",
   "metadata": {},
   "outputs": [],
   "source": [
    "\"\"\"\n",
    "rename columns\n",
    "\"\"\"\n",
    "positive_df = positive_df.rename(columns = {\"aa_position\": 'mutproteinPosStart'})"
   ]
  },
  {
   "cell_type": "code",
   "execution_count": null,
   "id": "5f6134c2",
   "metadata": {},
   "outputs": [],
   "source": [
    "sorted_driver_vari_only_filt = sorted_driver_vari_only.filter(items= ['gene_id', 'gene_name', 'mutationType', 'mutproteinPosStart','Total_Samples', 'Specific_Samples', 'Total_Patients', 'Specific_Patients', 'accession', 'sampleId', 'patientId'])"
   ]
  },
  {
   "cell_type": "code",
   "execution_count": null,
   "id": "a1c968f7",
   "metadata": {},
   "outputs": [],
   "source": [
    "positive_df_filt = positive_df.filter(items= ['gene_id', 'gene_name', 'mutationType', 'mutproteinPosStart','Total_Samples', 'Specific_Samples', 'Total_Patients', 'Specific_Patients', 'accession', 'sampleId', 'patientId'])"
   ]
  },
  {
   "cell_type": "code",
   "execution_count": null,
   "id": "920c2a54",
   "metadata": {},
   "outputs": [],
   "source": [
    "\"\"\"\n",
    "select novel driver mutations\n",
    "\"\"\"\n",
    "novel_driver_df = sorted_driver_vari_only_filt.merge(positive_df_filt, how = 'outer' ,indicator=True).loc[lambda x : x['_merge']=='left_only']"
   ]
  },
  {
   "cell_type": "code",
   "execution_count": null,
   "id": "bcb4a395",
   "metadata": {},
   "outputs": [],
   "source": [
    "novel_driver_df"
   ]
  },
  {
   "cell_type": "code",
   "execution_count": null,
   "id": "2d5bf12f",
   "metadata": {},
   "outputs": [],
   "source": []
  },
  {
   "cell_type": "code",
   "execution_count": null,
   "id": "47a8547b",
   "metadata": {},
   "outputs": [],
   "source": []
  },
  {
   "cell_type": "markdown",
   "id": "73aef7d9",
   "metadata": {},
   "source": [
    "# Driver mutations/Start from here"
   ]
  },
  {
   "cell_type": "code",
   "execution_count": null,
   "id": "012a5e3f",
   "metadata": {},
   "outputs": [],
   "source": [
    "driver_mut_filt = pd.read_csv('driv_pred_final_v1_2022_02_15.csv', low_memory=False)"
   ]
  },
  {
   "cell_type": "code",
   "execution_count": null,
   "id": "17f6be4c",
   "metadata": {},
   "outputs": [],
   "source": [
    "len(driver_mut_filt)"
   ]
  },
  {
   "cell_type": "code",
   "execution_count": null,
   "id": "395a254b",
   "metadata": {},
   "outputs": [],
   "source": [
    "driver_mut_filt.columns"
   ]
  },
  {
   "cell_type": "code",
   "execution_count": null,
   "id": "28eeb8c1",
   "metadata": {},
   "outputs": [],
   "source": [
    "driver_mut_filt.head(2)"
   ]
  },
  {
   "cell_type": "code",
   "execution_count": null,
   "id": "8488fe24",
   "metadata": {},
   "outputs": [],
   "source": [
    "driver_mut_filt_2 =driver_mut_filt.loc[driver_mut_filt['driver_mut']==1]"
   ]
  },
  {
   "cell_type": "code",
   "execution_count": null,
   "id": "b9704381",
   "metadata": {},
   "outputs": [],
   "source": [
    "len(driver_mut_filt_2)"
   ]
  },
  {
   "cell_type": "code",
   "execution_count": null,
   "id": "3bd21cad",
   "metadata": {},
   "outputs": [],
   "source": [
    "driver_mut_filt_short = driver_mut_filt_2.filter(items = ['gene_id', 'gene_name', 'mutationType', 'mutproteinPosStart', \n",
    "                                                        'Total_Samples', 'Specific_Samples', 'Total_Patients', \n",
    "                                                        'Specific_Patients', 'aminoAcidChange', 'mutproteinPosEnd', \n",
    "                                                        'molecularProfileId', 'sampleId', 'patientId',\n",
    "                                                        'studyId', 'startPosition', 'endPosition', 'accession', \n",
    "                                                        'pro_len', 'chromasome', 'gene', 'driver_mut', 'probability', 'AA'])"
   ]
  },
  {
   "cell_type": "code",
   "execution_count": null,
   "id": "c25fa857",
   "metadata": {},
   "outputs": [],
   "source": [
    "driver_mut_filt_short"
   ]
  },
  {
   "cell_type": "code",
   "execution_count": null,
   "id": "35f91235",
   "metadata": {},
   "outputs": [],
   "source": [
    "\"\"\"\n",
    "save as csv for the website\n",
    "\"\"\"\n",
    "cols = driver_mut_filt_short.columns.to_list()\n",
    "driver_mut_filt_short.to_csv('DriverMut.csv', columns=cols, index=False)"
   ]
  },
  {
   "cell_type": "code",
   "execution_count": null,
   "id": "e8af3a60",
   "metadata": {},
   "outputs": [],
   "source": [
    "\"\"\"\n",
    "open DriverMut.csv\n",
    "\"\"\"\n",
    "DriverMut = pd.read_csv('DriverMut.csv', low_memory=False)"
   ]
  },
  {
   "cell_type": "code",
   "execution_count": null,
   "id": "78c8db48",
   "metadata": {},
   "outputs": [],
   "source": [
    "DriverMut.head(2)"
   ]
  },
  {
   "cell_type": "code",
   "execution_count": null,
   "id": "56777afe",
   "metadata": {},
   "outputs": [],
   "source": [
    "len(DriverMut)"
   ]
  },
  {
   "cell_type": "code",
   "execution_count": null,
   "id": "620b9232",
   "metadata": {},
   "outputs": [],
   "source": [
    "DriverMut.loc[DriverMut['gene_name']=='TNK2']"
   ]
  },
  {
   "cell_type": "code",
   "execution_count": null,
   "id": "c74b7567",
   "metadata": {},
   "outputs": [],
   "source": [
    "DriverMut['mutationType'].unique()"
   ]
  },
  {
   "cell_type": "code",
   "execution_count": null,
   "id": "631a54be",
   "metadata": {},
   "outputs": [],
   "source": [
    "\"\"\"\n",
    "count driver mutations in a gene\n",
    "\"\"\"\n",
    "DriverMut_groupby = DriverMut.groupby(['gene_name']).size().reset_index(name='Driver Count*')"
   ]
  },
  {
   "cell_type": "code",
   "execution_count": null,
   "id": "8e845b48",
   "metadata": {},
   "outputs": [],
   "source": [
    "DriverMut_groupby"
   ]
  },
  {
   "cell_type": "code",
   "execution_count": null,
   "id": "4f068b16",
   "metadata": {},
   "outputs": [],
   "source": [
    "\"\"\"\n",
    "save as csv for WEBsite\n",
    "\"\"\"\n",
    "cols= DriverMut_groupby.columns.to_list()\n",
    "DriverMut_groupby.to_csv('DriverMut_num.csv', columns=cols, index=False)"
   ]
  },
  {
   "cell_type": "code",
   "execution_count": null,
   "id": "1bc4463f",
   "metadata": {},
   "outputs": [],
   "source": [
    "DriverMut_filt = driver_mut_filt_short.filter(items=['gene_id', 'gene_name', 'mutationType', 'mutproteinPosStart', \n",
    "                                                        'Total_Samples', 'Specific_Samples', 'Total_Patients', \n",
    "                                                        'Specific_Patients', 'startPosition', 'accession', \n",
    "                                                        'pro_len', 'chromasome', 'gene', 'driver_mut', 'probability', 'AA'])"
   ]
  },
  {
   "cell_type": "code",
   "execution_count": null,
   "id": "7b612b97",
   "metadata": {},
   "outputs": [],
   "source": [
    "DriverMut_filt"
   ]
  },
  {
   "cell_type": "code",
   "execution_count": null,
   "id": "a8106a19",
   "metadata": {},
   "outputs": [],
   "source": [
    "DriverMut_filt.loc[DriverMut_filt['probability']>0.9]"
   ]
  },
  {
   "cell_type": "code",
   "execution_count": null,
   "id": "c5929e0c",
   "metadata": {},
   "outputs": [],
   "source": [
    "DriverMut_filt_no_dup = DriverMut_filt.drop_duplicates(subset=['gene_name', 'mutationType', 'mutproteinPosStart'])"
   ]
  },
  {
   "cell_type": "code",
   "execution_count": null,
   "id": "ea4ce852",
   "metadata": {},
   "outputs": [],
   "source": [
    "DriverMut_filt_no_dup"
   ]
  },
  {
   "cell_type": "code",
   "execution_count": null,
   "id": "4908cbdf",
   "metadata": {},
   "outputs": [],
   "source": [
    "driver_mut_filt_no_dup = driver_mut_filt.drop_duplicates()"
   ]
  },
  {
   "cell_type": "code",
   "execution_count": null,
   "id": "5c35f3ac",
   "metadata": {},
   "outputs": [],
   "source": [
    "len(driver_mut_filt_no_dup)"
   ]
  },
  {
   "cell_type": "code",
   "execution_count": null,
   "id": "ad926cc8",
   "metadata": {},
   "outputs": [],
   "source": [
    "\"\"\"\n",
    "EGFR\n",
    "\"\"\"\n",
    "egfr= driver_mut_filt.loc[(driver_mut_filt['gene_name']=='NPM1')]"
   ]
  },
  {
   "cell_type": "code",
   "execution_count": null,
   "id": "de5ce4f4",
   "metadata": {},
   "outputs": [],
   "source": [
    "egfr.sort_values(by='Specific_Samples', ascending=False)"
   ]
  },
  {
   "cell_type": "code",
   "execution_count": null,
   "id": "efbd301e",
   "metadata": {},
   "outputs": [],
   "source": [
    "driver_mut_filt.loc[(driver_mut_filt['gene_name']=='CHEK1')\n",
    "                   & (driver_mut_filt['mutproteinPosStart']==471)]"
   ]
  },
  {
   "cell_type": "code",
   "execution_count": null,
   "id": "4bc61517",
   "metadata": {},
   "outputs": [],
   "source": [
    "driver_mut_filt['mutationType'].unique()"
   ]
  },
  {
   "cell_type": "code",
   "execution_count": null,
   "id": "2d19bae4",
   "metadata": {},
   "outputs": [],
   "source": [
    "gene_list = 'ACVR2A', 'APC', 'ASXL1', 'B2M', 'DOCK3', 'EGFR', 'ESRP1', 'EZH2', 'GATA3', 'JAK2', 'LARP4B', 'MAFA', 'MSH3', 'NOTCH1', 'NPM1', 'RNF43', 'RPL22', 'TERT', 'UBR5', 'XYLT2', 'ZBTB20'"
   ]
  },
  {
   "cell_type": "code",
   "execution_count": null,
   "id": "4ac3e302",
   "metadata": {},
   "outputs": [],
   "source": [
    "ack_lolli = driver_mut_filt.loc[driver_mut_filt['gene_name']== 'TNK2']"
   ]
  },
  {
   "cell_type": "code",
   "execution_count": null,
   "id": "f06bbcc1",
   "metadata": {},
   "outputs": [],
   "source": [
    "JAK2_lolli = driver_mut_filt.loc[driver_mut_filt['gene_name']== 'JAK2']"
   ]
  },
  {
   "cell_type": "code",
   "execution_count": null,
   "id": "7f36b8e1",
   "metadata": {},
   "outputs": [],
   "source": [
    "JAK1_lolli = driver_mut_filt.loc[driver_mut_filt['gene_name']== 'JAK1']"
   ]
  },
  {
   "cell_type": "code",
   "execution_count": null,
   "id": "e9004a86",
   "metadata": {},
   "outputs": [],
   "source": [
    "JAK2_lolli.head(2)"
   ]
  },
  {
   "cell_type": "code",
   "execution_count": null,
   "id": "964a305b",
   "metadata": {},
   "outputs": [],
   "source": [
    "\"\"\"\n",
    "save as csv\n",
    "\"\"\"\n",
    "cols=JAK1_lolli.columns.to_list()\n",
    "JAK1_lolli.to_csv('JAK1_lollipop_03_03.csv', columns=cols, index=False)"
   ]
  },
  {
   "cell_type": "code",
   "execution_count": null,
   "id": "8a2a9420",
   "metadata": {},
   "outputs": [],
   "source": [
    "\"\"\"\n",
    "save as csv\n",
    "\"\"\"\n",
    "cols=JAK2_lolli.columns.to_list()\n",
    "JAK2_lolli.to_csv('JAK2_lollipop_03_03.csv', columns=cols, index=False)"
   ]
  },
  {
   "cell_type": "code",
   "execution_count": null,
   "id": "49370938",
   "metadata": {},
   "outputs": [],
   "source": [
    "ack_lolli.head(2)"
   ]
  },
  {
   "cell_type": "code",
   "execution_count": null,
   "id": "e828cf3e",
   "metadata": {},
   "outputs": [],
   "source": [
    "# ack_lolli.loc[ack_lolli['mutationType']=='Frame Shift']"
   ]
  },
  {
   "cell_type": "code",
   "execution_count": null,
   "id": "d35b17a3",
   "metadata": {},
   "outputs": [],
   "source": [
    "ack_lolli['mutationType'].unique()"
   ]
  },
  {
   "cell_type": "code",
   "execution_count": null,
   "id": "afcd0be4",
   "metadata": {},
   "outputs": [],
   "source": [
    "\"\"\"\n",
    "Save as csv\n",
    "\"\"\"\n",
    "cols=ack_lolli.columns.to_list()\n",
    "ack_lolli.to_csv('Fig3_ack_lollipop_02_25.csv', columns= cols, index=False)"
   ]
  },
  {
   "cell_type": "code",
   "execution_count": null,
   "id": "08e52986",
   "metadata": {},
   "outputs": [],
   "source": [
    "sorted_driver_mut = driver_mut_filt.sort_values(by=['Specific_Samples'], ascending=False).reset_index(drop=True)"
   ]
  },
  {
   "cell_type": "code",
   "execution_count": null,
   "id": "0a8b7ea2",
   "metadata": {},
   "outputs": [],
   "source": [
    "# sorted_driver_mut.loc[sorted_driver_mut['gene_name']=='DNMT3A']"
   ]
  },
  {
   "cell_type": "code",
   "execution_count": null,
   "id": "be8d1610",
   "metadata": {},
   "outputs": [],
   "source": [
    "sorted_driver_mut_only = sorted_driver_mut.loc[sorted_driver_mut['driver_mut']==1]\n"
   ]
  },
  {
   "cell_type": "code",
   "execution_count": null,
   "id": "28588ae1",
   "metadata": {},
   "outputs": [],
   "source": [
    "# sorted_driver_mut_only.head(2)"
   ]
  },
  {
   "cell_type": "code",
   "execution_count": null,
   "id": "813c5ab4",
   "metadata": {},
   "outputs": [],
   "source": [
    "\"\"\"\n",
    "load positive training data set\n",
    "\"\"\"\n",
    "positive_df = pd.read_csv('positive_training_v1_2022_02_04.csv')"
   ]
  },
  {
   "cell_type": "code",
   "execution_count": null,
   "id": "cb1201bd",
   "metadata": {},
   "outputs": [],
   "source": [
    "# positive_df.head(2)"
   ]
  },
  {
   "cell_type": "code",
   "execution_count": null,
   "id": "038d1d47",
   "metadata": {},
   "outputs": [],
   "source": [
    "\"\"\"\n",
    "rename columns\n",
    "\"\"\"\n",
    "positive_df = positive_df.rename(columns = {\"aa_position\": 'mutproteinPosStart'})"
   ]
  },
  {
   "cell_type": "code",
   "execution_count": null,
   "id": "7640c683",
   "metadata": {},
   "outputs": [],
   "source": [
    "# positive_df.columns"
   ]
  },
  {
   "cell_type": "code",
   "execution_count": null,
   "id": "a160a3cb",
   "metadata": {},
   "outputs": [],
   "source": [
    "sorted_driver_mut_only_filt = sorted_driver_mut_only.filter(items= ['gene_id', 'gene_name', 'mutationType', 'mutproteinPosStart','Total_Samples', 'Specific_Samples', 'Total_Patients', 'Specific_Patients', 'accession', 'sampleId', 'patientId'])\n"
   ]
  },
  {
   "cell_type": "code",
   "execution_count": null,
   "id": "cfb481e5",
   "metadata": {},
   "outputs": [],
   "source": [
    "positive_df_filt = positive_df.filter(items= ['gene_id', 'gene_name', 'mutationType', 'mutproteinPosStart','Total_Samples', 'Specific_Samples', 'Total_Patients', 'Specific_Patients', 'accession', 'sampleId', 'patientId'])"
   ]
  },
  {
   "cell_type": "code",
   "execution_count": null,
   "id": "9ec2b1dc",
   "metadata": {},
   "outputs": [],
   "source": [
    "# sorted_driver_mut_only_filt.head(5)"
   ]
  },
  {
   "cell_type": "code",
   "execution_count": null,
   "id": "3b65a774",
   "metadata": {},
   "outputs": [],
   "source": [
    "# positive_df_filt.head(5)"
   ]
  },
  {
   "cell_type": "code",
   "execution_count": null,
   "id": "a95c52fc",
   "metadata": {},
   "outputs": [],
   "source": [
    "\"\"\"\n",
    "select novel driver mutations\n",
    "\"\"\"\n",
    "novel_driver_df = sorted_driver_mut_only_filt.merge(positive_df_filt, how = 'outer' ,indicator=True).loc[lambda x : x['_merge']=='left_only']"
   ]
  },
  {
   "cell_type": "code",
   "execution_count": null,
   "id": "61463f11",
   "metadata": {},
   "outputs": [],
   "source": [
    "novel_driver_df_filt = novel_driver_df.drop_duplicates()"
   ]
  },
  {
   "cell_type": "code",
   "execution_count": null,
   "id": "0d033c91",
   "metadata": {},
   "outputs": [],
   "source": [
    "# novel_driver_df = novel_driver_df.drop(['_merge'], axis=1)"
   ]
  },
  {
   "cell_type": "code",
   "execution_count": null,
   "id": "53e29a9c",
   "metadata": {},
   "outputs": [],
   "source": [
    "novel_driver_df_filt.head(3)"
   ]
  },
  {
   "cell_type": "code",
   "execution_count": null,
   "id": "49ac9aaa",
   "metadata": {},
   "outputs": [],
   "source": [
    "novel_driver_df.columns"
   ]
  },
  {
   "cell_type": "code",
   "execution_count": null,
   "id": "60e3a293",
   "metadata": {},
   "outputs": [],
   "source": [
    "\"\"\"\n",
    "merge novel_driver_df with driver_mut_filt\n",
    "\"\"\"\n",
    "novel_driver_full = pd.merge(novel_driver_df_filt, driver_mut_filt, on = ['gene_id', 'gene_name', 'mutationType', 'mutproteinPosStart','Total_Samples', 'Specific_Samples', 'Total_Patients', 'Specific_Patients', 'accession', 'sampleId', 'patientId'])"
   ]
  },
  {
   "cell_type": "code",
   "execution_count": null,
   "id": "5077539c",
   "metadata": {},
   "outputs": [],
   "source": [
    "novel_driver_full_filt = novel_driver_full.drop_duplicates()"
   ]
  },
  {
   "cell_type": "code",
   "execution_count": null,
   "id": "1828eee8",
   "metadata": {},
   "outputs": [],
   "source": [
    "# df.drop_duplicates(subset=['brand'])"
   ]
  },
  {
   "cell_type": "code",
   "execution_count": null,
   "id": "1d4829fe",
   "metadata": {},
   "outputs": [],
   "source": [
    "len(driver_mut_filt)"
   ]
  },
  {
   "cell_type": "code",
   "execution_count": null,
   "id": "850245bf",
   "metadata": {},
   "outputs": [],
   "source": [
    "len(novel_driver_df)"
   ]
  },
  {
   "cell_type": "code",
   "execution_count": null,
   "id": "a5b0b114",
   "metadata": {},
   "outputs": [],
   "source": [
    "novel_driver_df_filt = novel_driver_df.drop_duplicates()"
   ]
  },
  {
   "cell_type": "code",
   "execution_count": null,
   "id": "2c857e02",
   "metadata": {},
   "outputs": [],
   "source": [
    "len(novel_driver_df_filt)"
   ]
  },
  {
   "cell_type": "code",
   "execution_count": null,
   "id": "f703b00f",
   "metadata": {},
   "outputs": [],
   "source": [
    "len(novel_driver_full)"
   ]
  },
  {
   "cell_type": "code",
   "execution_count": null,
   "id": "541f72b4",
   "metadata": {},
   "outputs": [],
   "source": [
    "len(novel_driver_full_filt)"
   ]
  },
  {
   "cell_type": "code",
   "execution_count": null,
   "id": "fe966e92",
   "metadata": {},
   "outputs": [],
   "source": [
    "novel_driver_full_filt.head(3)"
   ]
  },
  {
   "cell_type": "code",
   "execution_count": null,
   "id": "c18df33a",
   "metadata": {},
   "outputs": [],
   "source": [
    "novel_driver_full_filt['specific_fraction'] = novel_driver_full_filt['Specific_Samples']/novel_driver_full_filt['Total_Samples']"
   ]
  },
  {
   "cell_type": "code",
   "execution_count": null,
   "id": "173fb189",
   "metadata": {},
   "outputs": [],
   "source": [
    "novel_driver_full_filt.head(2)"
   ]
  },
  {
   "cell_type": "code",
   "execution_count": null,
   "id": "4c586cd7",
   "metadata": {},
   "outputs": [],
   "source": [
    "\"\"\"\n",
    "save as csv\n",
    "\"\"\"\n",
    "cols=novel_driver_full_filt.columns.to_list()\n",
    "novel_driver_full_filt.to_csv('novel_driver_df_v1_02_15.csv', columns=cols, index=False)"
   ]
  },
  {
   "cell_type": "code",
   "execution_count": null,
   "id": "36735ef7",
   "metadata": {},
   "outputs": [],
   "source": [
    "\"\"\"\n",
    "filter for ML_ACK1 paper Table 1\n",
    "\"\"\"\n",
    "novel_driver_table = novel_driver_full_filt.filter(items= ['accession', 'gene_name', 'mutationType', 'mutproteinPosStart', 'AA', 'Specific_Samples', 'Total_Samples', 'probability', 'specific_fraction'])"
   ]
  },
  {
   "cell_type": "code",
   "execution_count": null,
   "id": "f20a569e",
   "metadata": {},
   "outputs": [],
   "source": [
    "novel_driver_table.head(2)"
   ]
  },
  {
   "cell_type": "code",
   "execution_count": null,
   "id": "5d6a9ba9",
   "metadata": {},
   "outputs": [],
   "source": [
    "\"\"\"\n",
    "save as csv\n",
    "\"\"\"\n",
    "cols = novel_driver_table.columns.to_list()\n",
    "novel_driver_table.to_csv('table_1_novel_driver_table_02_15.csv', columns=cols, index=False)"
   ]
  },
  {
   "cell_type": "code",
   "execution_count": null,
   "id": "44ea4bb5",
   "metadata": {},
   "outputs": [],
   "source": [
    "\"\"\"\n",
    "select misssense\n",
    "\"\"\"\n",
    "novel_missense_driver_table = novel_driver_table.loc[novel_driver_table['mutationType'] =='Missense Mutation']"
   ]
  },
  {
   "cell_type": "code",
   "execution_count": null,
   "id": "e558ae79",
   "metadata": {},
   "outputs": [],
   "source": [
    "novel_missense_driver_table"
   ]
  },
  {
   "cell_type": "code",
   "execution_count": null,
   "id": "4d8d0358",
   "metadata": {},
   "outputs": [],
   "source": [
    "\"\"\"\n",
    "save as csv\n",
    "\"\"\"\n",
    "cols= novel_missense_driver_table.columns.to_list()\n",
    "novel_missense_driver_table.to_csv('table1_novel_missense_driver_table_02_15.csv', columns= cols, index=False)"
   ]
  },
  {
   "cell_type": "markdown",
   "id": "390d0fa5",
   "metadata": {},
   "source": [
    "#"
   ]
  },
  {
   "cell_type": "markdown",
   "id": "6b0fcc84",
   "metadata": {},
   "source": [
    "# With variations"
   ]
  },
  {
   "cell_type": "code",
   "execution_count": null,
   "id": "f8bdff94",
   "metadata": {},
   "outputs": [],
   "source": [
    "\"\"\"\n",
    "open varient mutations\n",
    "\"\"\"\n",
    "varient_sample_chr = pd.read_csv('varient_sample_chr_02_16.csv', low_memory= False)"
   ]
  },
  {
   "cell_type": "code",
   "execution_count": null,
   "id": "78f41271",
   "metadata": {},
   "outputs": [],
   "source": [
    "\"\"\"\n",
    "Open novel missense drivers\n",
    "\"\"\"\n",
    "novel_missense_driver_table= pd.read_csv('table1_novel_missense_driver_table_02_15.csv')\n",
    "\n"
   ]
  },
  {
   "cell_type": "code",
   "execution_count": null,
   "id": "91ebf516",
   "metadata": {},
   "outputs": [],
   "source": [
    "gene='TP53'\n",
    "type_m='Missense Mutation'\n",
    "aa = 213"
   ]
  },
  {
   "cell_type": "code",
   "execution_count": null,
   "id": "a13497ff",
   "metadata": {},
   "outputs": [],
   "source": [
    "varient_sample_chr.loc[(varient_sample_chr['gene_name']==gene)\n",
    "                      & (varient_sample_chr['mutationType']==type_m)\n",
    "                      & (varient_sample_chr['mutproteinPosStart']== aa)]"
   ]
  },
  {
   "cell_type": "code",
   "execution_count": null,
   "id": "37008755",
   "metadata": {},
   "outputs": [],
   "source": [
    "len(varient_sample_chr)"
   ]
  },
  {
   "cell_type": "code",
   "execution_count": null,
   "id": "d51ca971",
   "metadata": {},
   "outputs": [],
   "source": [
    "varient_sample_chr.columns"
   ]
  },
  {
   "cell_type": "code",
   "execution_count": null,
   "id": "3f223b34",
   "metadata": {},
   "outputs": [],
   "source": [
    "varient_sample_chr_filt = varient_sample_chr.filter(items= ['gene_name', 'Total_Samples', 'mutationType',\n",
    "       'mutproteinPosStart', 'Specific_Samples', 'aminoAcidChange',\n",
    "       'Varient_Count'])"
   ]
  },
  {
   "cell_type": "code",
   "execution_count": null,
   "id": "bb947335",
   "metadata": {},
   "outputs": [],
   "source": [
    "novel_missense_driver_table.head(2)"
   ]
  },
  {
   "cell_type": "code",
   "execution_count": null,
   "id": "d9aa580e",
   "metadata": {},
   "outputs": [],
   "source": [
    "novel_missense_driver_varient_table = pd.merge(novel_missense_driver_table, varient_sample_chr_filt, on = ['gene_name', 'Total_Samples', 'mutationType',\n",
    "       'mutproteinPosStart', 'Specific_Samples'])"
   ]
  },
  {
   "cell_type": "code",
   "execution_count": null,
   "id": "176d9225",
   "metadata": {},
   "outputs": [],
   "source": [
    "novel_missense_driver_varient_table"
   ]
  },
  {
   "cell_type": "code",
   "execution_count": null,
   "id": "1fa4f2dd",
   "metadata": {},
   "outputs": [],
   "source": [
    "\"\"\"\n",
    "save as csv\n",
    "\"\"\"\n",
    "cols = novel_missense_driver_varient_table.columns.to_list()\n",
    "novel_missense_driver_varient_table.to_csv('table1_novel_missense_driver_varient_table_02_16.csv', columns= cols, index= False)"
   ]
  },
  {
   "cell_type": "code",
   "execution_count": null,
   "id": "0b51652a",
   "metadata": {},
   "outputs": [],
   "source": []
  },
  {
   "cell_type": "code",
   "execution_count": null,
   "id": "de7349e1",
   "metadata": {},
   "outputs": [],
   "source": [
    "\"\"\"\n",
    "open functional PTMs\n",
    "\"\"\"\n",
    "functional_ptm_final = pd.read_csv('functional_ptm_final_v1_2022_02_05.csv', low_memory= False)"
   ]
  },
  {
   "cell_type": "code",
   "execution_count": null,
   "id": "4fd7e957",
   "metadata": {},
   "outputs": [],
   "source": [
    "all_driv_ptm = pd.merge()"
   ]
  },
  {
   "cell_type": "markdown",
   "id": "900f47a6",
   "metadata": {},
   "source": [
    "# Functional PTM"
   ]
  },
  {
   "cell_type": "code",
   "execution_count": null,
   "id": "fdb8cdb6",
   "metadata": {},
   "outputs": [],
   "source": [
    "# \"\"\"\n",
    "# open functional PTMs\n",
    "# \"\"\"\n",
    "# functional_ptm_final = pd.read_csv('functional_ptm_final_v1_2022_02_05.csv', low_memory= False)"
   ]
  },
  {
   "cell_type": "code",
   "execution_count": null,
   "id": "cce25593",
   "metadata": {},
   "outputs": [],
   "source": []
  },
  {
   "cell_type": "code",
   "execution_count": null,
   "id": "028f0a5f",
   "metadata": {},
   "outputs": [],
   "source": [
    "driver_mut_filt = pd.read_csv('driv_pred_final_v1_2022_02_15.csv', low_memory=False)"
   ]
  },
  {
   "cell_type": "code",
   "execution_count": null,
   "id": "41dec489",
   "metadata": {},
   "outputs": [],
   "source": [
    "all_ptm_protein_lenghs= pd.read_csv('all_ptm_protein_lenghs_03_01.csv', low_memory= False)"
   ]
  },
  {
   "cell_type": "code",
   "execution_count": null,
   "id": "d5e5301f",
   "metadata": {},
   "outputs": [],
   "source": [
    "all_ptm_protein_lenghs.head(2)"
   ]
  },
  {
   "cell_type": "code",
   "execution_count": null,
   "id": "c71225bb",
   "metadata": {},
   "outputs": [],
   "source": [
    "all_ptm_protein_lenghs_filt = all_ptm_protein_lenghs.filter(items=['accession', 'gene_name', 'pro_len'])"
   ]
  },
  {
   "cell_type": "code",
   "execution_count": null,
   "id": "bc6cb66e",
   "metadata": {},
   "outputs": [],
   "source": [
    "all_ptm_protein_lenghs_filt_re = all_ptm_protein_lenghs_filt.rename(columns={'accession':'ACC_ID', 'gene_name':'GENE'})"
   ]
  },
  {
   "cell_type": "code",
   "execution_count": null,
   "id": "55663b5f",
   "metadata": {},
   "outputs": [],
   "source": [
    "all_ptm_protein_lenghs_filt_re"
   ]
  },
  {
   "cell_type": "code",
   "execution_count": null,
   "id": "a49e2c80",
   "metadata": {},
   "outputs": [],
   "source": [
    "\"\"\"\n",
    "remove rows contating '-'\n",
    "\"\"\"\n",
    "#identify partial string to look for\n",
    "discard = ['-']\n",
    "\n",
    "#drop rows that contain the partial string \"Wes\" in the conference column\n",
    "all_ptm_protein_lenghs_filt_clean = all_ptm_protein_lenghs_filt_re[~all_ptm_protein_lenghs_filt_re['ACC_ID'].str.contains('|'.join(discard))]"
   ]
  },
  {
   "cell_type": "code",
   "execution_count": null,
   "id": "dbe1fdc5",
   "metadata": {},
   "outputs": [],
   "source": []
  },
  {
   "cell_type": "code",
   "execution_count": null,
   "id": "22b91182",
   "metadata": {},
   "outputs": [],
   "source": [
    "all_ptm_protein_lenghs_filt_clean"
   ]
  },
  {
   "cell_type": "code",
   "execution_count": null,
   "id": "ae5aaa54",
   "metadata": {},
   "outputs": [],
   "source": [
    "\"\"\"\n",
    "unique genes\n",
    "\"\"\"\n",
    "len(all_ptm_protein_lenghs_filt_clean['GENE'].unique())"
   ]
  },
  {
   "cell_type": "code",
   "execution_count": null,
   "id": "bd2507e5",
   "metadata": {},
   "outputs": [],
   "source": [
    "all_ptm_protein_lenghs_filt_gene = all_ptm_protein_lenghs_filt_re.drop_duplicates(subset=['GENE'])"
   ]
  },
  {
   "cell_type": "code",
   "execution_count": null,
   "id": "4f502866",
   "metadata": {},
   "outputs": [],
   "source": [
    "all_ptm_protein_lenghs_filt_gene"
   ]
  },
  {
   "cell_type": "code",
   "execution_count": null,
   "id": "311ce9d0",
   "metadata": {},
   "outputs": [],
   "source": [
    "\"\"\"\n",
    "unique genes\n",
    "\"\"\"\n",
    "len(all_ptm_protein_lenghs_filt_re['GENE'].unique())"
   ]
  },
  {
   "cell_type": "code",
   "execution_count": null,
   "id": "591c9111",
   "metadata": {},
   "outputs": [],
   "source": [
    "# Find Rows in DF1 Which Are Not Available in DF2\n",
    "dup_values = all_ptm_protein_lenghs_filt_re.merge(all_ptm_protein_lenghs_filt_gene, how = 'outer' ,indicator=True).loc[lambda x : x['_merge']=='left_only']\n",
    "\n"
   ]
  },
  {
   "cell_type": "code",
   "execution_count": null,
   "id": "9aaa12e2",
   "metadata": {},
   "outputs": [],
   "source": [
    "dup_values"
   ]
  },
  {
   "cell_type": "code",
   "execution_count": null,
   "id": "745947e1",
   "metadata": {},
   "outputs": [],
   "source": [
    "#identify partial string to look for\n",
    "discard = ['-']\n",
    "\n",
    "#drop rows that contain the partial string \"Wes\" in the conference column\n",
    "clean_dup = dup_values[~dup_values['ACC_ID'].str.contains('|'.join(discard))]"
   ]
  },
  {
   "cell_type": "code",
   "execution_count": null,
   "id": "eeb98c4f",
   "metadata": {},
   "outputs": [],
   "source": [
    "clean_dup"
   ]
  },
  {
   "cell_type": "code",
   "execution_count": null,
   "id": "0c7d3784",
   "metadata": {},
   "outputs": [],
   "source": [
    "\"\"\"\n",
    "open functional PTMs\n",
    "\"\"\"\n",
    "functional_ptm_final = pd.read_csv('functional_ptm_final_v1_2022_02_24.csv', low_memory= False)"
   ]
  },
  {
   "cell_type": "code",
   "execution_count": null,
   "id": "542d6165",
   "metadata": {},
   "outputs": [],
   "source": [
    "functional_ptm_final.loc[(functional_ptm_final['GENE']=='MDM4') &\n",
    "                        (functional_ptm_final['dtiv_mut_site']==367)]"
   ]
  },
  {
   "cell_type": "code",
   "execution_count": null,
   "id": "10cb04eb",
   "metadata": {},
   "outputs": [],
   "source": []
  },
  {
   "cell_type": "code",
   "execution_count": null,
   "id": "ad788daf",
   "metadata": {},
   "outputs": [],
   "source": [
    "functional_ptm_final_drop_dup = functional_ptm_final.drop_duplicates(subset = ['GENE', 'MOD_RSD', 'type', 'residue', 'driv_mut_type', 'dtiv_mut_site'])"
   ]
  },
  {
   "cell_type": "code",
   "execution_count": null,
   "id": "579e0376",
   "metadata": {},
   "outputs": [],
   "source": [
    "driver_mut_filt_driv= driver_mut_filt.loc[driver_mut_filt['driver_mut']==1]"
   ]
  },
  {
   "cell_type": "code",
   "execution_count": null,
   "id": "a51835a0",
   "metadata": {
    "scrolled": true
   },
   "outputs": [],
   "source": [
    "driver_mut_filt_driv.head(2)"
   ]
  },
  {
   "cell_type": "code",
   "execution_count": null,
   "id": "46b5e833",
   "metadata": {},
   "outputs": [],
   "source": [
    "driver_mut_filt_driv.loc[(driver_mut_filt_driv['gene_name']=='MDM4') &\n",
    "                        (driver_mut_filt_driv['mutproteinPosStart']==367)]"
   ]
  },
  {
   "cell_type": "code",
   "execution_count": null,
   "id": "098b3f42",
   "metadata": {},
   "outputs": [],
   "source": [
    "ptm_driv = pd.merge(functional_ptm_final_drop_dup, driver_mut_filt_driv, left_on = ['GENE', 'driv_mut_type', 'dtiv_mut_site'], right_on=['gene_name', 'mutationType', 'mutproteinPosStart'])"
   ]
  },
  {
   "cell_type": "code",
   "execution_count": null,
   "id": "e80e9c44",
   "metadata": {},
   "outputs": [],
   "source": [
    "ptm_driv.loc[(ptm_driv['GENE']=='MDM4') &\n",
    "                        (ptm_driv['dtiv_mut_site']==367)]"
   ]
  },
  {
   "cell_type": "code",
   "execution_count": null,
   "id": "6207c12d",
   "metadata": {},
   "outputs": [],
   "source": [
    "ptm_driv.head(2)"
   ]
  },
  {
   "cell_type": "code",
   "execution_count": null,
   "id": "ed9fa870",
   "metadata": {},
   "outputs": [],
   "source": [
    "ptm_driv_filt = ptm_driv.filter(items=['GENE', 'type', 'residue',  'MOD_RSD', 'mutationType', 'mutproteinPosStart', 'Specific_Samples', 'Total_Samples', 'AA', 'LT_LIT', 'MS_LIT', 'MS_CST', 'CST_CAT', 'probability'])"
   ]
  },
  {
   "cell_type": "code",
   "execution_count": null,
   "id": "4ef60ae8",
   "metadata": {},
   "outputs": [],
   "source": [
    "ptm_driv_filt .loc[(ptm_driv_filt ['GENE']=='MDM4') &\n",
    "                        (ptm_driv_filt ['mutproteinPosStart']==367)]"
   ]
  },
  {
   "cell_type": "code",
   "execution_count": null,
   "id": "c0e1aa4f",
   "metadata": {},
   "outputs": [],
   "source": [
    "gene = 'TP53'\n",
    "site = 215\n"
   ]
  },
  {
   "cell_type": "code",
   "execution_count": null,
   "id": "f978e2d1",
   "metadata": {
    "scrolled": true
   },
   "outputs": [],
   "source": [
    "ptm_driv_filt.loc[(ptm_driv_filt['GENE'] == gene) & (ptm_driv_filt['residue']== site) & (ptm_driv_filt['mutationType']== 'Missense Mutation' )]"
   ]
  },
  {
   "cell_type": "code",
   "execution_count": null,
   "id": "edef175f",
   "metadata": {},
   "outputs": [],
   "source": [
    "functional_ptm_final_miss = functional_ptm_final_drop_dup.loc[functional_ptm_final_drop_dup['driv_mut_type']== 'Missense Mutation']"
   ]
  },
  {
   "cell_type": "code",
   "execution_count": null,
   "id": "deccfc9d",
   "metadata": {},
   "outputs": [],
   "source": [
    "common_PTM_driv = functional_ptm_final_miss.groupby(['GENE', 'residue', 'type']).size().reset_index(name='com_ptm_num')\n",
    "\n",
    "\n"
   ]
  },
  {
   "cell_type": "code",
   "execution_count": null,
   "id": "49235bd5",
   "metadata": {},
   "outputs": [],
   "source": [
    "common_PTM_driv= common_PTM_driv.sort_values(by='com_ptm_num', ascending=False)"
   ]
  },
  {
   "cell_type": "code",
   "execution_count": null,
   "id": "fcff336b",
   "metadata": {},
   "outputs": [],
   "source": [
    "common_PTM_driv.loc[(common_PTM_driv['GENE']=='MDM4') &\n",
    "                        (common_PTM_driv['residue']==367)]"
   ]
  },
  {
   "cell_type": "code",
   "execution_count": null,
   "id": "8104a972",
   "metadata": {},
   "outputs": [],
   "source": [
    "\"\"\"\n",
    "select the frivers with \n",
    "\"\"\"\n",
    "common_PTM_driv_filt= common_PTM_driv.loc[common_PTM_driv['com_ptm_num']>1]"
   ]
  },
  {
   "cell_type": "code",
   "execution_count": null,
   "id": "71cbc38d",
   "metadata": {},
   "outputs": [],
   "source": [
    "selected_ptm_driv  = pd.merge(ptm_driv_filt, common_PTM_driv_filt, on = ['GENE', 'residue', 'type'])"
   ]
  },
  {
   "cell_type": "code",
   "execution_count": null,
   "id": "9dd7bd21",
   "metadata": {},
   "outputs": [],
   "source": [
    "selected_ptm_driv"
   ]
  },
  {
   "cell_type": "code",
   "execution_count": null,
   "id": "07e00e54",
   "metadata": {},
   "outputs": [],
   "source": [
    "selected_ptm_driv_filt= selected_ptm_driv.loc[selected_ptm_driv['mutationType']== 'Missense Mutation']"
   ]
  },
  {
   "cell_type": "code",
   "execution_count": null,
   "id": "8a2a1b6b",
   "metadata": {},
   "outputs": [],
   "source": [
    "selected_ptm_driv_filt = selected_ptm_driv_filt.drop_duplicates()"
   ]
  },
  {
   "cell_type": "code",
   "execution_count": null,
   "id": "0589c0f5",
   "metadata": {
    "scrolled": true
   },
   "outputs": [],
   "source": [
    "selected_ptm_driv_filt"
   ]
  },
  {
   "cell_type": "code",
   "execution_count": null,
   "id": "8c1d28a4",
   "metadata": {},
   "outputs": [],
   "source": [
    "max_selected_ptm_driv_filt = selected_ptm_driv_filt.groupby(['GENE', 'residue', 'type'])['Specific_Samples'].max().reset_index()"
   ]
  },
  {
   "cell_type": "code",
   "execution_count": null,
   "id": "dc8a1c24",
   "metadata": {},
   "outputs": [],
   "source": [
    "max_selected_ptm_driv_filt"
   ]
  },
  {
   "cell_type": "code",
   "execution_count": null,
   "id": "cdccbb08",
   "metadata": {},
   "outputs": [],
   "source": [
    "sum_selected_ptm_driv_filt = selected_ptm_driv_filt.groupby(['GENE', 'residue', 'type'])['Specific_Samples'].sum().reset_index(name='Total_cluster_samples')"
   ]
  },
  {
   "cell_type": "code",
   "execution_count": null,
   "id": "85b0446b",
   "metadata": {},
   "outputs": [],
   "source": [
    "sum_selected_ptm_driv_filt"
   ]
  },
  {
   "cell_type": "code",
   "execution_count": null,
   "id": "2412ea1d",
   "metadata": {},
   "outputs": [],
   "source": [
    "max_selected_ptm_driv_filt_new= pd.merge(max_selected_ptm_driv_filt, sum_selected_ptm_driv_filt, on = ['GENE', 'residue', 'type'] )"
   ]
  },
  {
   "cell_type": "code",
   "execution_count": null,
   "id": "372f11ee",
   "metadata": {},
   "outputs": [],
   "source": [
    "max_all_ptm_driv = pd.merge(max_selected_ptm_driv_filt_new, selected_ptm_driv_filt, on=['GENE', 'residue', 'type', 'Specific_Samples'])"
   ]
  },
  {
   "cell_type": "code",
   "execution_count": null,
   "id": "98cabf27",
   "metadata": {},
   "outputs": [],
   "source": [
    "max_driv_clust = max_all_ptm_driv.loc[max_all_ptm_driv['residue']== max_all_ptm_driv['mutproteinPosStart']]"
   ]
  },
  {
   "cell_type": "code",
   "execution_count": null,
   "id": "b474756c",
   "metadata": {},
   "outputs": [],
   "source": [
    "max_driv_clust = max_driv_clust.drop_duplicates(subset= ['GENE', 'residue', 'type'])"
   ]
  },
  {
   "cell_type": "code",
   "execution_count": null,
   "id": "c7a4d0ba",
   "metadata": {},
   "outputs": [],
   "source": [
    "selected_ptm_driv_filt.head(2)"
   ]
  },
  {
   "cell_type": "code",
   "execution_count": null,
   "id": "6b1dedf7",
   "metadata": {},
   "outputs": [],
   "source": [
    "max_driv_clust.head(2)"
   ]
  },
  {
   "cell_type": "code",
   "execution_count": null,
   "id": "0d518bbb",
   "metadata": {},
   "outputs": [],
   "source": [
    "driver_clusters = pd.merge(max_driv_clust, selected_ptm_driv_filt, on= ['GENE', 'residue', 'type'])"
   ]
  },
  {
   "cell_type": "code",
   "execution_count": null,
   "id": "d4e58148",
   "metadata": {},
   "outputs": [],
   "source": [
    "driver_clusters"
   ]
  },
  {
   "cell_type": "code",
   "execution_count": null,
   "id": "1825c43f",
   "metadata": {},
   "outputs": [],
   "source": [
    "driver_clusters_filt = driver_clusters.filter(items=['GENE', 'type', 'residue',  'MOD_RSD_x', 'mutationType_x', 'mutproteinPosStart_x', 'Specific_Samples_x', 'Total_Samples_x', 'AA_x', 'LT_LIT_x', 'MS_LIT_x', 'MS_CST_x', 'CST_CAT_x', 'probability_x'])"
   ]
  },
  {
   "cell_type": "code",
   "execution_count": null,
   "id": "5a625856",
   "metadata": {},
   "outputs": [],
   "source": [
    "driver_clusters_filt.loc[(driver_clusters['GENE']=='SF3B1') &\n",
    "                        (driver_clusters['residue']== 700)]"
   ]
  },
  {
   "cell_type": "code",
   "execution_count": null,
   "id": "921ceacd",
   "metadata": {},
   "outputs": [],
   "source": [
    "\"\"\"\n",
    "save as csv\n",
    "\"\"\"\n",
    "cols= max_driv_clust.columns.to_list()\n",
    "max_driv_clust.to_csv('max_driv_clust.csv', columns=cols, index=False)"
   ]
  },
  {
   "cell_type": "code",
   "execution_count": null,
   "id": "4e6db6b6",
   "metadata": {},
   "outputs": [],
   "source": [
    "len(max_driv_clust)"
   ]
  },
  {
   "cell_type": "code",
   "execution_count": null,
   "id": "219a6087",
   "metadata": {},
   "outputs": [],
   "source": [
    "\"\"\"\n",
    "save as csv\n",
    "\"\"\"\n",
    "cols= selected_ptm_driv_filt.columns.to_list()\n",
    "selected_ptm_driv_filt.to_csv('selected_ptm_driv_filt.csv', columns=cols, index=False)"
   ]
  },
  {
   "cell_type": "code",
   "execution_count": null,
   "id": "e2d6a55b",
   "metadata": {},
   "outputs": [],
   "source": [
    "\"\"\"\n",
    "save as csv\n",
    "\"\"\"\n",
    "cols = common_PTM_driv.columns.to_list()\n",
    "common_PTM_driv.to_csv('common_PTM_driv.csv', columns=cols, index= False)"
   ]
  },
  {
   "cell_type": "code",
   "execution_count": null,
   "id": "f24dc294",
   "metadata": {},
   "outputs": [],
   "source": []
  },
  {
   "cell_type": "code",
   "execution_count": null,
   "id": "589735c5",
   "metadata": {},
   "outputs": [],
   "source": []
  },
  {
   "cell_type": "code",
   "execution_count": null,
   "id": "214e4a80",
   "metadata": {},
   "outputs": [],
   "source": [
    "\"\"\"\n",
    "merge functional_ptm_final and all_ptm_protein_lenghs_filt_re to add protein lengths\n",
    "\"\"\"\n",
    "PTM_driver_dis = pd.merge(functional_ptm_final, all_ptm_protein_lenghs_filt_gene, on= ['GENE'])"
   ]
  },
  {
   "cell_type": "code",
   "execution_count": null,
   "id": "8960547e",
   "metadata": {},
   "outputs": [],
   "source": [
    "# PTM_driver_dis"
   ]
  },
  {
   "cell_type": "code",
   "execution_count": null,
   "id": "4bf9f1af",
   "metadata": {},
   "outputs": [],
   "source": [
    "PTM_driver_dis = PTM_driver_dis.rename(columns= {'ACC_ID_y':'ACC_ID'})"
   ]
  },
  {
   "cell_type": "code",
   "execution_count": null,
   "id": "9992f561",
   "metadata": {},
   "outputs": [],
   "source": [
    "PTM_driver_dis.columns"
   ]
  },
  {
   "cell_type": "code",
   "execution_count": null,
   "id": "06bf1a02",
   "metadata": {},
   "outputs": [],
   "source": [
    "PTM_driver_dis_filt = PTM_driver_dis.filter(items=['GENE', 'ACC_ID', \n",
    "        'type', 'residue', 'driv_mut_type',\n",
    "       'dtiv_mut_site', 'pro_len'])"
   ]
  },
  {
   "cell_type": "code",
   "execution_count": null,
   "id": "6f81ebb7",
   "metadata": {},
   "outputs": [],
   "source": [
    "PTM_driver_dis_filt"
   ]
  },
  {
   "cell_type": "code",
   "execution_count": null,
   "id": "e36b4a77",
   "metadata": {},
   "outputs": [],
   "source": [
    "PTM_driver_dis_filt_miss = PTM_driver_dis_filt.loc[PTM_driver_dis_filt['driv_mut_type']=='Missense Mutation']"
   ]
  },
  {
   "cell_type": "code",
   "execution_count": null,
   "id": "e66daeac",
   "metadata": {},
   "outputs": [],
   "source": [
    "PTM_driver_dis_filt_miss"
   ]
  },
  {
   "cell_type": "code",
   "execution_count": null,
   "id": "e3b7764b",
   "metadata": {},
   "outputs": [],
   "source": [
    "\"\"\"\n",
    "save as csv\n",
    "\"\"\"\n",
    "cols=PTM_driver_dis_filt_miss.columns.to_list()\n",
    "PTM_driver_dis_filt_miss.to_csv('PTM_disrupting_missense_drivers_03_07.csv', columns=cols, index=False)"
   ]
  },
  {
   "cell_type": "code",
   "execution_count": null,
   "id": "948d709c",
   "metadata": {},
   "outputs": [],
   "source": [
    "\"\"\"\n",
    "read csv\n",
    "\"\"\"\n",
    "PTM_driver_dis_filt_miss= pd.read_csv('PTM_disrupting_missense_drivers.csv', low_memory=False)"
   ]
  },
  {
   "cell_type": "code",
   "execution_count": null,
   "id": "1a654079",
   "metadata": {},
   "outputs": [],
   "source": [
    "PTM_driver_dis_filt_miss_gene_acc = PTM_disrupting_missense_drivers.drop_duplicates(subset=['GENE', 'ACC_ID'])"
   ]
  },
  {
   "cell_type": "code",
   "execution_count": null,
   "id": "996ddd7b",
   "metadata": {},
   "outputs": [],
   "source": [
    "PTM_driver_dis_filt_miss_gene_acc"
   ]
  },
  {
   "cell_type": "code",
   "execution_count": null,
   "id": "b705c1ee",
   "metadata": {},
   "outputs": [],
   "source": [
    "PTM_driver_dis_filt_miss_gene = PTM_driver_dis_filt_miss.drop_duplicates(subset=['GENE'])"
   ]
  },
  {
   "cell_type": "code",
   "execution_count": null,
   "id": "32eb5b5c",
   "metadata": {},
   "outputs": [],
   "source": [
    "PTM_driver_dis_filt_miss_gene"
   ]
  },
  {
   "cell_type": "code",
   "execution_count": null,
   "id": "7ceaab51",
   "metadata": {},
   "outputs": [],
   "source": []
  },
  {
   "cell_type": "code",
   "execution_count": null,
   "id": "41a8d478",
   "metadata": {},
   "outputs": [],
   "source": [
    "driver_mut_filt = pd.read_csv('driv_pred_final_v1_2022_02_15.csv', low_memory=False)"
   ]
  },
  {
   "cell_type": "code",
   "execution_count": null,
   "id": "f733c38a",
   "metadata": {},
   "outputs": [],
   "source": [
    "driver_mut_filt_mis = driver_mut_filt.loc[(driver_mut_filt['mutationType']=='Missense Mutation')\n",
    "                                         & (driver_mut_filt['driver_mut']==1)]"
   ]
  },
  {
   "cell_type": "code",
   "execution_count": null,
   "id": "19a2f37f",
   "metadata": {},
   "outputs": [],
   "source": [
    "driver_mut_filt_mis.head(2)"
   ]
  },
  {
   "cell_type": "code",
   "execution_count": null,
   "id": "4fba1aec",
   "metadata": {},
   "outputs": [],
   "source": []
  },
  {
   "cell_type": "code",
   "execution_count": null,
   "id": "34d96698",
   "metadata": {},
   "outputs": [],
   "source": [
    "driver_mut_filt_mis_filt = driver_mut_filt_mis.filter(items=['gene_name', 'mutationType', 'mutproteinPosStart', 'Specific_Samples', 'pro_len', 'probability'])"
   ]
  },
  {
   "cell_type": "code",
   "execution_count": null,
   "id": "46a2359d",
   "metadata": {},
   "outputs": [],
   "source": [
    "driver_mut_filt_mis_filt = driver_mut_filt_mis_filt.drop_duplicates()"
   ]
  },
  {
   "cell_type": "code",
   "execution_count": null,
   "id": "a0a7f349",
   "metadata": {},
   "outputs": [],
   "source": [
    "driver_mut_filt_mis_filt"
   ]
  },
  {
   "cell_type": "code",
   "execution_count": null,
   "id": "4c5b6eda",
   "metadata": {},
   "outputs": [],
   "source": [
    "\"\"\"\n",
    "save as csv\n",
    "\"\"\"\n",
    "cols=driver_mut_filt_mis_filt.columns.to_list()\n",
    "driver_mut_filt_mis_filt.to_csv('missense_driver_mutations.csv', columns=cols, index= False)"
   ]
  },
  {
   "cell_type": "code",
   "execution_count": null,
   "id": "cfb71098",
   "metadata": {},
   "outputs": [],
   "source": [
    "\"\"\"\n",
    "open all the human PTMs\n",
    "\"\"\"\n",
    "ptm = pd.read_csv('ptm_df_hum.csv', low_memory=False)"
   ]
  },
  {
   "cell_type": "code",
   "execution_count": null,
   "id": "43226bb9",
   "metadata": {},
   "outputs": [],
   "source": [
    "ptm"
   ]
  },
  {
   "cell_type": "code",
   "execution_count": null,
   "id": "f8aacc60",
   "metadata": {},
   "outputs": [],
   "source": [
    "human_ptm_pro_len = pd.merge(ptm, all_ptm_protein_lenghs_filt_re, on= ['GENE', 'ACC_ID'])"
   ]
  },
  {
   "cell_type": "code",
   "execution_count": null,
   "id": "8c5e5bef",
   "metadata": {},
   "outputs": [],
   "source": [
    "human_ptm_pro_len"
   ]
  },
  {
   "cell_type": "code",
   "execution_count": null,
   "id": "c454a665",
   "metadata": {},
   "outputs": [],
   "source": [
    "\"\"\"\n",
    "filter\n",
    "\"\"\"\n",
    "human_ptm_pro_len_filt = human_ptm_pro_len.filter(items= ['ACC_ID', 'GENE', 'residue', 'type', 'pro_len'] )"
   ]
  },
  {
   "cell_type": "code",
   "execution_count": null,
   "id": "0f48d3e1",
   "metadata": {},
   "outputs": [],
   "source": [
    "human_ptm_pro_len_filt"
   ]
  },
  {
   "cell_type": "code",
   "execution_count": null,
   "id": "6a703a01",
   "metadata": {},
   "outputs": [],
   "source": [
    "human_ptm_pro_len_filt_filt = human_ptm_pro_len_filt.drop_duplicates(subset=['GENE', 'residue', 'type'])"
   ]
  },
  {
   "cell_type": "code",
   "execution_count": null,
   "id": "ccf12725",
   "metadata": {},
   "outputs": [],
   "source": [
    "human_ptm_pro_len_filt_filt"
   ]
  },
  {
   "cell_type": "code",
   "execution_count": null,
   "id": "8ef2c175",
   "metadata": {},
   "outputs": [],
   "source": [
    "\"\"\"\n",
    "save as csv\n",
    "\"\"\"\n",
    "cols=human_ptm_pro_len_filt.columns.to_list()\n",
    "human_ptm_pro_len_filt.to_csv('human_PTMs_phosphositeplus.csv', columns=cols, index=False)"
   ]
  },
  {
   "cell_type": "code",
   "execution_count": null,
   "id": "36f03173",
   "metadata": {},
   "outputs": [],
   "source": [
    "\"\"\"\n",
    "open csv\n",
    "\"\"\"\n",
    "cols=human_ptm_pro_len_filt_filt.columns.to_list()\n",
    "human_ptm_pro_len_filt_filt.to_csv('human_PTMs_phosphositeplus_03_07.csv', columns=cols, index=False)"
   ]
  },
  {
   "cell_type": "code",
   "execution_count": null,
   "id": "d3b8fd73",
   "metadata": {},
   "outputs": [],
   "source": []
  },
  {
   "cell_type": "code",
   "execution_count": null,
   "id": "93bda739",
   "metadata": {},
   "outputs": [],
   "source": [
    "functional_ptm_final_filt = functional_ptm_final.filter(items= ['ACC_ID', 'GENE', 'residue', 'type', 'driv_mut_type', 'dtiv_mut_site'])"
   ]
  },
  {
   "cell_type": "code",
   "execution_count": null,
   "id": "d1f03bc5",
   "metadata": {},
   "outputs": [],
   "source": [
    "functional_ptm_final_filt = functional_ptm_final.filter(items= ['ACC_ID', 'GENE', 'residue', 'type', 'driv_mut_type', 'dtiv_mut_site'])"
   ]
  },
  {
   "cell_type": "code",
   "execution_count": null,
   "id": "c4d954aa",
   "metadata": {},
   "outputs": [],
   "source": [
    "functional_ptm_final_filt = functional_ptm_final_filt.rename(columns= {'dtiv_mut_site':'driv_mut_site', 'GENE':'gene_name', 'ACC_ID':'accession'})"
   ]
  },
  {
   "cell_type": "code",
   "execution_count": null,
   "id": "25ca1522",
   "metadata": {},
   "outputs": [],
   "source": [
    "functional_ptm_final_filt_miss = functional_ptm_final_filt.loc[functional_ptm_final_filt['driv_mut_type']== 'Missense Mutation']"
   ]
  },
  {
   "cell_type": "code",
   "execution_count": null,
   "id": "9d4dee86",
   "metadata": {},
   "outputs": [],
   "source": [
    "\"\"\"\n",
    "oprn protein lengths\n",
    "\"\"\"\n",
    "prot_len_df = pd.read_csv('protein_len_total.csv', skipinitialspace = True)"
   ]
  },
  {
   "cell_type": "code",
   "execution_count": null,
   "id": "563034c1",
   "metadata": {},
   "outputs": [],
   "source": [
    "prot_len_df= prot_len_df.filter(items= ['accession', 'gene_name', 'pro_len'])"
   ]
  },
  {
   "cell_type": "code",
   "execution_count": null,
   "id": "1b2d386b",
   "metadata": {},
   "outputs": [],
   "source": [
    "\"\"\"\n",
    "merge\n",
    "\"\"\"\n",
    "functional_ptm_final_filt_miss = pd.merge(functional_ptm_final_filt_miss, prot_len_df, on=['accession', 'gene_name'] )"
   ]
  },
  {
   "cell_type": "code",
   "execution_count": null,
   "id": "b8be477e",
   "metadata": {},
   "outputs": [],
   "source": [
    "functional_ptm_final_filt_miss"
   ]
  },
  {
   "cell_type": "code",
   "execution_count": null,
   "id": "8e027cde",
   "metadata": {},
   "outputs": [],
   "source": [
    "functional_ptm_final_filt_miss"
   ]
  },
  {
   "cell_type": "code",
   "execution_count": null,
   "id": "9c2d18ae",
   "metadata": {},
   "outputs": [],
   "source": [
    "driver_mut_filt_miss"
   ]
  },
  {
   "cell_type": "code",
   "execution_count": null,
   "id": "8f9c73a5",
   "metadata": {},
   "outputs": [],
   "source": [
    "driver_mut_filt_miss_filt = driver_mut_filt_miss.filter(items=['gene_name', 'mutationType', 'mutproteinPosStart', 'pro_len', 'probability'])"
   ]
  },
  {
   "cell_type": "code",
   "execution_count": null,
   "id": "f530fdb1",
   "metadata": {},
   "outputs": [],
   "source": [
    "driver_mut_filt_miss_filt = driver_mut_filt_miss_filt.rename(columns={'mutproteinPosStart':'dtiv_mut_site', 'mutationType':'driv_mut_type'})"
   ]
  },
  {
   "cell_type": "code",
   "execution_count": null,
   "id": "44ed018a",
   "metadata": {},
   "outputs": [],
   "source": [
    "driver_mut_filt_miss_filt"
   ]
  },
  {
   "cell_type": "code",
   "execution_count": null,
   "id": "66924c69",
   "metadata": {},
   "outputs": [],
   "source": [
    "\"\"\"\n",
    "save as csv\n",
    "\"\"\"\n",
    "cols=driver_mut_filt_miss_filt.columns.to_list()\n",
    "driver_mut_filt_miss_filt.to_csv('cancer_driver_missense_mutations.csv', columns=cols, index=False)"
   ]
  },
  {
   "cell_type": "code",
   "execution_count": null,
   "id": "9daa4324",
   "metadata": {},
   "outputs": [],
   "source": [
    "\"\"\"\n",
    "open csv\n",
    "\"\"\"\n",
    "driver_mut_filt_miss_filt = pd.read_csv('cancer_driver_missense_mutations.csv', low_memory=False)"
   ]
  },
  {
   "cell_type": "code",
   "execution_count": null,
   "id": "b1d9063e",
   "metadata": {},
   "outputs": [],
   "source": [
    "driver_mut_filt_miss_filt"
   ]
  },
  {
   "cell_type": "code",
   "execution_count": null,
   "id": "872241fa",
   "metadata": {},
   "outputs": [],
   "source": [
    "\"\"\"\n",
    "open all the human PTMs\n",
    "\"\"\"\n",
    "ptm_df_hum= pd.read_csv('ptm_df_hum.csv', low_memory=False)"
   ]
  },
  {
   "cell_type": "code",
   "execution_count": null,
   "id": "323f2ae8",
   "metadata": {},
   "outputs": [],
   "source": [
    "\"\"\"\n",
    "merge functional_ptm_final and all_ptm_protein_lenghs_filt_re to add protein lengths\n",
    "\"\"\"\n",
    "PTM_driver_dis = pd.merge(functional_ptm_final, all_ptm_protein_lenghs_filt_re, on= ['GENE', 'ACC_ID'])"
   ]
  },
  {
   "cell_type": "code",
   "execution_count": null,
   "id": "cb35ad81",
   "metadata": {},
   "outputs": [],
   "source": []
  },
  {
   "cell_type": "code",
   "execution_count": null,
   "id": "7b6ef1a4",
   "metadata": {},
   "outputs": [],
   "source": []
  },
  {
   "cell_type": "code",
   "execution_count": null,
   "id": "037280dc",
   "metadata": {},
   "outputs": [],
   "source": [
    "len(functional_ptm_final)"
   ]
  },
  {
   "cell_type": "code",
   "execution_count": null,
   "id": "010f57ee",
   "metadata": {},
   "outputs": [],
   "source": [
    "\"\"\"\n",
    "Identify PTMs disrupted by missense mutations\n",
    "\"\"\"\n",
    "Miss_functional_ptm_final_filt = functional_ptm_final.loc[functional_ptm_final['driv_mut_type'] == 'Missense Mutation']"
   ]
  },
  {
   "cell_type": "code",
   "execution_count": null,
   "id": "c0457886",
   "metadata": {},
   "outputs": [],
   "source": [
    "Miss_functional_ptm_final_filt_Driv = Miss_functional_ptm_final_filt.filter(items=['GENE', 'driv_mut_type', 'dtiv_mut_site'])"
   ]
  },
  {
   "cell_type": "code",
   "execution_count": null,
   "id": "b965de25",
   "metadata": {},
   "outputs": [],
   "source": [
    "Miss_functional_ptm_final_filt_Driv.head(2)"
   ]
  },
  {
   "cell_type": "code",
   "execution_count": null,
   "id": "e6becfbf",
   "metadata": {},
   "outputs": [],
   "source": [
    "Miss_functional_ptm_final_filt_Driv = Miss_functional_ptm_final_filt_Driv.drop_duplicates()"
   ]
  },
  {
   "cell_type": "code",
   "execution_count": null,
   "id": "f9ff45f3",
   "metadata": {},
   "outputs": [],
   "source": [
    "len(Miss_functional_ptm_final_filt_Driv)"
   ]
  },
  {
   "cell_type": "code",
   "execution_count": null,
   "id": "cce7ef81",
   "metadata": {},
   "outputs": [],
   "source": [
    "Miss_functional_ptm_final_filt_Driv['driv_mut_type'].unique()"
   ]
  },
  {
   "cell_type": "code",
   "execution_count": null,
   "id": "574dfec6",
   "metadata": {},
   "outputs": [],
   "source": [
    "\"\"\"\n",
    "identify unique PTMs \n",
    "\n",
    "\"\"\"\n",
    "functional_ptm_final_filt = Miss_functional_ptm_final_filt.drop(columns=['driv_mut_type', 'dtiv_mut_site'])\n"
   ]
  },
  {
   "cell_type": "code",
   "execution_count": null,
   "id": "1f614759",
   "metadata": {},
   "outputs": [],
   "source": [
    "\"\"\"\n",
    "unique PTMs\n",
    "\"\"\"\n",
    "functional_ptm_final_filt = functional_ptm_final_filt.drop_duplicates()"
   ]
  },
  {
   "cell_type": "code",
   "execution_count": null,
   "id": "84270957",
   "metadata": {},
   "outputs": [],
   "source": [
    "len(functional_ptm_final_filt)"
   ]
  },
  {
   "cell_type": "code",
   "execution_count": null,
   "id": "fc7aa100",
   "metadata": {},
   "outputs": [],
   "source": [
    "\"\"\"\n",
    "Missense mutations/PTMs\n",
    "\"\"\"\n",
    "functional_drivers_per_PTM = len(Miss_functional_ptm_final_filt_Driv)/len(functional_ptm_final_filt)"
   ]
  },
  {
   "cell_type": "code",
   "execution_count": null,
   "id": "f3972b4b",
   "metadata": {},
   "outputs": [],
   "source": [
    "functional_drivers_per_PTM"
   ]
  },
  {
   "cell_type": "code",
   "execution_count": null,
   "id": "a576c89f",
   "metadata": {},
   "outputs": [],
   "source": [
    "ptm_df_hum.head(2)"
   ]
  },
  {
   "cell_type": "code",
   "execution_count": null,
   "id": "511864f9",
   "metadata": {},
   "outputs": [],
   "source": [
    "len(ptm_df_hum)"
   ]
  },
  {
   "cell_type": "code",
   "execution_count": null,
   "id": "0c3d1f32",
   "metadata": {},
   "outputs": [],
   "source": [
    "\"\"\"\n",
    "read all the driver mutations\n",
    "\"\"\"\n",
    "driver_mut_filt = pd.read_csv('driv_pred_final_v1_2022_02_15.csv', low_memory=False)"
   ]
  },
  {
   "cell_type": "code",
   "execution_count": null,
   "id": "86b463c6",
   "metadata": {},
   "outputs": [],
   "source": [
    "driver_mut_filt_miss = driver_mut_filt.loc[(driver_mut_filt['mutationType'] == 'Missense Mutation') &  \n",
    "                                          (driver_mut_filt['driver_mut'] == 1)]"
   ]
  },
  {
   "cell_type": "code",
   "execution_count": null,
   "id": "862325f0",
   "metadata": {},
   "outputs": [],
   "source": [
    "ACK1_mut = driver_mut_filt.loc[(driver_mut_filt['gene_name'] == 'TNK2')]"
   ]
  },
  {
   "cell_type": "code",
   "execution_count": null,
   "id": "aa1c6d4e",
   "metadata": {},
   "outputs": [],
   "source": [
    "ACK1_mut_sort = ACK1_mut.sort_values(by= 'Specific_Samples', ascending= False)"
   ]
  },
  {
   "cell_type": "code",
   "execution_count": null,
   "id": "611044d2",
   "metadata": {},
   "outputs": [],
   "source": [
    "ACK1_mut_sort.head(2)"
   ]
  },
  {
   "cell_type": "code",
   "execution_count": null,
   "id": "7dd7380e",
   "metadata": {},
   "outputs": [],
   "source": [
    "ACK1_mut_sort.columns"
   ]
  },
  {
   "cell_type": "code",
   "execution_count": null,
   "id": "eea747d7",
   "metadata": {},
   "outputs": [],
   "source": [
    "ACK1_filt = ACK1_mut_sort.filter(items=['gene_name', 'mutationType', 'mutproteinPosStart',\n",
    "       'Specific_Samples', 'gene',\n",
    "       'driver_mut', 'probability', 'AA'])"
   ]
  },
  {
   "cell_type": "code",
   "execution_count": null,
   "id": "610cc974",
   "metadata": {},
   "outputs": [],
   "source": [
    "ACK1_filt.head(10)"
   ]
  },
  {
   "cell_type": "code",
   "execution_count": null,
   "id": "af402a0f",
   "metadata": {},
   "outputs": [],
   "source": [
    "driver_mut_filt_miss= driver_mut_filt_miss.drop_duplicates()"
   ]
  },
  {
   "cell_type": "code",
   "execution_count": null,
   "id": "8fd5f69b",
   "metadata": {},
   "outputs": [],
   "source": [
    "len(driver_mut_filt_miss)"
   ]
  },
  {
   "cell_type": "code",
   "execution_count": null,
   "id": "3ef39da2",
   "metadata": {},
   "outputs": [],
   "source": [
    "\"\"\"\n",
    "Missense mutations/PTMs\n",
    "\"\"\"\n",
    "functional_drivers_per_PTM = len(Miss_functional_ptm_final_filt_Driv)/len(functional_ptm_final_filt)"
   ]
  },
  {
   "cell_type": "code",
   "execution_count": null,
   "id": "ba245983",
   "metadata": {},
   "outputs": [],
   "source": [
    "functional_drivers_per_PTM"
   ]
  },
  {
   "cell_type": "code",
   "execution_count": null,
   "id": "da14f61e",
   "metadata": {},
   "outputs": [],
   "source": [
    "\"\"\"\n",
    "Expected drivers/PTMs\n",
    "\"\"\"\n",
    "expected_drivers_per_PTM = len(driver_mut_filt_miss)/len(ptm_df_hum)"
   ]
  },
  {
   "cell_type": "code",
   "execution_count": null,
   "id": "52ef600b",
   "metadata": {},
   "outputs": [],
   "source": [
    "expected_drivers_per_PTM"
   ]
  },
  {
   "cell_type": "code",
   "execution_count": null,
   "id": "22edb9e7",
   "metadata": {},
   "outputs": [],
   "source": [
    "\"\"\"\n",
    "fraction of PTMs distruped by drivers/total PTMs\n",
    "\"\"\"\n",
    "PTM_fraction = len(functional_ptm_final_filt)/len(ptm_df_hum)*100"
   ]
  },
  {
   "cell_type": "code",
   "execution_count": null,
   "id": "47d8e56a",
   "metadata": {},
   "outputs": [],
   "source": [
    "PTM_fraction"
   ]
  },
  {
   "cell_type": "code",
   "execution_count": null,
   "id": "17ead781",
   "metadata": {},
   "outputs": [],
   "source": [
    "\"\"\"\n",
    "fraction of PTM distrupting drivers/total drivers\n",
    "\"\"\"\n",
    "driver_fraction = len(Miss_functional_ptm_final_filt_Driv)/(driver_mut_filt_miss['Specific_Samples'].sum())*100"
   ]
  },
  {
   "cell_type": "code",
   "execution_count": null,
   "id": "4b815d79",
   "metadata": {},
   "outputs": [],
   "source": [
    "\"\"\"\n",
    "calculate the ratio of driv_PTMs/expected\n",
    "\"\"\"\n",
    "ratio_driv_PTM_to_expected = functional_drivers_per_PTM/expected_drivers_per_PTM"
   ]
  },
  {
   "cell_type": "code",
   "execution_count": null,
   "id": "190e6264",
   "metadata": {},
   "outputs": [],
   "source": [
    "ratio_driv_PTM_to_expected"
   ]
  },
  {
   "cell_type": "code",
   "execution_count": null,
   "id": "e051c5ab",
   "metadata": {},
   "outputs": [],
   "source": [
    "\"\"\"\n",
    "identify unique PTMs \n",
    "\n",
    "\"\"\"\n",
    "functional_ptm_missense_driv = Miss_functional_ptm_final_filt.filter(items=['GENE', 'driv_mut_type', 'dtiv_mut_site'])\n",
    "\n"
   ]
  },
  {
   "cell_type": "code",
   "execution_count": null,
   "id": "4147dae5",
   "metadata": {},
   "outputs": [],
   "source": [
    "functional_ptm_missense_driv = functional_ptm_missense_driv.drop_duplicates()"
   ]
  },
  {
   "cell_type": "code",
   "execution_count": null,
   "id": "4e95c3d5",
   "metadata": {},
   "outputs": [],
   "source": [
    "len(functional_ptm_missense_driv)"
   ]
  },
  {
   "cell_type": "code",
   "execution_count": null,
   "id": "8b7b32f2",
   "metadata": {},
   "outputs": [],
   "source": [
    "functional_ptm_final['driv_mut_type'].unique()"
   ]
  },
  {
   "cell_type": "code",
   "execution_count": null,
   "id": "1685f0bb",
   "metadata": {},
   "outputs": [],
   "source": [
    "funct_mis_ptm_final = functional_ptm_final.loc[functional_ptm_final['driv_mut_type']=='Missense Mutation']"
   ]
  },
  {
   "cell_type": "code",
   "execution_count": null,
   "id": "49f5953f",
   "metadata": {},
   "outputs": [],
   "source": [
    "funct_mis_ptm_final.head(2)"
   ]
  },
  {
   "cell_type": "code",
   "execution_count": null,
   "id": "71ea7715",
   "metadata": {},
   "outputs": [],
   "source": [
    "len(funct_mis_ptm_final)"
   ]
  },
  {
   "cell_type": "code",
   "execution_count": null,
   "id": "47178648",
   "metadata": {},
   "outputs": [],
   "source": [
    "funct_mis_ptm_final = funct_mis_ptm_final.rename(columns={'GENE':'gene_name',\n",
    "                                                         'driv_mut_type': 'mutationType', \n",
    "                                                         'dtiv_mut_site': 'mutproteinPosStart'})"
   ]
  },
  {
   "cell_type": "code",
   "execution_count": null,
   "id": "e46317fe",
   "metadata": {},
   "outputs": [],
   "source": []
  },
  {
   "cell_type": "code",
   "execution_count": null,
   "id": "1ffe46d5",
   "metadata": {},
   "outputs": [],
   "source": []
  },
  {
   "cell_type": "code",
   "execution_count": null,
   "id": "2cdfe67b",
   "metadata": {},
   "outputs": [],
   "source": []
  },
  {
   "cell_type": "code",
   "execution_count": null,
   "id": "a6d97e7f",
   "metadata": {},
   "outputs": [],
   "source": [
    "novel_missense_driver_varient_table.head(2)"
   ]
  },
  {
   "cell_type": "code",
   "execution_count": null,
   "id": "3eee1d42",
   "metadata": {},
   "outputs": [],
   "source": [
    "\"\"\"\n",
    "merge\n",
    "\"\"\"\n",
    "miss_novel_driv_ptm = pd.merge(novel_missense_driver_varient_table, funct_mis_ptm_final, on = ['gene_name', 'mutationType',\n",
    "                                                                                              'mutproteinPosStart'] )"
   ]
  },
  {
   "cell_type": "code",
   "execution_count": null,
   "id": "d0c9db0d",
   "metadata": {},
   "outputs": [],
   "source": [
    "miss_novel_driv_ptm.head(2)"
   ]
  },
  {
   "cell_type": "code",
   "execution_count": null,
   "id": "493c3678",
   "metadata": {},
   "outputs": [],
   "source": [
    "miss_novel_driv_ptm.columns"
   ]
  },
  {
   "cell_type": "code",
   "execution_count": null,
   "id": "8f361939",
   "metadata": {},
   "outputs": [],
   "source": [
    "\"\"\"\n",
    "save as csv all the columns\n",
    "\"\"\"\n",
    "cols= miss_novel_driv_ptm.columns.to_list()\n",
    "miss_novel_driv_ptm.to_csv('miss_novel_driv_ptm_02_16.csv', columns=cols, index=False)"
   ]
  },
  {
   "cell_type": "code",
   "execution_count": null,
   "id": "c9dce7d7",
   "metadata": {},
   "outputs": [],
   "source": [
    "miss_novel_driv_ptm_filt = miss_novel_driv_ptm.filter(items = ['accession', 'gene_name', 'mutationType', \n",
    "                                                               'mutproteinPosStart', 'AA','aminoAcidChange', \n",
    "                                                               'Varient_Count', 'MOD_RSD',\n",
    "                                                               'Specific_Samples', 'Total_Samples', 'probability', \n",
    "                                                               'specific_fraction',\n",
    "                                                               'PROTEIN', 'DOMAIN',\n",
    "                                                               'LT_LIT', 'MS_LIT', 'MS_CST', \n",
    "                                                               'type', 'residue'])"
   ]
  },
  {
   "cell_type": "code",
   "execution_count": null,
   "id": "78708e29",
   "metadata": {},
   "outputs": [],
   "source": [
    "miss_novel_driv_ptm_filt.head(2)"
   ]
  },
  {
   "cell_type": "code",
   "execution_count": null,
   "id": "734240dd",
   "metadata": {},
   "outputs": [],
   "source": [
    "len(miss_novel_driv_ptm_filt)"
   ]
  },
  {
   "cell_type": "code",
   "execution_count": null,
   "id": "703674e8",
   "metadata": {},
   "outputs": [],
   "source": [
    "\"\"\"\n",
    "save as csv table\n",
    "\"\"\"\n",
    "cols= miss_novel_driv_ptm_filt.columns.to_list()\n",
    "miss_novel_driv_ptm_filt.to_csv('table3_miss_novel_driv_ptm_filt_02_16.csv', columns=cols, index= False)"
   ]
  },
  {
   "cell_type": "code",
   "execution_count": null,
   "id": "e1681d3b",
   "metadata": {},
   "outputs": [],
   "source": [
    "miss_novel_driv_ptm_uniq = miss_novel_driv_ptm_filt.filter(items= ['accession', 'gene_name', 'mutationType', \n",
    "                                                               'mutproteinPosStart', 'AA','MOD_RSD',\n",
    "                                                               'Specific_Samples', 'Total_Samples', 'probability', \n",
    "                                                               'specific_fraction',\n",
    "                                                               'PROTEIN', 'DOMAIN',\n",
    "                                                               'LT_LIT', 'MS_LIT', 'MS_CST', \n",
    "                                                               'type', 'residue'])"
   ]
  },
  {
   "cell_type": "code",
   "execution_count": null,
   "id": "cb93830e",
   "metadata": {},
   "outputs": [],
   "source": [
    "miss_novel_driv_ptm_uniq = miss_novel_driv_ptm_uniq.drop_duplicates()"
   ]
  },
  {
   "cell_type": "code",
   "execution_count": null,
   "id": "e5e34d2d",
   "metadata": {},
   "outputs": [],
   "source": [
    "len(miss_novel_driv_ptm_uniq)"
   ]
  },
  {
   "cell_type": "code",
   "execution_count": null,
   "id": "46934039",
   "metadata": {},
   "outputs": [],
   "source": [
    "miss_novel_driv_ptm_uniq.head(2)"
   ]
  },
  {
   "cell_type": "code",
   "execution_count": null,
   "id": "b32ed80d",
   "metadata": {},
   "outputs": [],
   "source": [
    "\"\"\"\n",
    "save as csv Table\n",
    "\"\"\"\n",
    "cols= miss_novel_driv_ptm_uniq.columns.to_list()\n",
    "miss_novel_driv_ptm_uniq.to_csv('table3_miss_novel_driv_ptm_uniq_02_16.csv', columns=cols, index= False)"
   ]
  },
  {
   "cell_type": "code",
   "execution_count": null,
   "id": "a2d6f151",
   "metadata": {},
   "outputs": [],
   "source": []
  },
  {
   "cell_type": "code",
   "execution_count": null,
   "id": "e7d6c27d",
   "metadata": {},
   "outputs": [],
   "source": []
  },
  {
   "cell_type": "code",
   "execution_count": null,
   "id": "ae99844c",
   "metadata": {},
   "outputs": [],
   "source": [
    "miss_novel_driv_ptm_filt = pd.read_csv('table3_miss_novel_driv_ptm_filt_02_16.csv', low_memory=False)"
   ]
  },
  {
   "cell_type": "code",
   "execution_count": null,
   "id": "d4bd21ee",
   "metadata": {},
   "outputs": [],
   "source": [
    "miss_novel_driv_ptm_filt.head(2)"
   ]
  },
  {
   "cell_type": "code",
   "execution_count": null,
   "id": "cfbff63c",
   "metadata": {},
   "outputs": [],
   "source": []
  },
  {
   "cell_type": "markdown",
   "id": "e8621518",
   "metadata": {},
   "source": [
    "# Figure 2 collect data for the lollypop grapgh - "
   ]
  },
  {
   "cell_type": "code",
   "execution_count": null,
   "id": "b179f21f",
   "metadata": {},
   "outputs": [],
   "source": [
    "\"\"\"\n",
    "open all PTM dristrupting driver mutations\n",
    "\"\"\"\n",
    "miss_all_driv_ptm_uniq = pd.read_csv('table3_extra_miss_all_driv_ptm_filt_uniq_02_15.csv')"
   ]
  },
  {
   "cell_type": "code",
   "execution_count": null,
   "id": "fa57d0c3",
   "metadata": {},
   "outputs": [],
   "source": [
    "sum_list = ['LT_LIT', 'MS_LIT', 'MS_CST']"
   ]
  },
  {
   "cell_type": "code",
   "execution_count": null,
   "id": "88cb7a15",
   "metadata": {},
   "outputs": [],
   "source": [
    "miss_all_driv_ptm_uniq['PTM_references'] = miss_all_driv_ptm_uniq[sum_list].sum(axis=1)"
   ]
  },
  {
   "cell_type": "code",
   "execution_count": null,
   "id": "0e9db06b",
   "metadata": {},
   "outputs": [],
   "source": [
    "# miss_novel_driv_ptm_uniq = pd.read_csv('table3_miss_novel_driv_ptm_uniq_02_16.csv')"
   ]
  },
  {
   "cell_type": "code",
   "execution_count": null,
   "id": "e990ee6a",
   "metadata": {},
   "outputs": [],
   "source": [
    "miss_all_driv_ptm_uniq.head(2)"
   ]
  },
  {
   "cell_type": "code",
   "execution_count": null,
   "id": "4e3cd609",
   "metadata": {},
   "outputs": [],
   "source": [
    "def my_function(fname):\n",
    "  print(fname + \" Refsnes\")\n",
    "\n",
    "my_function(\"Emil\")\n",
    "my_function(\"Tobias\")\n",
    "my_function(\"Linus\")"
   ]
  },
  {
   "cell_type": "code",
   "execution_count": null,
   "id": "8e3bb5a5",
   "metadata": {},
   "outputs": [],
   "source": [
    "def miss_novel_ptm(gene_name):\n",
    "    df = miss_all_driv_ptm_uniq.loc[miss_all_driv_ptm_uniq['gene_name']== gene_name]\n",
    "#     filter cancer related columns\n",
    "    df_cancer = df.filter(items = ['gene_name', 'AA', 'mutproteinPosStart', 'Specific_Samples'])\n",
    "#     drop duplicates\n",
    "    df_cancer = df_cancer.drop_duplicates()\n",
    "    \"\"\"\n",
    "    Save as csv Fig\n",
    "    \"\"\"\n",
    "    cols = df_cancer.columns.to_list()\n",
    "    df_cancer.to_csv('Fig2_'+gene_name+'_df_cancer_02_19.csv', columns=cols, index=False)\n",
    "#     Select PTM related columns\n",
    "    ptm = df.filter(items = ['gene_name', 'AA','residue', 'type', 'PTM_references'])\n",
    "#     drop duplicates\n",
    "    ptm = ptm.drop_duplicates()\n",
    "#     Some genes has different references for the same PTM\n",
    "    ptm = ptm.groupby(['gene_name', 'residue','type'])['PTM_references'].agg('sum').reset_index()\n",
    "#     pivot\n",
    "    ptm_pivot = ptm.pivot(index='residue', columns='type', values='PTM_references').reset_index()\n",
    "    \n",
    "    ptm_pivot['gene_name'] = gene_name\n",
    "    ptm_pivot_filt = ptm_pivot.filter(items=['gene_name', 'AA', 'residue', 'Phosphorylation', 'Acetylation', 'Ubiquitination', 'Methylation',\n",
    "       'Sumoylation', 'O_GlcNAc'])\n",
    "    \"\"\"\n",
    "    Save as csv Fig\n",
    "    \"\"\"\n",
    "    cols_two = ptm_pivot_filt.columns.to_list()\n",
    "    ptm_pivot_filt.to_csv('Fig2_'+gene_name+'_ptm_pivot_filt_02_19.csv', columns=cols_two, index=False)\n",
    "    \n",
    "    \n",
    "    \n",
    "    \n",
    "    \n",
    "\n"
   ]
  },
  {
   "cell_type": "code",
   "execution_count": null,
   "id": "346793ae",
   "metadata": {},
   "outputs": [],
   "source": [
    "\"\"\"\n",
    "1. EZH2\n",
    "\"\"\"\n",
    "miss_novel_ptm('EZH2')"
   ]
  },
  {
   "cell_type": "code",
   "execution_count": null,
   "id": "4eafc496",
   "metadata": {},
   "outputs": [],
   "source": [
    "\"\"\"\n",
    "2. CHEK2\n",
    "\"\"\"\n",
    "miss_novel_ptm('CHEK2')"
   ]
  },
  {
   "cell_type": "code",
   "execution_count": null,
   "id": "b696fe21",
   "metadata": {},
   "outputs": [],
   "source": [
    "\"\"\"\n",
    "3.CD79B\n",
    "\"\"\"\n",
    "miss_novel_ptm('CD79B')"
   ]
  },
  {
   "cell_type": "code",
   "execution_count": null,
   "id": "c62a0f82",
   "metadata": {},
   "outputs": [],
   "source": [
    "\"\"\"\n",
    "4.H3-3A\n",
    "\"\"\"\n",
    "miss_novel_ptm(\"H3-3A\")"
   ]
  },
  {
   "cell_type": "code",
   "execution_count": null,
   "id": "70654868",
   "metadata": {},
   "outputs": [],
   "source": [
    "\"\"\"\n",
    "5.KRT8\n",
    "\"\"\"\n",
    "miss_novel_ptm('KRT8')"
   ]
  },
  {
   "cell_type": "code",
   "execution_count": null,
   "id": "ebf64f3c",
   "metadata": {},
   "outputs": [],
   "source": [
    "\"\"\"\n",
    "6.EEF1B2\n",
    "\"\"\"\n",
    "miss_novel_ptm('EEF1B2')"
   ]
  },
  {
   "cell_type": "code",
   "execution_count": null,
   "id": "dcf08ad6",
   "metadata": {},
   "outputs": [],
   "source": [
    "\"\"\"\n",
    "7.MDM4\n",
    "\"\"\"\n",
    "miss_novel_ptm('MDM4')"
   ]
  },
  {
   "cell_type": "code",
   "execution_count": null,
   "id": "04fb86eb",
   "metadata": {},
   "outputs": [],
   "source": [
    "\"\"\"\n",
    "7.CTNNB1\n",
    "\"\"\"\n",
    "miss_novel_ptm('CTNNB1')"
   ]
  },
  {
   "cell_type": "code",
   "execution_count": null,
   "id": "a302bd2b",
   "metadata": {},
   "outputs": [],
   "source": [
    "EZH2_df = miss_all_driv_ptm_uniq.loc[miss_all_driv_ptm_uniq['gene_name']== 'CTNNB1']"
   ]
  },
  {
   "cell_type": "code",
   "execution_count": null,
   "id": "586e9069",
   "metadata": {
    "scrolled": true
   },
   "outputs": [],
   "source": [
    "EZH2_df.sort_values(by= 'Specific_Samples', ascending=False)"
   ]
  },
  {
   "cell_type": "code",
   "execution_count": null,
   "id": "6d4fc2f8",
   "metadata": {},
   "outputs": [],
   "source": [
    "EZH2_df_cancer = EZH2_df.filter(items = ['gene_name', 'AA', 'mutproteinPosStart', 'Specific_Samples'])"
   ]
  },
  {
   "cell_type": "code",
   "execution_count": null,
   "id": "0a27281d",
   "metadata": {},
   "outputs": [],
   "source": [
    "EZH2_df_cancer = EZH2_df_cancer.drop_duplicates()"
   ]
  },
  {
   "cell_type": "code",
   "execution_count": null,
   "id": "0a0dc15c",
   "metadata": {},
   "outputs": [],
   "source": [
    "EZH2_df_cancer.head(2)"
   ]
  },
  {
   "cell_type": "code",
   "execution_count": null,
   "id": "3004d1c2",
   "metadata": {},
   "outputs": [],
   "source": [
    "\"\"\"\n",
    "Save as csv Fig\n",
    "\"\"\"         \n",
    "cols = EZH2_df_cancer.columns.to_list()\n",
    "EZH2_df_cancer.to_csv('EZH2_df_cancer.csv', columns=cols, index=False)"
   ]
  },
  {
   "cell_type": "code",
   "execution_count": null,
   "id": "177deaf2",
   "metadata": {},
   "outputs": [],
   "source": [
    "EZH2_ptm = EZH2_df.filter(items = ['gene_name', 'AA', 'residue', 'type', 'PTM_references'])"
   ]
  },
  {
   "cell_type": "code",
   "execution_count": null,
   "id": "97b3c8ad",
   "metadata": {},
   "outputs": [],
   "source": [
    "EZH2_ptm = EZH2_ptm.drop_duplicates()"
   ]
  },
  {
   "cell_type": "code",
   "execution_count": null,
   "id": "dda03ff7",
   "metadata": {},
   "outputs": [],
   "source": [
    "EZH2_ptm"
   ]
  },
  {
   "cell_type": "code",
   "execution_count": null,
   "id": "cc9382f1",
   "metadata": {},
   "outputs": [],
   "source": [
    "EZH2_ptm = EZH2_ptm.groupby(['gene_name', 'AA', 'residue','type'])['PTM_references'].agg('sum').reset_index()"
   ]
  },
  {
   "cell_type": "code",
   "execution_count": null,
   "id": "e4d880f4",
   "metadata": {},
   "outputs": [],
   "source": [
    "EZH2_ptm"
   ]
  },
  {
   "cell_type": "code",
   "execution_count": null,
   "id": "cd6f4e4b",
   "metadata": {},
   "outputs": [],
   "source": [
    "EZH2_ptm_pivot = EZH2_ptm.pivot(index='residue', columns='type', values='PTM_references').reset_index()"
   ]
  },
  {
   "cell_type": "code",
   "execution_count": null,
   "id": "38590071",
   "metadata": {},
   "outputs": [],
   "source": [
    "EZH2_ptm_pivot['gene_name'] = 'EZH2'"
   ]
  },
  {
   "cell_type": "code",
   "execution_count": null,
   "id": "220d91b9",
   "metadata": {},
   "outputs": [],
   "source": [
    "miss_all_driv_ptm_uniq['type'].unique()"
   ]
  },
  {
   "cell_type": "code",
   "execution_count": null,
   "id": "8b4e6ca6",
   "metadata": {},
   "outputs": [],
   "source": [
    "EZH2_ptm_pivot_filt = EZH2_ptm_pivot.filter(items=['gene_name', 'residue', 'Phosphorylation', 'Acetylation', 'Ubiquitination', 'Methylation',\n",
    "       'Sumoylation', 'O_GlcNAc'])"
   ]
  },
  {
   "cell_type": "code",
   "execution_count": null,
   "id": "956b2384",
   "metadata": {},
   "outputs": [],
   "source": [
    "EZH2_ptm_pivot_filt.columns"
   ]
  },
  {
   "cell_type": "code",
   "execution_count": null,
   "id": "88845ef8",
   "metadata": {},
   "outputs": [],
   "source": [
    "EZH2_ptm_pivot_filt"
   ]
  },
  {
   "cell_type": "code",
   "execution_count": null,
   "id": "b1f27525",
   "metadata": {},
   "outputs": [],
   "source": [
    "\"\"\"\n",
    "Save as csv Fig\n",
    "\"\"\"\n",
    "cols = EZH2_ptm_pivot_filt.columns.to_list()\n",
    "EZH2_ptm_pivot_filt.to_csv('Fig2_EZH2_ptm_pivot_filt.csv', columns=cols, index=False)"
   ]
  },
  {
   "cell_type": "code",
   "execution_count": null,
   "id": "e1829b78",
   "metadata": {},
   "outputs": [],
   "source": []
  },
  {
   "cell_type": "code",
   "execution_count": null,
   "id": "8787ec5e",
   "metadata": {},
   "outputs": [],
   "source": []
  },
  {
   "cell_type": "code",
   "execution_count": null,
   "id": "86582fde",
   "metadata": {},
   "outputs": [],
   "source": []
  },
  {
   "cell_type": "code",
   "execution_count": null,
   "id": "e5c5b44d",
   "metadata": {},
   "outputs": [],
   "source": []
  },
  {
   "cell_type": "code",
   "execution_count": null,
   "id": "02453ab4",
   "metadata": {},
   "outputs": [],
   "source": [
    "\"\"\"\n",
    "selct driver s at the same PTM\n",
    "\"\"\"\n",
    "miss_novel_driv_ptm_uniq = pd.read_csv('table3_miss_novel_driv_ptm_uniq_02_16.csv')"
   ]
  },
  {
   "cell_type": "code",
   "execution_count": null,
   "id": "5b34c449",
   "metadata": {},
   "outputs": [],
   "source": [
    "miss_novel_driv_ptm_uniq.head(2)"
   ]
  },
  {
   "cell_type": "code",
   "execution_count": null,
   "id": "8d87f3d5",
   "metadata": {},
   "outputs": [],
   "source": [
    "miss_novel_driv_ptm_uniq_exact = miss_novel_driv_ptm_uniq.loc[miss_novel_driv_ptm_uniq['mutproteinPosStart']== miss_novel_driv_ptm_uniq['residue']]\n"
   ]
  },
  {
   "cell_type": "code",
   "execution_count": null,
   "id": "2c19b0e9",
   "metadata": {},
   "outputs": [],
   "source": [
    "miss_novel_driv_ptm_uniq_exact.head(20)"
   ]
  },
  {
   "cell_type": "markdown",
   "id": "a62f4a54",
   "metadata": {},
   "source": [
    "# Functional PTM + all the drivers"
   ]
  },
  {
   "cell_type": "code",
   "execution_count": null,
   "id": "5c6e1b00",
   "metadata": {},
   "outputs": [],
   "source": [
    "varient_sample_chr.head(2)"
   ]
  },
  {
   "cell_type": "code",
   "execution_count": null,
   "id": "90f06fe1",
   "metadata": {},
   "outputs": [],
   "source": [
    "varient_sample_chr.loc[(varient_sample_chr['gene_name']=='MDM4')& (varient_sample_chr['mutproteinPosStart']==367)]"
   ]
  },
  {
   "cell_type": "code",
   "execution_count": null,
   "id": "8e8264f2",
   "metadata": {},
   "outputs": [],
   "source": [
    "funct_mis_ptm_final.head(2)"
   ]
  },
  {
   "cell_type": "code",
   "execution_count": null,
   "id": "f68a2422",
   "metadata": {},
   "outputs": [],
   "source": [
    "\"\"\"\n",
    "Open all the drivers\n",
    "\"\"\"\n",
    "pred_with_pred_df = pd.read_csv('driv_pred_final_v1_2022_02_04.csv', low_memory = False)"
   ]
  },
  {
   "cell_type": "code",
   "execution_count": null,
   "id": "9d43c4fb",
   "metadata": {},
   "outputs": [],
   "source": [
    "pred_with_pred_df.head(1)"
   ]
  },
  {
   "cell_type": "code",
   "execution_count": null,
   "id": "ec906d6c",
   "metadata": {},
   "outputs": [],
   "source": [
    "varient_sample_chr.columns"
   ]
  },
  {
   "cell_type": "code",
   "execution_count": null,
   "id": "4ba891a6",
   "metadata": {},
   "outputs": [],
   "source": [
    "pred_with_pred_df.columns"
   ]
  },
  {
   "cell_type": "code",
   "execution_count": null,
   "id": "8e12a9da",
   "metadata": {},
   "outputs": [],
   "source": [
    "pred_with_pred_df_filt = pred_with_pred_df.filter(items= ['gene_name', 'gene_id', 'Total_Samples', 'mutationType',\n",
    "       'mutproteinPosStart', 'Specific_Samples', 'probability' ] )"
   ]
  },
  {
   "cell_type": "code",
   "execution_count": null,
   "id": "4946fc84",
   "metadata": {},
   "outputs": [],
   "source": [
    "pred_with_pred_df_filt.head(2)"
   ]
  },
  {
   "cell_type": "code",
   "execution_count": null,
   "id": "ff6ae98c",
   "metadata": {},
   "outputs": [],
   "source": [
    "driv_pred_with_pred_df_filt = pred_with_pred_df_filt.loc[pred_with_pred_df_filt['probability']>0.5]"
   ]
  },
  {
   "cell_type": "code",
   "execution_count": null,
   "id": "dcb64ec9",
   "metadata": {},
   "outputs": [],
   "source": [
    "driv_vari_df = pd.merge(varient_sample_chr, driv_pred_with_pred_df_filt, on = ['gene_name', 'gene_id', 'Total_Samples', 'mutationType',\n",
    "       'mutproteinPosStart', 'Specific_Samples'])"
   ]
  },
  {
   "cell_type": "code",
   "execution_count": null,
   "id": "89431fa6",
   "metadata": {},
   "outputs": [],
   "source": [
    "driv_vari_df.head(2)"
   ]
  },
  {
   "cell_type": "code",
   "execution_count": null,
   "id": "65beb043",
   "metadata": {},
   "outputs": [],
   "source": []
  },
  {
   "cell_type": "code",
   "execution_count": null,
   "id": "7ca12a70",
   "metadata": {},
   "outputs": [],
   "source": [
    "funct_mis_ptm_final.head(2)"
   ]
  },
  {
   "cell_type": "code",
   "execution_count": null,
   "id": "2d85c78e",
   "metadata": {},
   "outputs": [],
   "source": [
    "\"\"\"\n",
    "identify PTM distrupting drivers\n",
    "\"\"\"\n",
    "all_driv_ptm = pd.merge(driv_vari_df, funct_mis_ptm_final, on = ['gene_name', 'mutationType',\n",
    "                                                                 'mutproteinPosStart'])"
   ]
  },
  {
   "cell_type": "code",
   "execution_count": null,
   "id": "19c8a667",
   "metadata": {},
   "outputs": [],
   "source": [
    "all_driv_ptm.head(2) "
   ]
  },
  {
   "cell_type": "code",
   "execution_count": null,
   "id": "4f600046",
   "metadata": {},
   "outputs": [],
   "source": [
    "all_driv_ptm['amino_acid'] = all_driv_ptm['aminoAcidChange'].astype(str).str[0]"
   ]
  },
  {
   "cell_type": "code",
   "execution_count": null,
   "id": "0eacc073",
   "metadata": {},
   "outputs": [],
   "source": [
    "all_driv_ptm['AA'] = all_driv_ptm['amino_acid'] + all_driv_ptm['mutproteinPosStart'].astype(str)"
   ]
  },
  {
   "cell_type": "code",
   "execution_count": null,
   "id": "b8f6a9e0",
   "metadata": {},
   "outputs": [],
   "source": [
    "all_driv_ptm.head(2)"
   ]
  },
  {
   "cell_type": "code",
   "execution_count": null,
   "id": "fee9d625",
   "metadata": {},
   "outputs": [],
   "source": [
    "\"\"\"\n",
    "save as csv\n",
    "\"\"\"\n",
    "cols = all_driv_ptm.columns.to_list()\n",
    "all_driv_ptm.to_csv('miss_all_driv_ptm_02_16.csv', columns=cols, index= False)"
   ]
  },
  {
   "cell_type": "code",
   "execution_count": null,
   "id": "12f70a7a",
   "metadata": {},
   "outputs": [],
   "source": [
    "\"\"\"\n",
    "save as csv\n",
    "\"\"\"\n",
    "\n",
    "all_driv_ptm= pd.read_csv('miss_all_driv_ptm_02_16.csv')"
   ]
  },
  {
   "cell_type": "code",
   "execution_count": null,
   "id": "05660dcc",
   "metadata": {},
   "outputs": [],
   "source": [
    "all_driv_ptm.head(2)"
   ]
  },
  {
   "cell_type": "code",
   "execution_count": null,
   "id": "25e6fccb",
   "metadata": {},
   "outputs": [],
   "source": [
    "all_driv_ptm_filt = all_driv_ptm.filter(items = ['accession', 'gene_name', 'mutationType', \n",
    "                                                               'mutproteinPosStart', 'AA','aminoAcidChange', \n",
    "                                                               'Varient_Count', 'MOD_RSD',\n",
    "                                                               'Specific_Samples', 'Total_Samples', 'probability', \n",
    "                                                               'specific_fraction',\n",
    "                                                               'PROTEIN', 'DOMAIN',\n",
    "                                                               'LT_LIT', 'MS_LIT', 'MS_CST', \n",
    "                                                               'type', 'residue'])"
   ]
  },
  {
   "cell_type": "code",
   "execution_count": null,
   "id": "c2471aaf",
   "metadata": {},
   "outputs": [],
   "source": [
    "all_driv_ptm_filt"
   ]
  },
  {
   "cell_type": "code",
   "execution_count": null,
   "id": "6657510a",
   "metadata": {},
   "outputs": [],
   "source": [
    "gene= 'TP53'\n",
    "aa = 110"
   ]
  },
  {
   "cell_type": "code",
   "execution_count": null,
   "id": "cdc3824e",
   "metadata": {},
   "outputs": [],
   "source": [
    "all_driv_ptm_filt.loc[(all_driv_ptm_filt['gene_name']==gene)& (all_driv_ptm_filt['mutproteinPosStart']== aa)]"
   ]
  },
  {
   "cell_type": "code",
   "execution_count": null,
   "id": "c27dd6ee",
   "metadata": {},
   "outputs": [],
   "source": [
    "\"\"\"\n",
    "save as csv Table\n",
    "\"\"\"\n",
    "cols= all_driv_ptm_filt.columns.to_list()\n",
    "all_driv_ptm_filt.to_csv('table3_extra_miss_all_driv_ptm_02_16.csv', columns= cols, index= False)"
   ]
  },
  {
   "cell_type": "code",
   "execution_count": null,
   "id": "d2068456",
   "metadata": {},
   "outputs": [],
   "source": [
    "len(all_driv_ptm_filt)"
   ]
  },
  {
   "cell_type": "code",
   "execution_count": null,
   "id": "a05f35de",
   "metadata": {},
   "outputs": [],
   "source": [
    "all_driv_ptm_filt_uniq = all_driv_ptm_filt.filter(items= ['accession', 'gene_name', 'mutationType', \n",
    "                                                               'mutproteinPosStart', 'AA','MOD_RSD',\n",
    "                                                               'Specific_Samples', 'Total_Samples', 'probability', \n",
    "                                                               'specific_fraction',\n",
    "                                                               'PROTEIN', 'DOMAIN',\n",
    "                                                               'LT_LIT', 'MS_LIT', 'MS_CST', \n",
    "                                                               'type', 'residue'])"
   ]
  },
  {
   "cell_type": "code",
   "execution_count": null,
   "id": "11349a64",
   "metadata": {},
   "outputs": [],
   "source": [
    "len(all_driv_ptm_filt_uniq)"
   ]
  },
  {
   "cell_type": "code",
   "execution_count": null,
   "id": "ca14e3a7",
   "metadata": {},
   "outputs": [],
   "source": [
    "all_driv_ptm_filt_uniq = all_driv_ptm_filt_uniq.drop_duplicates()"
   ]
  },
  {
   "cell_type": "code",
   "execution_count": null,
   "id": "88598f39",
   "metadata": {},
   "outputs": [],
   "source": [
    "all_driv_ptm_filt_uniq.head(2)"
   ]
  },
  {
   "cell_type": "code",
   "execution_count": null,
   "id": "2a70ae83",
   "metadata": {},
   "outputs": [],
   "source": [
    "\"\"\"\n",
    "save as csv Table\n",
    "\"\"\"\n",
    "cols= all_driv_ptm_filt_uniq.columns.to_list()\n",
    "all_driv_ptm_filt_uniq.to_csv('table3_extra_miss_all_driv_ptm_filt_uniq_02_15.csv', columns=cols, index= False)"
   ]
  },
  {
   "cell_type": "code",
   "execution_count": null,
   "id": "f24a397d",
   "metadata": {},
   "outputs": [],
   "source": []
  },
  {
   "cell_type": "markdown",
   "id": "957b3975",
   "metadata": {},
   "source": [
    "## Table for Pie chart - PTM distrupting misssense Drivers"
   ]
  },
  {
   "cell_type": "code",
   "execution_count": null,
   "id": "7c9a2375",
   "metadata": {},
   "outputs": [],
   "source": [
    "import pandas as pd"
   ]
  },
  {
   "cell_type": "code",
   "execution_count": null,
   "id": "a9f7ad0b",
   "metadata": {},
   "outputs": [],
   "source": [
    "\"\"\"\n",
    "open\n",
    "\"\"\"\n",
    "all_driv_ptm_filt_uniq = pd.read_csv('table3_extra_miss_all_driv_ptm_filt_uniq_02_15.csv')\n"
   ]
  },
  {
   "cell_type": "code",
   "execution_count": null,
   "id": "393c91f5",
   "metadata": {},
   "outputs": [],
   "source": [
    "all_driv_ptm_filt_uniq.head(2)"
   ]
  },
  {
   "cell_type": "code",
   "execution_count": null,
   "id": "df34ddcd",
   "metadata": {},
   "outputs": [],
   "source": [
    "\"\"\"\n",
    "PTMs distrupted by driver mutations\n",
    "\"\"\"\n",
    "all_driv_PTM_count = all_driv_ptm_filt_uniq.groupby(['type']).size().reset_index(name='PTM Count')"
   ]
  },
  {
   "cell_type": "code",
   "execution_count": null,
   "id": "6469af45",
   "metadata": {},
   "outputs": [],
   "source": [
    "all_driv_PTM_count"
   ]
  },
  {
   "cell_type": "markdown",
   "id": "4e5ec08a",
   "metadata": {},
   "source": [
    "# NRTK PTM distupting drivers"
   ]
  },
  {
   "cell_type": "code",
   "execution_count": null,
   "id": "5bedd2a7",
   "metadata": {},
   "outputs": [],
   "source": [
    "\"\"\"\n",
    "open functional PTMs\n",
    "\"\"\"\n",
    "functional_ptm_final = pd.read_csv('functional_ptm_final_v1_2022_02_05.csv', low_memory= False)"
   ]
  },
  {
   "cell_type": "code",
   "execution_count": null,
   "id": "2da474d4",
   "metadata": {},
   "outputs": [],
   "source": [
    "functional_ptm_final.head(2)"
   ]
  },
  {
   "cell_type": "code",
   "execution_count": null,
   "id": "edba6d44",
   "metadata": {},
   "outputs": [],
   "source": [
    "\"\"\"\n",
    "Open all the drivers\n",
    "\"\"\"\n",
    "pred_with_pred_df = pd.read_csv('driv_pred_final_v1_2022_02_04.csv', low_memory = False)"
   ]
  },
  {
   "cell_type": "code",
   "execution_count": null,
   "id": "8c85a9af",
   "metadata": {},
   "outputs": [],
   "source": [
    "pred_with_pred_df['specific_fraction'] = (pred_with_pred_df['Specific_Samples']/pred_with_pred_df['Total_Samples'])*100"
   ]
  },
  {
   "cell_type": "code",
   "execution_count": null,
   "id": "aeb37f9f",
   "metadata": {},
   "outputs": [],
   "source": [
    "pred_with_pred_df = pred_with_pred_df.round({'specific_fraction': 1})"
   ]
  },
  {
   "cell_type": "code",
   "execution_count": null,
   "id": "c1ccc4f0",
   "metadata": {},
   "outputs": [],
   "source": [
    "\"\"\"\n",
    "select drivers\n",
    "\"\"\"\n",
    "driver_df = pred_with_pred_df.loc[pred_with_pred_df['driver_mut']== 1]"
   ]
  },
  {
   "cell_type": "code",
   "execution_count": null,
   "id": "f23c7d5d",
   "metadata": {},
   "outputs": [],
   "source": [
    "driver_df.head(2)"
   ]
  },
  {
   "cell_type": "code",
   "execution_count": null,
   "id": "e581df63",
   "metadata": {},
   "outputs": [],
   "source": [
    "len(driver_df )"
   ]
  },
  {
   "cell_type": "code",
   "execution_count": null,
   "id": "f92654df",
   "metadata": {},
   "outputs": [],
   "source": [
    "nrtk_list = pd.read_csv('NRTK_list.csv')"
   ]
  },
  {
   "cell_type": "code",
   "execution_count": null,
   "id": "6a953258",
   "metadata": {},
   "outputs": [],
   "source": [
    "nrtk_list['HUGO symbol'] = nrtk_list['HUGO symbol'].str.upper()"
   ]
  },
  {
   "cell_type": "code",
   "execution_count": null,
   "id": "ee57e579",
   "metadata": {},
   "outputs": [],
   "source": [
    "\"\"\"Identify driver NRTKs\n",
    "\"\"\"\n",
    "driv_nrtks_df = pd.merge(nrtk_list, driver_df, left_on = 'HUGO symbol', right_on=['gene_name'])\n"
   ]
  },
  {
   "cell_type": "code",
   "execution_count": null,
   "id": "3541958d",
   "metadata": {},
   "outputs": [],
   "source": [
    "driv_nrtks_df['gene_name'].unique()"
   ]
  },
  {
   "cell_type": "code",
   "execution_count": null,
   "id": "872b92b9",
   "metadata": {},
   "outputs": [],
   "source": [
    "\"\"\"\n",
    "sort\n",
    "\"\"\"\n",
    "driv_nrtks_df = driv_nrtks_df.sort_values(by='Specific_Samples', ascending=False)"
   ]
  },
  {
   "cell_type": "code",
   "execution_count": null,
   "id": "5ecc8efd",
   "metadata": {},
   "outputs": [],
   "source": [
    "driv_nrtks_df.sort_values(by = 'probability', ascending= False)"
   ]
  },
  {
   "cell_type": "code",
   "execution_count": null,
   "id": "e8d99f52",
   "metadata": {},
   "outputs": [],
   "source": []
  },
  {
   "cell_type": "code",
   "execution_count": null,
   "id": "1f93a47d",
   "metadata": {},
   "outputs": [],
   "source": [
    "\"\"\"\n",
    "save as csv FIG\n",
    "\"\"\"\n",
    "cols=driv_nrtks_df.columns.to_list()\n",
    "driv_nrtks_df.to_csv('fig3_driv_nrtks_df_02_23.csv', columns= cols, index=False)"
   ]
  },
  {
   "cell_type": "code",
   "execution_count": null,
   "id": "e09ac351",
   "metadata": {},
   "outputs": [],
   "source": []
  },
  {
   "cell_type": "code",
   "execution_count": null,
   "id": "9101fe98",
   "metadata": {},
   "outputs": [],
   "source": []
  },
  {
   "cell_type": "code",
   "execution_count": null,
   "id": "45bcdbfb",
   "metadata": {},
   "outputs": [],
   "source": []
  },
  {
   "cell_type": "code",
   "execution_count": null,
   "id": "b68b9008",
   "metadata": {},
   "outputs": [],
   "source": []
  },
  {
   "cell_type": "code",
   "execution_count": null,
   "id": "271626ca",
   "metadata": {},
   "outputs": [],
   "source": [
    "\"\"\"\n",
    "merge nrtk_list and ptms\n",
    "\"\"\"\n",
    "nrtk_PTMs = pd.merge(nrtk_list, functional_ptm_final, left_on = ['HUGO symbol'], right_on=['GENE'])"
   ]
  },
  {
   "cell_type": "code",
   "execution_count": null,
   "id": "5f827a42",
   "metadata": {},
   "outputs": [],
   "source": [
    "nrtk_PTMs.head(2)"
   ]
  },
  {
   "cell_type": "code",
   "execution_count": null,
   "id": "2171e550",
   "metadata": {},
   "outputs": [],
   "source": [
    "nrtk_PTMs['driv_mut_type'].unique()"
   ]
  },
  {
   "cell_type": "code",
   "execution_count": null,
   "id": "a066d40c",
   "metadata": {},
   "outputs": [],
   "source": [
    "nrtk_PTMs.columns"
   ]
  },
  {
   "cell_type": "code",
   "execution_count": null,
   "id": "d750f7c8",
   "metadata": {},
   "outputs": [],
   "source": [
    "nrtk_PTMs_Misse = nrtk_PTMs.loc[nrtk_PTMs['driv_mut_type']=='Missense Mutation']"
   ]
  },
  {
   "cell_type": "code",
   "execution_count": null,
   "id": "60b0e302",
   "metadata": {},
   "outputs": [],
   "source": [
    "nrtk_PTMs_Misse"
   ]
  },
  {
   "cell_type": "code",
   "execution_count": null,
   "id": "14959339",
   "metadata": {},
   "outputs": [],
   "source": []
  },
  {
   "cell_type": "code",
   "execution_count": null,
   "id": "2404e920",
   "metadata": {},
   "outputs": [],
   "source": []
  },
  {
   "cell_type": "code",
   "execution_count": null,
   "id": "1066df04",
   "metadata": {},
   "outputs": [],
   "source": [
    "nrtk_PTMs_filt = nrtk_PTMs.filter(items= ['FAMILY', 'HUGO symbol', 'GENE', 'PROTEIN', 'ACC_ID', 'HU_CHR_LOC',\n",
    "       'MOD_RSD', 'SITE_GRP_ID', 'ORGANISM', 'MW_kD', 'DOMAIN', 'SITE_+/-7_AA',\n",
    "       'LT_LIT', 'MS_LIT', 'MS_CST', 'CST_CAT#', 'type', 'residue'])"
   ]
  },
  {
   "cell_type": "code",
   "execution_count": null,
   "id": "b9d3cd44",
   "metadata": {},
   "outputs": [],
   "source": [
    "nrtk_PTMs_filt = nrtk_PTMs_filt.drop_duplicates()"
   ]
  },
  {
   "cell_type": "code",
   "execution_count": null,
   "id": "8fd99217",
   "metadata": {},
   "outputs": [],
   "source": [
    "nrtk_PTMs_filt.head(2)"
   ]
  },
  {
   "cell_type": "code",
   "execution_count": null,
   "id": "65659f01",
   "metadata": {},
   "outputs": [],
   "source": [
    "nrtk_PTMs_filt['GENE'].unique()"
   ]
  },
  {
   "cell_type": "code",
   "execution_count": null,
   "id": "b3a2d439",
   "metadata": {},
   "outputs": [],
   "source": []
  }
 ],
 "metadata": {
  "kernelspec": {
   "display_name": "Python 3",
   "language": "python",
   "name": "python3"
  },
  "language_info": {
   "codemirror_mode": {
    "name": "ipython",
    "version": 3
   },
   "file_extension": ".py",
   "mimetype": "text/x-python",
   "name": "python",
   "nbconvert_exporter": "python",
   "pygments_lexer": "ipython3",
   "version": "3.6.9"
  }
 },
 "nbformat": 4,
 "nbformat_minor": 5
}
