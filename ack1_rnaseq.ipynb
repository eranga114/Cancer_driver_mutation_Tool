{
 "cells": [
  {
   "cell_type": "code",
   "execution_count": 1,
   "metadata": {},
   "outputs": [],
   "source": [
    "import pandas as pd"
   ]
  },
  {
   "cell_type": "code",
   "execution_count": null,
   "metadata": {},
   "outputs": [],
   "source": []
  },
  {
   "cell_type": "code",
   "execution_count": 2,
   "metadata": {},
   "outputs": [],
   "source": [
    "coad_df = pd.read_csv(\"COAD_df.csv\")"
   ]
  },
  {
   "cell_type": "code",
   "execution_count": 3,
   "metadata": {},
   "outputs": [],
   "source": [
    "\"\"\"\n",
    "TNK2 = ENSG00000061938\n",
    "filter TNK2\n",
    "\"\"\"\n",
    "coad_tnk2 = coad_df.loc[coad_df['Gene'].str.startswith('ENSG00000061938')]"
   ]
  },
  {
   "cell_type": "code",
   "execution_count": 4,
   "metadata": {},
   "outputs": [],
   "source": [
    "\"\"\"\n",
    "calculate the mean of all the genes\n",
    "\"\"\"\n",
    "\n",
    "coad_df['mean'] = coad_df.mean(axis=1)\n",
    "coad_df['median'] = coad_df.median(axis=1)"
   ]
  },
  {
   "cell_type": "code",
   "execution_count": 5,
   "metadata": {},
   "outputs": [],
   "source": [
    "# coad_df.head(2)"
   ]
  },
  {
   "cell_type": "code",
   "execution_count": 6,
   "metadata": {},
   "outputs": [
    {
     "data": {
      "text/plain": [
       "'\\nTCGA-A6-A565 - TNK2 Q571Sfs*3\\nTCGA-AD-6964 - TNK2 Q571Sfs*3\\nTCGA-G4-6586 - TNK2 D558Rfs*40\\nTCGA-F4-6856 - TNK2 Q909Rfs*2\\n'"
      ]
     },
     "execution_count": 6,
     "metadata": {},
     "output_type": "execute_result"
    }
   ],
   "source": [
    "\"\"\"\n",
    "TCGA-A6-A565 - TNK2 Q571Sfs*3\n",
    "TCGA-AD-6964 - TNK2 Q571Sfs*3\n",
    "TCGA-G4-6586 - TNK2 D558Rfs*40\n",
    "TCGA-F4-6856 - TNK2 Q909Rfs*2\n",
    "\"\"\""
   ]
  },
  {
   "cell_type": "code",
   "execution_count": 7,
   "metadata": {},
   "outputs": [],
   "source": [
    "\"\"\"\n",
    "Identify patients with ACK1 truncation (TNK2 Q571Sfs*3)\n",
    "\"\"\"\n",
    "#finds columns starts with \n",
    "columns_starting_with_TC = coad_tnk2.filter(regex='^(TCGA-G4-6586|TCGA-AD-6964|TCGA-A6-A565|TCGA-F4-6856)').columns"
   ]
  },
  {
   "cell_type": "code",
   "execution_count": 8,
   "metadata": {},
   "outputs": [],
   "source": [
    "columns_to_filter = ['Gene'] + list(columns_starting_with_TC)"
   ]
  },
  {
   "cell_type": "code",
   "execution_count": 9,
   "metadata": {},
   "outputs": [],
   "source": [
    "\"\"\"\n",
    "filter\n",
    "\"\"\"\n",
    "coad_tnk2_trunc = coad_tnk2.filter(items = columns_to_filter)"
   ]
  },
  {
   "cell_type": "code",
   "execution_count": 10,
   "metadata": {},
   "outputs": [
    {
     "data": {
      "text/html": [
       "<div>\n",
       "<style scoped>\n",
       "    .dataframe tbody tr th:only-of-type {\n",
       "        vertical-align: middle;\n",
       "    }\n",
       "\n",
       "    .dataframe tbody tr th {\n",
       "        vertical-align: top;\n",
       "    }\n",
       "\n",
       "    .dataframe thead th {\n",
       "        text-align: right;\n",
       "    }\n",
       "</style>\n",
       "<table border=\"1\" class=\"dataframe\">\n",
       "  <thead>\n",
       "    <tr style=\"text-align: right;\">\n",
       "      <th></th>\n",
       "      <th>Gene</th>\n",
       "      <th>TCGA-A6-A565-01A-31R-A28H-07</th>\n",
       "      <th>TCGA-AD-6964-01A-11R-1928-07</th>\n",
       "      <th>TCGA-F4-6856-01A-11R-1928-07</th>\n",
       "      <th>TCGA-G4-6586-01A-11R-1774-07</th>\n",
       "    </tr>\n",
       "  </thead>\n",
       "  <tbody>\n",
       "    <tr>\n",
       "      <th>835</th>\n",
       "      <td>ENSG00000061938.20</td>\n",
       "      <td>22.7127</td>\n",
       "      <td>12.3871</td>\n",
       "      <td>16.9094</td>\n",
       "      <td>26.3835</td>\n",
       "    </tr>\n",
       "  </tbody>\n",
       "</table>\n",
       "</div>"
      ],
      "text/plain": [
       "                   Gene  TCGA-A6-A565-01A-31R-A28H-07  \\\n",
       "835  ENSG00000061938.20                       22.7127   \n",
       "\n",
       "     TCGA-AD-6964-01A-11R-1928-07  TCGA-F4-6856-01A-11R-1928-07  \\\n",
       "835                       12.3871                       16.9094   \n",
       "\n",
       "     TCGA-G4-6586-01A-11R-1774-07  \n",
       "835                       26.3835  "
      ]
     },
     "execution_count": 10,
     "metadata": {},
     "output_type": "execute_result"
    }
   ],
   "source": [
    "coad_tnk2_trunc.head(2)"
   ]
  },
  {
   "cell_type": "code",
   "execution_count": 11,
   "metadata": {},
   "outputs": [],
   "source": [
    "\"\"\"\n",
    "1. transpose DF\n",
    "2. remove 1st raw\n",
    "\"\"\"\n",
    "coad_tnk2_trunc_t = coad_tnk2_trunc.T.reset_index()\n",
    "coad_tnk2_trunc_t = coad_tnk2_trunc_t.drop(0)"
   ]
  },
  {
   "cell_type": "code",
   "execution_count": 12,
   "metadata": {},
   "outputs": [
    {
     "data": {
      "text/plain": [
       "Index(['index', 835], dtype='object')"
      ]
     },
     "execution_count": 12,
     "metadata": {},
     "output_type": "execute_result"
    }
   ],
   "source": [
    "coad_tnk2_trunc_t.columns"
   ]
  },
  {
   "cell_type": "code",
   "execution_count": 13,
   "metadata": {},
   "outputs": [],
   "source": [
    "#rename \n",
    "coad_tnk2_trunc_t = coad_tnk2_trunc_t.rename(columns={'index':'ID', 835:'COAD_trunc'})"
   ]
  },
  {
   "cell_type": "code",
   "execution_count": 14,
   "metadata": {},
   "outputs": [
    {
     "data": {
      "text/html": [
       "<div>\n",
       "<style scoped>\n",
       "    .dataframe tbody tr th:only-of-type {\n",
       "        vertical-align: middle;\n",
       "    }\n",
       "\n",
       "    .dataframe tbody tr th {\n",
       "        vertical-align: top;\n",
       "    }\n",
       "\n",
       "    .dataframe thead th {\n",
       "        text-align: right;\n",
       "    }\n",
       "</style>\n",
       "<table border=\"1\" class=\"dataframe\">\n",
       "  <thead>\n",
       "    <tr style=\"text-align: right;\">\n",
       "      <th></th>\n",
       "      <th>ID</th>\n",
       "      <th>COAD_trunc</th>\n",
       "    </tr>\n",
       "  </thead>\n",
       "  <tbody>\n",
       "    <tr>\n",
       "      <th>1</th>\n",
       "      <td>TCGA-A6-A565-01A-31R-A28H-07</td>\n",
       "      <td>22.7127</td>\n",
       "    </tr>\n",
       "    <tr>\n",
       "      <th>2</th>\n",
       "      <td>TCGA-AD-6964-01A-11R-1928-07</td>\n",
       "      <td>12.3871</td>\n",
       "    </tr>\n",
       "    <tr>\n",
       "      <th>3</th>\n",
       "      <td>TCGA-F4-6856-01A-11R-1928-07</td>\n",
       "      <td>16.9094</td>\n",
       "    </tr>\n",
       "    <tr>\n",
       "      <th>4</th>\n",
       "      <td>TCGA-G4-6586-01A-11R-1774-07</td>\n",
       "      <td>26.3835</td>\n",
       "    </tr>\n",
       "  </tbody>\n",
       "</table>\n",
       "</div>"
      ],
      "text/plain": [
       "                             ID COAD_trunc\n",
       "1  TCGA-A6-A565-01A-31R-A28H-07    22.7127\n",
       "2  TCGA-AD-6964-01A-11R-1928-07    12.3871\n",
       "3  TCGA-F4-6856-01A-11R-1928-07    16.9094\n",
       "4  TCGA-G4-6586-01A-11R-1774-07    26.3835"
      ]
     },
     "execution_count": 14,
     "metadata": {},
     "output_type": "execute_result"
    }
   ],
   "source": [
    "coad_tnk2_trunc_t"
   ]
  },
  {
   "cell_type": "code",
   "execution_count": 22,
   "metadata": {},
   "outputs": [],
   "source": [
    "# create dictionary mapping IDs to labels\n",
    "id_to_label = {\n",
    "    'TCGA-A6-A565': 'Q571Sfs*3',\n",
    "    'TCGA-AD-6964': 'Q571Sfs*3',\n",
    "    'TCGA-G4-6586': 'D558Rfs*40',\n",
    "    'TCGA-F4-6856': 'Q909Rfs*2'\n",
    "}\n",
    "\n",
    "# define function to map IDs to labels\n",
    "def map_id_to_label(id):\n",
    "    for key in id_to_label:\n",
    "        if id.startswith(key):\n",
    "            return id_to_label[key]\n",
    "    return ''\n",
    "\n",
    "# apply function to create label column\n",
    "coad_tnk2_trunc_t['label'] = coad_tnk2_trunc_t['ID'].apply(map_id_to_label)\n",
    "\n",
    "\n"
   ]
  },
  {
   "cell_type": "code",
   "execution_count": 23,
   "metadata": {},
   "outputs": [
    {
     "data": {
      "text/html": [
       "<div>\n",
       "<style scoped>\n",
       "    .dataframe tbody tr th:only-of-type {\n",
       "        vertical-align: middle;\n",
       "    }\n",
       "\n",
       "    .dataframe tbody tr th {\n",
       "        vertical-align: top;\n",
       "    }\n",
       "\n",
       "    .dataframe thead th {\n",
       "        text-align: right;\n",
       "    }\n",
       "</style>\n",
       "<table border=\"1\" class=\"dataframe\">\n",
       "  <thead>\n",
       "    <tr style=\"text-align: right;\">\n",
       "      <th></th>\n",
       "      <th>ID</th>\n",
       "      <th>COAD_trunc</th>\n",
       "      <th>label</th>\n",
       "    </tr>\n",
       "  </thead>\n",
       "  <tbody>\n",
       "    <tr>\n",
       "      <th>1</th>\n",
       "      <td>TCGA-A6-A565-01A-31R-A28H-07</td>\n",
       "      <td>22.7127</td>\n",
       "      <td>Q571Sfs*3</td>\n",
       "    </tr>\n",
       "    <tr>\n",
       "      <th>2</th>\n",
       "      <td>TCGA-AD-6964-01A-11R-1928-07</td>\n",
       "      <td>12.3871</td>\n",
       "      <td>Q571Sfs*3</td>\n",
       "    </tr>\n",
       "    <tr>\n",
       "      <th>3</th>\n",
       "      <td>TCGA-F4-6856-01A-11R-1928-07</td>\n",
       "      <td>16.9094</td>\n",
       "      <td>Q909Rfs*2</td>\n",
       "    </tr>\n",
       "    <tr>\n",
       "      <th>4</th>\n",
       "      <td>TCGA-G4-6586-01A-11R-1774-07</td>\n",
       "      <td>26.3835</td>\n",
       "      <td>D558Rfs*40</td>\n",
       "    </tr>\n",
       "  </tbody>\n",
       "</table>\n",
       "</div>"
      ],
      "text/plain": [
       "                             ID COAD_trunc       label\n",
       "1  TCGA-A6-A565-01A-31R-A28H-07    22.7127   Q571Sfs*3\n",
       "2  TCGA-AD-6964-01A-11R-1928-07    12.3871   Q571Sfs*3\n",
       "3  TCGA-F4-6856-01A-11R-1928-07    16.9094   Q909Rfs*2\n",
       "4  TCGA-G4-6586-01A-11R-1774-07    26.3835  D558Rfs*40"
      ]
     },
     "execution_count": 23,
     "metadata": {},
     "output_type": "execute_result"
    }
   ],
   "source": [
    "coad_tnk2_trunc_t"
   ]
  },
  {
   "cell_type": "code",
   "execution_count": 17,
   "metadata": {},
   "outputs": [],
   "source": [
    "\"\"\"\n",
    "1. select ACK1 none truncations\n",
    "\"\"\"\n",
    "#filter columns of df1 not in df2\n",
    "cols_to_keep = coad_tnk2.columns[~coad_tnk2.columns.isin(coad_tnk2_trunc.columns)]\n",
    "coad_tnk2_no_trunc = coad_tnk2[cols_to_keep]"
   ]
  },
  {
   "cell_type": "code",
   "execution_count": 18,
   "metadata": {},
   "outputs": [],
   "source": [
    "#traspose\n",
    "coad_tnk2_no_trunc_t =  coad_tnk2_no_trunc.T.reset_index()\n",
    "#rename \n",
    "coad_tnk2_no_trunc_t = coad_tnk2_no_trunc_t.rename(columns={'index':'ID', 835:'COAD_No_trunc'})"
   ]
  },
  {
   "cell_type": "code",
   "execution_count": 33,
   "metadata": {},
   "outputs": [
    {
     "data": {
      "text/html": [
       "<div>\n",
       "<style scoped>\n",
       "    .dataframe tbody tr th:only-of-type {\n",
       "        vertical-align: middle;\n",
       "    }\n",
       "\n",
       "    .dataframe tbody tr th {\n",
       "        vertical-align: top;\n",
       "    }\n",
       "\n",
       "    .dataframe thead th {\n",
       "        text-align: right;\n",
       "    }\n",
       "</style>\n",
       "<table border=\"1\" class=\"dataframe\">\n",
       "  <thead>\n",
       "    <tr style=\"text-align: right;\">\n",
       "      <th></th>\n",
       "      <th>ID</th>\n",
       "      <th>COAD_No_trunc</th>\n",
       "    </tr>\n",
       "  </thead>\n",
       "  <tbody>\n",
       "    <tr>\n",
       "      <th>0</th>\n",
       "      <td>TCGA-D5-6540-01A-11R-1723-07</td>\n",
       "      <td>16.6020</td>\n",
       "    </tr>\n",
       "    <tr>\n",
       "      <th>1</th>\n",
       "      <td>TCGA-AA-3525-11A-01R-A32Z-07</td>\n",
       "      <td>6.9256</td>\n",
       "    </tr>\n",
       "  </tbody>\n",
       "</table>\n",
       "</div>"
      ],
      "text/plain": [
       "                             ID  COAD_No_trunc\n",
       "0  TCGA-D5-6540-01A-11R-1723-07        16.6020\n",
       "1  TCGA-AA-3525-11A-01R-A32Z-07         6.9256"
      ]
     },
     "execution_count": 33,
     "metadata": {},
     "output_type": "execute_result"
    }
   ],
   "source": [
    "coad_tnk2_no_trunc_t.head(2)"
   ]
  },
  {
   "cell_type": "code",
   "execution_count": 34,
   "metadata": {},
   "outputs": [
    {
     "data": {
      "text/plain": [
       "520"
      ]
     },
     "execution_count": 34,
     "metadata": {},
     "output_type": "execute_result"
    }
   ],
   "source": [
    "len(coad_tnk2_no_trunc_t)"
   ]
  },
  {
   "cell_type": "code",
   "execution_count": 30,
   "metadata": {},
   "outputs": [],
   "source": [
    "# concatenate dataframes vertically\n",
    "coad = pd.concat([coad_tnk2_no_trunc_t, coad_tnk2_trunc_t]).reset_index(drop=True)"
   ]
  },
  {
   "cell_type": "code",
   "execution_count": 31,
   "metadata": {},
   "outputs": [
    {
     "data": {
      "text/html": [
       "<div>\n",
       "<style scoped>\n",
       "    .dataframe tbody tr th:only-of-type {\n",
       "        vertical-align: middle;\n",
       "    }\n",
       "\n",
       "    .dataframe tbody tr th {\n",
       "        vertical-align: top;\n",
       "    }\n",
       "\n",
       "    .dataframe thead th {\n",
       "        text-align: right;\n",
       "    }\n",
       "</style>\n",
       "<table border=\"1\" class=\"dataframe\">\n",
       "  <thead>\n",
       "    <tr style=\"text-align: right;\">\n",
       "      <th></th>\n",
       "      <th>ID</th>\n",
       "      <th>COAD_No_trunc</th>\n",
       "      <th>COAD_trunc</th>\n",
       "      <th>label</th>\n",
       "    </tr>\n",
       "  </thead>\n",
       "  <tbody>\n",
       "    <tr>\n",
       "      <th>0</th>\n",
       "      <td>TCGA-D5-6540-01A-11R-1723-07</td>\n",
       "      <td>16.6020</td>\n",
       "      <td>NaN</td>\n",
       "      <td>NaN</td>\n",
       "    </tr>\n",
       "    <tr>\n",
       "      <th>1</th>\n",
       "      <td>TCGA-AA-3525-11A-01R-A32Z-07</td>\n",
       "      <td>6.9256</td>\n",
       "      <td>NaN</td>\n",
       "      <td>NaN</td>\n",
       "    </tr>\n",
       "    <tr>\n",
       "      <th>2</th>\n",
       "      <td>TCGA-AA-3525-01A-02R-0826-07</td>\n",
       "      <td>6.8027</td>\n",
       "      <td>NaN</td>\n",
       "      <td>NaN</td>\n",
       "    </tr>\n",
       "    <tr>\n",
       "      <th>3</th>\n",
       "      <td>TCGA-AA-3815-01A-01R-1022-07</td>\n",
       "      <td>23.4176</td>\n",
       "      <td>NaN</td>\n",
       "      <td>NaN</td>\n",
       "    </tr>\n",
       "    <tr>\n",
       "      <th>4</th>\n",
       "      <td>TCGA-D5-6923-01A-11R-A32Z-07</td>\n",
       "      <td>19.7164</td>\n",
       "      <td>NaN</td>\n",
       "      <td>NaN</td>\n",
       "    </tr>\n",
       "    <tr>\n",
       "      <th>...</th>\n",
       "      <td>...</td>\n",
       "      <td>...</td>\n",
       "      <td>...</td>\n",
       "      <td>...</td>\n",
       "    </tr>\n",
       "    <tr>\n",
       "      <th>519</th>\n",
       "      <td>TCGA-AA-3814-01A-01R-0905-07</td>\n",
       "      <td>7.2063</td>\n",
       "      <td>NaN</td>\n",
       "      <td>NaN</td>\n",
       "    </tr>\n",
       "    <tr>\n",
       "      <th>520</th>\n",
       "      <td>TCGA-A6-A565-01A-31R-A28H-07</td>\n",
       "      <td>NaN</td>\n",
       "      <td>22.7127</td>\n",
       "      <td>Q571Sfs*3</td>\n",
       "    </tr>\n",
       "    <tr>\n",
       "      <th>521</th>\n",
       "      <td>TCGA-AD-6964-01A-11R-1928-07</td>\n",
       "      <td>NaN</td>\n",
       "      <td>12.3871</td>\n",
       "      <td>Q571Sfs*3</td>\n",
       "    </tr>\n",
       "    <tr>\n",
       "      <th>522</th>\n",
       "      <td>TCGA-F4-6856-01A-11R-1928-07</td>\n",
       "      <td>NaN</td>\n",
       "      <td>16.9094</td>\n",
       "      <td>Q909Rfs*2</td>\n",
       "    </tr>\n",
       "    <tr>\n",
       "      <th>523</th>\n",
       "      <td>TCGA-G4-6586-01A-11R-1774-07</td>\n",
       "      <td>NaN</td>\n",
       "      <td>26.3835</td>\n",
       "      <td>D558Rfs*40</td>\n",
       "    </tr>\n",
       "  </tbody>\n",
       "</table>\n",
       "<p>524 rows × 4 columns</p>\n",
       "</div>"
      ],
      "text/plain": [
       "                               ID  COAD_No_trunc COAD_trunc       label\n",
       "0    TCGA-D5-6540-01A-11R-1723-07        16.6020        NaN         NaN\n",
       "1    TCGA-AA-3525-11A-01R-A32Z-07         6.9256        NaN         NaN\n",
       "2    TCGA-AA-3525-01A-02R-0826-07         6.8027        NaN         NaN\n",
       "3    TCGA-AA-3815-01A-01R-1022-07        23.4176        NaN         NaN\n",
       "4    TCGA-D5-6923-01A-11R-A32Z-07        19.7164        NaN         NaN\n",
       "..                            ...            ...        ...         ...\n",
       "519  TCGA-AA-3814-01A-01R-0905-07         7.2063        NaN         NaN\n",
       "520  TCGA-A6-A565-01A-31R-A28H-07            NaN    22.7127   Q571Sfs*3\n",
       "521  TCGA-AD-6964-01A-11R-1928-07            NaN    12.3871   Q571Sfs*3\n",
       "522  TCGA-F4-6856-01A-11R-1928-07            NaN    16.9094   Q909Rfs*2\n",
       "523  TCGA-G4-6586-01A-11R-1774-07            NaN    26.3835  D558Rfs*40\n",
       "\n",
       "[524 rows x 4 columns]"
      ]
     },
     "execution_count": 31,
     "metadata": {},
     "output_type": "execute_result"
    }
   ],
   "source": [
    "coad"
   ]
  },
  {
   "cell_type": "markdown",
   "metadata": {},
   "source": [
    "# STAD"
   ]
  },
  {
   "cell_type": "code",
   "execution_count": 36,
   "metadata": {},
   "outputs": [],
   "source": [
    "stad_df = pd.read_csv(\"TCGA-STAD_df.csv\")"
   ]
  },
  {
   "cell_type": "code",
   "execution_count": 37,
   "metadata": {},
   "outputs": [],
   "source": [
    "\"\"\"\n",
    "TNK2 = ENSG00000061938\n",
    "filter TNK2\n",
    "\"\"\"\n",
    "stad_tnk2 = stad_df.loc[stad_df['Gene'].str.startswith('ENSG00000061938')]"
   ]
  },
  {
   "cell_type": "code",
   "execution_count": null,
   "metadata": {},
   "outputs": [],
   "source": [
    "\"\"\"\n",
    "TCGA-BR-8078 - TNK2 Q909Rfs*2\n",
    "TCGA-VQ-A8PT - TNK2 Q909Rfs*2\n",
    "TCGA-RD-A8NB - TNK2 331*\n",
    "\n",
    "\"\"\""
   ]
  },
  {
   "cell_type": "code",
   "execution_count": 47,
   "metadata": {},
   "outputs": [],
   "source": [
    "\"\"\"\n",
    "Identify patients with ACK1 truncation\n",
    "\"\"\"\n",
    "#finds columns starts with \n",
    "columns_starting_with_TC_stad = stad_tnk2.filter(regex='^(TCGA-VQ-A8PT|TCGA-BR-8078|TCGA-RD-A8NB)').columns"
   ]
  },
  {
   "cell_type": "code",
   "execution_count": 48,
   "metadata": {},
   "outputs": [
    {
     "data": {
      "text/plain": [
       "Index(['TCGA-RD-A8NB-01A-12R-A39E-31', 'TCGA-BR-8078-01A-11R-2343-13'], dtype='object')"
      ]
     },
     "execution_count": 48,
     "metadata": {},
     "output_type": "execute_result"
    }
   ],
   "source": [
    "columns_starting_with_TC_stad"
   ]
  },
  {
   "cell_type": "code",
   "execution_count": 43,
   "metadata": {},
   "outputs": [],
   "source": [
    "columns_to_filter_stad = ['Gene'] + list(columns_starting_with_TC_stad)"
   ]
  },
  {
   "cell_type": "code",
   "execution_count": 44,
   "metadata": {},
   "outputs": [],
   "source": [
    "\"\"\"\n",
    "filter\n",
    "\"\"\"\n",
    "stad_tnk2_trunc = stad_tnk2.filter(items = columns_to_filter_stad)"
   ]
  },
  {
   "cell_type": "code",
   "execution_count": 45,
   "metadata": {},
   "outputs": [
    {
     "data": {
      "text/html": [
       "<div>\n",
       "<style scoped>\n",
       "    .dataframe tbody tr th:only-of-type {\n",
       "        vertical-align: middle;\n",
       "    }\n",
       "\n",
       "    .dataframe tbody tr th {\n",
       "        vertical-align: top;\n",
       "    }\n",
       "\n",
       "    .dataframe thead th {\n",
       "        text-align: right;\n",
       "    }\n",
       "</style>\n",
       "<table border=\"1\" class=\"dataframe\">\n",
       "  <thead>\n",
       "    <tr style=\"text-align: right;\">\n",
       "      <th></th>\n",
       "      <th>Gene</th>\n",
       "      <th>TCGA-RD-A8NB-01A-12R-A39E-31</th>\n",
       "      <th>TCGA-BR-8078-01A-11R-2343-13</th>\n",
       "    </tr>\n",
       "  </thead>\n",
       "  <tbody>\n",
       "    <tr>\n",
       "      <th>835</th>\n",
       "      <td>ENSG00000061938.20</td>\n",
       "      <td>24.2963</td>\n",
       "      <td>22.5231</td>\n",
       "    </tr>\n",
       "  </tbody>\n",
       "</table>\n",
       "</div>"
      ],
      "text/plain": [
       "                   Gene  TCGA-RD-A8NB-01A-12R-A39E-31  \\\n",
       "835  ENSG00000061938.20                       24.2963   \n",
       "\n",
       "     TCGA-BR-8078-01A-11R-2343-13  \n",
       "835                       22.5231  "
      ]
     },
     "execution_count": 45,
     "metadata": {},
     "output_type": "execute_result"
    }
   ],
   "source": [
    "stad_tnk2_trunc"
   ]
  },
  {
   "cell_type": "code",
   "execution_count": 51,
   "metadata": {},
   "outputs": [],
   "source": [
    "\"\"\"\n",
    "1. transpose DF\n",
    "2. remove 1st raw\n",
    "\"\"\"\n",
    "stad_tnk2_trunc_t = stad_tnk2_trunc.T.reset_index()\n",
    "stad_tnk2_trunc_t = stad_tnk2_trunc_t.drop(0)\n",
    "#rename \n",
    "stad_tnk2_trunc_t = stad_tnk2_trunc_t.rename(columns={'index':'ID', 835:'STAD_trunc'})"
   ]
  },
  {
   "cell_type": "code",
   "execution_count": 52,
   "metadata": {},
   "outputs": [
    {
     "data": {
      "text/html": [
       "<div>\n",
       "<style scoped>\n",
       "    .dataframe tbody tr th:only-of-type {\n",
       "        vertical-align: middle;\n",
       "    }\n",
       "\n",
       "    .dataframe tbody tr th {\n",
       "        vertical-align: top;\n",
       "    }\n",
       "\n",
       "    .dataframe thead th {\n",
       "        text-align: right;\n",
       "    }\n",
       "</style>\n",
       "<table border=\"1\" class=\"dataframe\">\n",
       "  <thead>\n",
       "    <tr style=\"text-align: right;\">\n",
       "      <th></th>\n",
       "      <th>ID</th>\n",
       "      <th>STAD_trunc</th>\n",
       "    </tr>\n",
       "  </thead>\n",
       "  <tbody>\n",
       "    <tr>\n",
       "      <th>1</th>\n",
       "      <td>TCGA-RD-A8NB-01A-12R-A39E-31</td>\n",
       "      <td>24.2963</td>\n",
       "    </tr>\n",
       "    <tr>\n",
       "      <th>2</th>\n",
       "      <td>TCGA-BR-8078-01A-11R-2343-13</td>\n",
       "      <td>22.5231</td>\n",
       "    </tr>\n",
       "  </tbody>\n",
       "</table>\n",
       "</div>"
      ],
      "text/plain": [
       "                             ID STAD_trunc\n",
       "1  TCGA-RD-A8NB-01A-12R-A39E-31    24.2963\n",
       "2  TCGA-BR-8078-01A-11R-2343-13    22.5231"
      ]
     },
     "execution_count": 52,
     "metadata": {},
     "output_type": "execute_result"
    }
   ],
   "source": [
    "stad_tnk2_trunc_t"
   ]
  },
  {
   "cell_type": "code",
   "execution_count": 53,
   "metadata": {},
   "outputs": [],
   "source": [
    "# create dictionary mapping IDs to labels\n",
    "id_to_label = {\n",
    "    'TCGA-BR-8078': 'Q909Rfs*2',\n",
    "    'TCGA-VQ-A8PT': 'Q909Rfs*2',\n",
    "    'TCGA-RD-A8NB': '331*'\n",
    "}\n",
    "\n",
    "# define function to map IDs to labels\n",
    "def map_id_to_label(id):\n",
    "    for key in id_to_label:\n",
    "        if id.startswith(key):\n",
    "            return id_to_label[key]\n",
    "    return ''\n",
    "\n",
    "# apply function to create label column\n",
    "stad_tnk2_trunc_t['label'] = stad_tnk2_trunc_t['ID'].apply(map_id_to_label)\n",
    "\n",
    "\n"
   ]
  },
  {
   "cell_type": "code",
   "execution_count": 54,
   "metadata": {},
   "outputs": [
    {
     "data": {
      "text/html": [
       "<div>\n",
       "<style scoped>\n",
       "    .dataframe tbody tr th:only-of-type {\n",
       "        vertical-align: middle;\n",
       "    }\n",
       "\n",
       "    .dataframe tbody tr th {\n",
       "        vertical-align: top;\n",
       "    }\n",
       "\n",
       "    .dataframe thead th {\n",
       "        text-align: right;\n",
       "    }\n",
       "</style>\n",
       "<table border=\"1\" class=\"dataframe\">\n",
       "  <thead>\n",
       "    <tr style=\"text-align: right;\">\n",
       "      <th></th>\n",
       "      <th>ID</th>\n",
       "      <th>STAD_trunc</th>\n",
       "      <th>label</th>\n",
       "    </tr>\n",
       "  </thead>\n",
       "  <tbody>\n",
       "    <tr>\n",
       "      <th>1</th>\n",
       "      <td>TCGA-RD-A8NB-01A-12R-A39E-31</td>\n",
       "      <td>24.2963</td>\n",
       "      <td>331*</td>\n",
       "    </tr>\n",
       "    <tr>\n",
       "      <th>2</th>\n",
       "      <td>TCGA-BR-8078-01A-11R-2343-13</td>\n",
       "      <td>22.5231</td>\n",
       "      <td>Q909Rfs*2</td>\n",
       "    </tr>\n",
       "  </tbody>\n",
       "</table>\n",
       "</div>"
      ],
      "text/plain": [
       "                             ID STAD_trunc      label\n",
       "1  TCGA-RD-A8NB-01A-12R-A39E-31    24.2963       331*\n",
       "2  TCGA-BR-8078-01A-11R-2343-13    22.5231  Q909Rfs*2"
      ]
     },
     "execution_count": 54,
     "metadata": {},
     "output_type": "execute_result"
    }
   ],
   "source": [
    "stad_tnk2_trunc_t"
   ]
  },
  {
   "cell_type": "code",
   "execution_count": 55,
   "metadata": {},
   "outputs": [],
   "source": [
    "\"\"\"\n",
    "1. select ACK1 none truncations\n",
    "\"\"\"\n",
    "#filter columns of df1 not in df2\n",
    "cols_to_keep = stad_tnk2.columns[~stad_tnk2.columns.isin(stad_tnk2_trunc.columns)]\n",
    "stad_tnk2_no_trunc = stad_tnk2[cols_to_keep]"
   ]
  },
  {
   "cell_type": "code",
   "execution_count": 57,
   "metadata": {},
   "outputs": [],
   "source": [
    "#traspose\n",
    "stad_tnk2_no_trunc_t =  stad_tnk2_no_trunc.T.reset_index()\n",
    "#rename \n",
    "stad_tnk2_no_trunc_t = stad_tnk2_no_trunc_t.rename(columns={'index':'ID', 835:'STAD_No_trunc'})"
   ]
  },
  {
   "cell_type": "code",
   "execution_count": 58,
   "metadata": {},
   "outputs": [
    {
     "data": {
      "text/html": [
       "<div>\n",
       "<style scoped>\n",
       "    .dataframe tbody tr th:only-of-type {\n",
       "        vertical-align: middle;\n",
       "    }\n",
       "\n",
       "    .dataframe tbody tr th {\n",
       "        vertical-align: top;\n",
       "    }\n",
       "\n",
       "    .dataframe thead th {\n",
       "        text-align: right;\n",
       "    }\n",
       "</style>\n",
       "<table border=\"1\" class=\"dataframe\">\n",
       "  <thead>\n",
       "    <tr style=\"text-align: right;\">\n",
       "      <th></th>\n",
       "      <th>ID</th>\n",
       "      <th>STAD_No_trunc</th>\n",
       "    </tr>\n",
       "  </thead>\n",
       "  <tbody>\n",
       "    <tr>\n",
       "      <th>0</th>\n",
       "      <td>TCGA-BR-8362-01A-11R-2343-13</td>\n",
       "      <td>14.0465</td>\n",
       "    </tr>\n",
       "    <tr>\n",
       "      <th>1</th>\n",
       "      <td>TCGA-3M-AB46-01A-11R-A414-31</td>\n",
       "      <td>4.6331</td>\n",
       "    </tr>\n",
       "    <tr>\n",
       "      <th>2</th>\n",
       "      <td>TCGA-BR-4357-01A-01R-1157-13</td>\n",
       "      <td>11.7281</td>\n",
       "    </tr>\n",
       "    <tr>\n",
       "      <th>3</th>\n",
       "      <td>TCGA-D7-A748-01A-12R-A32D-31</td>\n",
       "      <td>8.6376</td>\n",
       "    </tr>\n",
       "    <tr>\n",
       "      <th>4</th>\n",
       "      <td>TCGA-CD-A487-01A-21R-A24K-31</td>\n",
       "      <td>15.4969</td>\n",
       "    </tr>\n",
       "    <tr>\n",
       "      <th>...</th>\n",
       "      <td>...</td>\n",
       "      <td>...</td>\n",
       "    </tr>\n",
       "    <tr>\n",
       "      <th>441</th>\n",
       "      <td>TCGA-CD-A48C-01A-11R-A24K-31</td>\n",
       "      <td>30.2312</td>\n",
       "    </tr>\n",
       "    <tr>\n",
       "      <th>442</th>\n",
       "      <td>TCGA-HU-A4GN-11A-12R-A251-31</td>\n",
       "      <td>9.9068</td>\n",
       "    </tr>\n",
       "    <tr>\n",
       "      <th>443</th>\n",
       "      <td>TCGA-HU-A4GP-01A-11R-A251-31</td>\n",
       "      <td>38.6135</td>\n",
       "    </tr>\n",
       "    <tr>\n",
       "      <th>444</th>\n",
       "      <td>TCGA-HU-A4GP-11A-21R-A251-31</td>\n",
       "      <td>9.9396</td>\n",
       "    </tr>\n",
       "    <tr>\n",
       "      <th>445</th>\n",
       "      <td>TCGA-IN-A7NR-01A-11R-A354-31</td>\n",
       "      <td>7.6221</td>\n",
       "    </tr>\n",
       "  </tbody>\n",
       "</table>\n",
       "<p>446 rows × 2 columns</p>\n",
       "</div>"
      ],
      "text/plain": [
       "                               ID  STAD_No_trunc\n",
       "0    TCGA-BR-8362-01A-11R-2343-13        14.0465\n",
       "1    TCGA-3M-AB46-01A-11R-A414-31         4.6331\n",
       "2    TCGA-BR-4357-01A-01R-1157-13        11.7281\n",
       "3    TCGA-D7-A748-01A-12R-A32D-31         8.6376\n",
       "4    TCGA-CD-A487-01A-21R-A24K-31        15.4969\n",
       "..                            ...            ...\n",
       "441  TCGA-CD-A48C-01A-11R-A24K-31        30.2312\n",
       "442  TCGA-HU-A4GN-11A-12R-A251-31         9.9068\n",
       "443  TCGA-HU-A4GP-01A-11R-A251-31        38.6135\n",
       "444  TCGA-HU-A4GP-11A-21R-A251-31         9.9396\n",
       "445  TCGA-IN-A7NR-01A-11R-A354-31         7.6221\n",
       "\n",
       "[446 rows x 2 columns]"
      ]
     },
     "execution_count": 58,
     "metadata": {},
     "output_type": "execute_result"
    }
   ],
   "source": [
    "stad_tnk2_no_trunc_t"
   ]
  },
  {
   "cell_type": "code",
   "execution_count": 59,
   "metadata": {},
   "outputs": [],
   "source": [
    "# concatenate dataframes vertically\n",
    "stad = pd.concat([stad_tnk2_no_trunc_t, stad_tnk2_trunc_t]).reset_index(drop=True)"
   ]
  },
  {
   "cell_type": "code",
   "execution_count": 60,
   "metadata": {},
   "outputs": [
    {
     "data": {
      "text/html": [
       "<div>\n",
       "<style scoped>\n",
       "    .dataframe tbody tr th:only-of-type {\n",
       "        vertical-align: middle;\n",
       "    }\n",
       "\n",
       "    .dataframe tbody tr th {\n",
       "        vertical-align: top;\n",
       "    }\n",
       "\n",
       "    .dataframe thead th {\n",
       "        text-align: right;\n",
       "    }\n",
       "</style>\n",
       "<table border=\"1\" class=\"dataframe\">\n",
       "  <thead>\n",
       "    <tr style=\"text-align: right;\">\n",
       "      <th></th>\n",
       "      <th>ID</th>\n",
       "      <th>STAD_No_trunc</th>\n",
       "      <th>STAD_trunc</th>\n",
       "      <th>label</th>\n",
       "    </tr>\n",
       "  </thead>\n",
       "  <tbody>\n",
       "    <tr>\n",
       "      <th>0</th>\n",
       "      <td>TCGA-BR-8362-01A-11R-2343-13</td>\n",
       "      <td>14.0465</td>\n",
       "      <td>NaN</td>\n",
       "      <td>NaN</td>\n",
       "    </tr>\n",
       "    <tr>\n",
       "      <th>1</th>\n",
       "      <td>TCGA-3M-AB46-01A-11R-A414-31</td>\n",
       "      <td>4.6331</td>\n",
       "      <td>NaN</td>\n",
       "      <td>NaN</td>\n",
       "    </tr>\n",
       "    <tr>\n",
       "      <th>2</th>\n",
       "      <td>TCGA-BR-4357-01A-01R-1157-13</td>\n",
       "      <td>11.7281</td>\n",
       "      <td>NaN</td>\n",
       "      <td>NaN</td>\n",
       "    </tr>\n",
       "    <tr>\n",
       "      <th>3</th>\n",
       "      <td>TCGA-D7-A748-01A-12R-A32D-31</td>\n",
       "      <td>8.6376</td>\n",
       "      <td>NaN</td>\n",
       "      <td>NaN</td>\n",
       "    </tr>\n",
       "    <tr>\n",
       "      <th>4</th>\n",
       "      <td>TCGA-CD-A487-01A-21R-A24K-31</td>\n",
       "      <td>15.4969</td>\n",
       "      <td>NaN</td>\n",
       "      <td>NaN</td>\n",
       "    </tr>\n",
       "    <tr>\n",
       "      <th>...</th>\n",
       "      <td>...</td>\n",
       "      <td>...</td>\n",
       "      <td>...</td>\n",
       "      <td>...</td>\n",
       "    </tr>\n",
       "    <tr>\n",
       "      <th>443</th>\n",
       "      <td>TCGA-HU-A4GP-01A-11R-A251-31</td>\n",
       "      <td>38.6135</td>\n",
       "      <td>NaN</td>\n",
       "      <td>NaN</td>\n",
       "    </tr>\n",
       "    <tr>\n",
       "      <th>444</th>\n",
       "      <td>TCGA-HU-A4GP-11A-21R-A251-31</td>\n",
       "      <td>9.9396</td>\n",
       "      <td>NaN</td>\n",
       "      <td>NaN</td>\n",
       "    </tr>\n",
       "    <tr>\n",
       "      <th>445</th>\n",
       "      <td>TCGA-IN-A7NR-01A-11R-A354-31</td>\n",
       "      <td>7.6221</td>\n",
       "      <td>NaN</td>\n",
       "      <td>NaN</td>\n",
       "    </tr>\n",
       "    <tr>\n",
       "      <th>446</th>\n",
       "      <td>TCGA-RD-A8NB-01A-12R-A39E-31</td>\n",
       "      <td>NaN</td>\n",
       "      <td>24.2963</td>\n",
       "      <td>331*</td>\n",
       "    </tr>\n",
       "    <tr>\n",
       "      <th>447</th>\n",
       "      <td>TCGA-BR-8078-01A-11R-2343-13</td>\n",
       "      <td>NaN</td>\n",
       "      <td>22.5231</td>\n",
       "      <td>Q909Rfs*2</td>\n",
       "    </tr>\n",
       "  </tbody>\n",
       "</table>\n",
       "<p>448 rows × 4 columns</p>\n",
       "</div>"
      ],
      "text/plain": [
       "                               ID  STAD_No_trunc STAD_trunc      label\n",
       "0    TCGA-BR-8362-01A-11R-2343-13        14.0465        NaN        NaN\n",
       "1    TCGA-3M-AB46-01A-11R-A414-31         4.6331        NaN        NaN\n",
       "2    TCGA-BR-4357-01A-01R-1157-13        11.7281        NaN        NaN\n",
       "3    TCGA-D7-A748-01A-12R-A32D-31         8.6376        NaN        NaN\n",
       "4    TCGA-CD-A487-01A-21R-A24K-31        15.4969        NaN        NaN\n",
       "..                            ...            ...        ...        ...\n",
       "443  TCGA-HU-A4GP-01A-11R-A251-31        38.6135        NaN        NaN\n",
       "444  TCGA-HU-A4GP-11A-21R-A251-31         9.9396        NaN        NaN\n",
       "445  TCGA-IN-A7NR-01A-11R-A354-31         7.6221        NaN        NaN\n",
       "446  TCGA-RD-A8NB-01A-12R-A39E-31            NaN    24.2963       331*\n",
       "447  TCGA-BR-8078-01A-11R-2343-13            NaN    22.5231  Q909Rfs*2\n",
       "\n",
       "[448 rows x 4 columns]"
      ]
     },
     "execution_count": 60,
     "metadata": {},
     "output_type": "execute_result"
    }
   ],
   "source": [
    "stad"
   ]
  },
  {
   "cell_type": "code",
   "execution_count": 61,
   "metadata": {},
   "outputs": [],
   "source": [
    "# concatenate dataframes vertically\n",
    "stad_coad = pd.concat([stad, coad]).reset_index(drop=True)"
   ]
  },
  {
   "cell_type": "code",
   "execution_count": 62,
   "metadata": {},
   "outputs": [
    {
     "data": {
      "text/html": [
       "<div>\n",
       "<style scoped>\n",
       "    .dataframe tbody tr th:only-of-type {\n",
       "        vertical-align: middle;\n",
       "    }\n",
       "\n",
       "    .dataframe tbody tr th {\n",
       "        vertical-align: top;\n",
       "    }\n",
       "\n",
       "    .dataframe thead th {\n",
       "        text-align: right;\n",
       "    }\n",
       "</style>\n",
       "<table border=\"1\" class=\"dataframe\">\n",
       "  <thead>\n",
       "    <tr style=\"text-align: right;\">\n",
       "      <th></th>\n",
       "      <th>ID</th>\n",
       "      <th>STAD_No_trunc</th>\n",
       "      <th>STAD_trunc</th>\n",
       "      <th>label</th>\n",
       "      <th>COAD_No_trunc</th>\n",
       "      <th>COAD_trunc</th>\n",
       "    </tr>\n",
       "  </thead>\n",
       "  <tbody>\n",
       "    <tr>\n",
       "      <th>0</th>\n",
       "      <td>TCGA-BR-8362-01A-11R-2343-13</td>\n",
       "      <td>14.0465</td>\n",
       "      <td>NaN</td>\n",
       "      <td>NaN</td>\n",
       "      <td>NaN</td>\n",
       "      <td>NaN</td>\n",
       "    </tr>\n",
       "    <tr>\n",
       "      <th>1</th>\n",
       "      <td>TCGA-3M-AB46-01A-11R-A414-31</td>\n",
       "      <td>4.6331</td>\n",
       "      <td>NaN</td>\n",
       "      <td>NaN</td>\n",
       "      <td>NaN</td>\n",
       "      <td>NaN</td>\n",
       "    </tr>\n",
       "    <tr>\n",
       "      <th>2</th>\n",
       "      <td>TCGA-BR-4357-01A-01R-1157-13</td>\n",
       "      <td>11.7281</td>\n",
       "      <td>NaN</td>\n",
       "      <td>NaN</td>\n",
       "      <td>NaN</td>\n",
       "      <td>NaN</td>\n",
       "    </tr>\n",
       "    <tr>\n",
       "      <th>3</th>\n",
       "      <td>TCGA-D7-A748-01A-12R-A32D-31</td>\n",
       "      <td>8.6376</td>\n",
       "      <td>NaN</td>\n",
       "      <td>NaN</td>\n",
       "      <td>NaN</td>\n",
       "      <td>NaN</td>\n",
       "    </tr>\n",
       "    <tr>\n",
       "      <th>4</th>\n",
       "      <td>TCGA-CD-A487-01A-21R-A24K-31</td>\n",
       "      <td>15.4969</td>\n",
       "      <td>NaN</td>\n",
       "      <td>NaN</td>\n",
       "      <td>NaN</td>\n",
       "      <td>NaN</td>\n",
       "    </tr>\n",
       "    <tr>\n",
       "      <th>...</th>\n",
       "      <td>...</td>\n",
       "      <td>...</td>\n",
       "      <td>...</td>\n",
       "      <td>...</td>\n",
       "      <td>...</td>\n",
       "      <td>...</td>\n",
       "    </tr>\n",
       "    <tr>\n",
       "      <th>967</th>\n",
       "      <td>TCGA-AA-3814-01A-01R-0905-07</td>\n",
       "      <td>NaN</td>\n",
       "      <td>NaN</td>\n",
       "      <td>NaN</td>\n",
       "      <td>7.2063</td>\n",
       "      <td>NaN</td>\n",
       "    </tr>\n",
       "    <tr>\n",
       "      <th>968</th>\n",
       "      <td>TCGA-A6-A565-01A-31R-A28H-07</td>\n",
       "      <td>NaN</td>\n",
       "      <td>NaN</td>\n",
       "      <td>Q571Sfs*3</td>\n",
       "      <td>NaN</td>\n",
       "      <td>22.7127</td>\n",
       "    </tr>\n",
       "    <tr>\n",
       "      <th>969</th>\n",
       "      <td>TCGA-AD-6964-01A-11R-1928-07</td>\n",
       "      <td>NaN</td>\n",
       "      <td>NaN</td>\n",
       "      <td>Q571Sfs*3</td>\n",
       "      <td>NaN</td>\n",
       "      <td>12.3871</td>\n",
       "    </tr>\n",
       "    <tr>\n",
       "      <th>970</th>\n",
       "      <td>TCGA-F4-6856-01A-11R-1928-07</td>\n",
       "      <td>NaN</td>\n",
       "      <td>NaN</td>\n",
       "      <td>Q909Rfs*2</td>\n",
       "      <td>NaN</td>\n",
       "      <td>16.9094</td>\n",
       "    </tr>\n",
       "    <tr>\n",
       "      <th>971</th>\n",
       "      <td>TCGA-G4-6586-01A-11R-1774-07</td>\n",
       "      <td>NaN</td>\n",
       "      <td>NaN</td>\n",
       "      <td>D558Rfs*40</td>\n",
       "      <td>NaN</td>\n",
       "      <td>26.3835</td>\n",
       "    </tr>\n",
       "  </tbody>\n",
       "</table>\n",
       "<p>972 rows × 6 columns</p>\n",
       "</div>"
      ],
      "text/plain": [
       "                               ID  STAD_No_trunc STAD_trunc       label  \\\n",
       "0    TCGA-BR-8362-01A-11R-2343-13        14.0465        NaN         NaN   \n",
       "1    TCGA-3M-AB46-01A-11R-A414-31         4.6331        NaN         NaN   \n",
       "2    TCGA-BR-4357-01A-01R-1157-13        11.7281        NaN         NaN   \n",
       "3    TCGA-D7-A748-01A-12R-A32D-31         8.6376        NaN         NaN   \n",
       "4    TCGA-CD-A487-01A-21R-A24K-31        15.4969        NaN         NaN   \n",
       "..                            ...            ...        ...         ...   \n",
       "967  TCGA-AA-3814-01A-01R-0905-07            NaN        NaN         NaN   \n",
       "968  TCGA-A6-A565-01A-31R-A28H-07            NaN        NaN   Q571Sfs*3   \n",
       "969  TCGA-AD-6964-01A-11R-1928-07            NaN        NaN   Q571Sfs*3   \n",
       "970  TCGA-F4-6856-01A-11R-1928-07            NaN        NaN   Q909Rfs*2   \n",
       "971  TCGA-G4-6586-01A-11R-1774-07            NaN        NaN  D558Rfs*40   \n",
       "\n",
       "     COAD_No_trunc COAD_trunc  \n",
       "0              NaN        NaN  \n",
       "1              NaN        NaN  \n",
       "2              NaN        NaN  \n",
       "3              NaN        NaN  \n",
       "4              NaN        NaN  \n",
       "..             ...        ...  \n",
       "967         7.2063        NaN  \n",
       "968            NaN    22.7127  \n",
       "969            NaN    12.3871  \n",
       "970            NaN    16.9094  \n",
       "971            NaN    26.3835  \n",
       "\n",
       "[972 rows x 6 columns]"
      ]
     },
     "execution_count": 62,
     "metadata": {},
     "output_type": "execute_result"
    }
   ],
   "source": [
    "stad_coad"
   ]
  },
  {
   "cell_type": "code",
   "execution_count": 63,
   "metadata": {},
   "outputs": [],
   "source": [
    "\"\"\"\n",
    "Save as csv\n",
    "\"\"\"\n",
    "cols=stad_coad.columns.to_list()\n",
    "stad_coad.to_csv('stad_coad.csv', columns= cols, index= False)"
   ]
  }
 ],
 "metadata": {
  "kernelspec": {
   "display_name": "Python 3",
   "language": "python",
   "name": "python3"
  },
  "language_info": {
   "codemirror_mode": {
    "name": "ipython",
    "version": 3
   },
   "file_extension": ".py",
   "mimetype": "text/x-python",
   "name": "python",
   "nbconvert_exporter": "python",
   "pygments_lexer": "ipython3",
   "version": "3.8.5"
  }
 },
 "nbformat": 4,
 "nbformat_minor": 4
}
